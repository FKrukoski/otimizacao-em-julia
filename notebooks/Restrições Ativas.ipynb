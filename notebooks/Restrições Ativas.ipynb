{
 "cells": [
  {
   "cell_type": "code",
   "execution_count": 1,
   "metadata": {},
   "outputs": [
    {
     "name": "stderr",
     "output_type": "stream",
     "text": [
      "\u001b[32m\u001b[1m Activating\u001b[22m\u001b[39m environment at `~/Documents/otimizacao-em-julia/notebooks/Project.toml`\n"
     ]
    }
   ],
   "source": [
    "using Pkg\n",
    "pkg\"activate .\"\n",
    "pkg\"instantiate\""
   ]
  },
  {
   "cell_type": "code",
   "execution_count": 2,
   "metadata": {},
   "outputs": [
    {
     "data": {
      "text/html": [
       "<script>\n",
       "// Immediately-invoked-function-expression to avoid global variables.\n",
       "(function() {\n",
       "    var warning_div = document.getElementById(\"webio-warning-13498060478557746961\");\n",
       "    var hide = function () {\n",
       "        var script = document.getElementById(\"webio-setup-11431379963165331115\");\n",
       "        var parent = script && script.parentElement;\n",
       "        var grandparent = parent && parent.parentElement;\n",
       "        if (grandparent) {\n",
       "            grandparent.style.display = \"none\";\n",
       "        }\n",
       "        warning_div.style.display = \"none\";\n",
       "    };\n",
       "    if (typeof Jupyter !== \"undefined\") {\n",
       "        console.log(\"WebIO detected Jupyter notebook environment.\");\n",
       "        // Jupyter notebook.\n",
       "        var extensions = (\n",
       "            Jupyter\n",
       "            && Jupyter.notebook.config.data\n",
       "            && Jupyter.notebook.config.data.load_extensions\n",
       "        );\n",
       "        if (extensions && extensions[\"webio-jupyter-notebook\"]) {\n",
       "            // Extension already loaded.\n",
       "            console.log(\"Jupyter WebIO nbextension detected; not loading ad-hoc.\");\n",
       "            hide();\n",
       "            return;\n",
       "        }\n",
       "    } else if (window.location.pathname.includes(\"/lab\")) {\n",
       "        // Guessing JupyterLa\n",
       "        console.log(\"Jupyter Lab detected; make sure the @webio/jupyter-lab-provider labextension is installed.\");\n",
       "        hide();\n",
       "        return;\n",
       "    }\n",
       "})();\n",
       "\n",
       "</script>\n",
       "<p\n",
       "    id=\"webio-warning-13498060478557746961\"\n",
       "    class=\"output_text output_stderr\"\n",
       "    style=\"padding: 1em; font-weight: bold;\"\n",
       ">\n",
       "    Unable to load WebIO. Please make sure WebIO works for your Jupyter client.\n",
       "    For troubleshooting, please see <a href=\"https://juliagizmos.github.io/WebIO.jl/latest/providers/ijulia/\">\n",
       "    the WebIO/IJulia documentation</a>.\n",
       "    <!-- TODO: link to installation docs. -->\n",
       "</p>\n"
      ],
      "text/plain": [
       "HTML{String}(\"<script>\\n// Immediately-invoked-function-expression to avoid global variables.\\n(function() {\\n    var warning_div = document.getElementById(\\\"webio-warning-13498060478557746961\\\");\\n    var hide = function () {\\n        var script = document.getElementById(\\\"webio-setup-11431379963165331115\\\");\\n        var parent = script && script.parentElement;\\n        var grandparent = parent && parent.parentElement;\\n        if (grandparent) {\\n            grandparent.style.display = \\\"none\\\";\\n        }\\n        warning_div.style.display = \\\"none\\\";\\n    };\\n    if (typeof Jupyter !== \\\"undefined\\\") {\\n        console.log(\\\"WebIO detected Jupyter notebook environment.\\\");\\n        // Jupyter notebook.\\n        var extensions = (\\n            Jupyter\\n            && Jupyter.notebook.config.data\\n            && Jupyter.notebook.config.data.load_extensions\\n        );\\n        if (extensions && extensions[\\\"webio-jupyter-notebook\\\"]) {\\n            // Extension already loaded.\\n            console.log(\\\"Jupyter WebIO nbextension detected; not loading ad-hoc.\\\");\\n            hide();\\n            return;\\n        }\\n    } else if (window.location.pathname.includes(\\\"/lab\\\")) {\\n        // Guessing JupyterLa\\n        console.log(\\\"Jupyter Lab detected; make sure the @webio/jupyter-lab-provider labextension is installed.\\\");\\n        hide();\\n        return;\\n    }\\n})();\\n\\n</script>\\n<p\\n    id=\\\"webio-warning-13498060478557746961\\\"\\n    class=\\\"output_text output_stderr\\\"\\n    style=\\\"padding: 1em; font-weight: bold;\\\"\\n>\\n    Unable to load WebIO. Please make sure WebIO works for your Jupyter client.\\n    For troubleshooting, please see <a href=\\\"https://juliagizmos.github.io/WebIO.jl/latest/providers/ijulia/\\\">\\n    the WebIO/IJulia documentation</a>.\\n    <!-- TODO: link to installation docs. -->\\n</p>\\n\")"
      ]
     },
     "metadata": {},
     "output_type": "display_data"
    }
   ],
   "source": [
    "using Plots, Interact, LinearAlgebra, ForwardDiff\n",
    "gr(size=(600,400))\n",
    "contour(1:10, 1:10, atan)\n",
    "nothing"
   ]
  },
  {
   "cell_type": "code",
   "execution_count": 3,
   "metadata": {},
   "outputs": [
    {
     "data": {
      "text/plain": [
       "([0.8684541165292377, -0.4324896849337499], [0.8684541165292377, 0.0])"
      ]
     },
     "execution_count": 3,
     "metadata": {},
     "output_type": "execute_result"
    }
   ],
   "source": [
    "ℓ = zeros(2)\n",
    "u = ones(2)\n",
    "x = randn(2)\n",
    "x, clamp.(x, ℓ, u)"
   ]
  },
  {
   "cell_type": "code",
   "execution_count": 8,
   "metadata": {},
   "outputs": [
    {
     "data": {
      "text/plain": [
       "caixas (generic function with 1 method)"
      ]
     },
     "execution_count": 8,
     "metadata": {},
     "output_type": "execute_result"
    }
   ],
   "source": [
    "using ForwardDiff, LinearAlgebra\n",
    "\n",
    "function caixas(f, ℓ, u, x)\n",
    "    x = copy(clamp.(x, ℓ, u))\n",
    "    n = length(x)\n",
    "    \n",
    "    ∇f(x) = ForwardDiff.gradient(f, x)\n",
    "    H(x) = ForwardDiff.hessian(f, x)\n",
    "    \n",
    "    WL = findall(x .≈ ℓ)\n",
    "    WU = findall(x .≈ u)\n",
    "    \n",
    "    @info(\"\", WL, WU)\n",
    "\n",
    "    gx = ∇f(x)\n",
    "    # ∇f(x) = zₗ - zᵤ\n",
    "    zL = zeros(n)\n",
    "    zU = zeros(n)\n",
    "    zL[WL] = gx[WL]\n",
    "    zU[WU] = -gx[WU]\n",
    "\n",
    "    t₀ = time()\n",
    "    Δt = 0.0\n",
    "    iter = 0\n",
    "    resolvido = norm(gx - zL + zU) < 1e-8 && all(zL .≥ 0) && all(zU .≥ 0)\n",
    "    cansado = Δt > 10.0 || iter > 1000\n",
    "    \n",
    "    while !(resolvido || cansado)\n",
    "        Hx = H(x)\n",
    "        IZ = setdiff(1:n, WL, WU)\n",
    "        Z = Matrix(1.0I, n, n)[:,IZ]\n",
    "        d = -Z * ( (Z' * Hx * Z) \\ (Z' * gx) )\n",
    "        if all(ℓ .≤ x + d .≤ u)\n",
    "            @info(\"Andei 100% do passo\")\n",
    "            x += d\n",
    "            if norm(d) < 1e-8\n",
    "                @info(\"Encontrei um estacionario\")\n",
    "                zL .= 0\n",
    "                zU .= 0\n",
    "                zL[WL] = gx[WL]\n",
    "                zU[WU] = -gx[WU]\n",
    "                if any(zL .< 0)\n",
    "                    i = findfirst(zL .< 0)\n",
    "                    WL = setdiff(WL, i)\n",
    "                elseif any(zU .< 0)\n",
    "                    i = findfirst(zU .< 0)\n",
    "                    WU = setdiff(WU, i)\n",
    "                end\n",
    "            end\n",
    "        else\n",
    "            # ℓ ≤ x + t * d ≤ u\n",
    "            # dᵢ > 0 : t ≤ (uᵢ - xᵢ) / dᵢ\n",
    "            # dᵢ < 0 : t ≤ (ℓᵢ - xᵢ) / dᵢ\n",
    "            t = 1.0\n",
    "            @info(\"Encontrei uma face\")\n",
    "            primeiro = 0\n",
    "            for i = 1:n\n",
    "                if d[i] > 0\n",
    "                    α = (u[i] - x[i]) / d[i]\n",
    "                    if t > α\n",
    "                        t = α\n",
    "                        primeiro = -i\n",
    "                    end\n",
    "                elseif d[i] < 0\n",
    "                    α = (ℓ[i] - x[i]) / d[i]\n",
    "                    if t > α\n",
    "                        t = α\n",
    "                        primeiro = i\n",
    "                    end\n",
    "                end\n",
    "            end\n",
    "            @assert primeiro != 0\n",
    "            if primeiro > 0\n",
    "                WL = [WL; primeiro]\n",
    "            else\n",
    "                WU = [WU; -primeiro]\n",
    "            end\n",
    "            x += t * d\n",
    "        end\n",
    "        \n",
    "        @info(\"$iter\", x, gx, d, zL, zU, WL, WU)\n",
    "        gx = ∇f(x)\n",
    "        Δt = time() - t₀\n",
    "        iter += 1\n",
    "        resolvido = norm(gx - zL + zU) < 1e-8 && all(zL .≥ 0) && all(zU .≥ 0)\n",
    "        cansado = Δt > 10.0 || iter > 10\n",
    "    end\n",
    "    \n",
    "    return x, gx, zL, zU, Δt, iter, resolvido, cansado\n",
    "end"
   ]
  },
  {
   "cell_type": "code",
   "execution_count": 9,
   "metadata": {},
   "outputs": [
    {
     "name": "stderr",
     "output_type": "stream",
     "text": [
      "┌ Info: \n",
      "│   WL = [1, 2]\n",
      "│   WU = Int64[]\n",
      "└ @ Main In[8]:13\n",
      "┌ Info: Andei 100% do passo\n",
      "└ @ Main In[8]:34\n",
      "┌ Info: Encontrei um estacionario\n",
      "└ @ Main In[8]:37\n",
      "┌ Info: 0\n",
      "│   x = [-1.0, -1.0]\n",
      "│   gx = [-6.0, -24.0]\n",
      "│   d = [0.0, 0.0]\n",
      "│   zL = [-6.0, -24.0]\n",
      "│   zU = [0.0, 0.0]\n",
      "│   WL = [2]\n",
      "│   WU = Int64[]\n",
      "└ @ Main In[8]:81\n",
      "┌ Info: Encontrei uma face\n",
      "└ @ Main In[8]:55\n",
      "┌ Info: 1\n",
      "│   x = [1.0, -1.0]\n",
      "│   gx = [-6.0, -24.0]\n",
      "│   d = [3.0, 0.0]\n",
      "│   zL = [-6.0, -24.0]\n",
      "│   zU = [0.0, 0.0]\n",
      "│   WL = [2]\n",
      "│   WU = [1]\n",
      "└ @ Main In[8]:81\n",
      "┌ Info: Andei 100% do passo\n",
      "└ @ Main In[8]:34\n",
      "┌ Info: Encontrei um estacionario\n",
      "└ @ Main In[8]:37\n",
      "┌ Info: 2\n",
      "│   x = [1.0, -1.0]\n",
      "│   gx = [-2.0, -24.0]\n",
      "│   d = [0.0, 0.0]\n",
      "│   zL = [0.0, -24.0]\n",
      "│   zU = [2.0, 0.0]\n",
      "│   WL = Int64[]\n",
      "│   WU = [1]\n",
      "└ @ Main In[8]:81\n",
      "┌ Info: Encontrei uma face\n",
      "└ @ Main In[8]:55\n",
      "┌ Info: 3\n",
      "│   x = [1.0, 1.0]\n",
      "│   gx = [-2.0, -24.0]\n",
      "│   d = [0.0, 3.0]\n",
      "│   zL = [0.0, -24.0]\n",
      "│   zU = [2.0, 0.0]\n",
      "│   WL = Int64[]\n",
      "│   WU = [1, 2]\n",
      "└ @ Main In[8]:81\n",
      "┌ Info: Andei 100% do passo\n",
      "└ @ Main In[8]:34\n",
      "┌ Info: Encontrei um estacionario\n",
      "└ @ Main In[8]:37\n",
      "┌ Info: 4\n",
      "│   x = [1.0, 1.0]\n",
      "│   gx = [-2.0, -8.0]\n",
      "│   d = [0.0, 0.0]\n",
      "│   zL = [0.0, 0.0]\n",
      "│   zU = [2.0, 8.0]\n",
      "│   WL = Int64[]\n",
      "│   WU = [1, 2]\n",
      "└ @ Main In[8]:81\n"
     ]
    },
    {
     "data": {
      "text/plain": [
       "([1.0, 1.0], [-2.0, -8.0], [0.0, 0.0], [2.0, 8.0], 0.15515804290771484, 5, true, false)"
      ]
     },
     "execution_count": 9,
     "metadata": {},
     "output_type": "execute_result"
    }
   ],
   "source": [
    "f(x) = (x[1] - 2)^2 + 4 * (x[2] - 2)^2\n",
    "ℓ = -ones(2)\n",
    "u = ones(2)\n",
    "x = -ones(2)\n",
    "x, gx, zL, zU, _ = caixas(f, ℓ, u, x)"
   ]
  },
  {
   "cell_type": "code",
   "execution_count": 10,
   "metadata": {},
   "outputs": [
    {
     "data": {
      "application/vnd.webio.node+json": {
       "children": [
        {
         "children": [
          {
           "children": [
            {
             "children": [
              {
               "children": [
                {
                 "children": [
                  "c1"
                 ],
                 "instanceArgs": {
                  "namespace": "html",
                  "tag": "label"
                 },
                 "nodeType": "DOM",
                 "props": {
                  "className": "interact ",
                  "style": {
                   "padding": "5px 10px 0px 10px"
                  }
                 },
                 "type": "node"
                }
               ],
               "instanceArgs": {
                "namespace": "html",
                "tag": "div"
               },
               "nodeType": "DOM",
               "props": {
                "className": "interact-flex-row-left"
               },
               "type": "node"
              },
              {
               "children": [
                {
                 "children": [],
                 "instanceArgs": {
                  "namespace": "html",
                  "tag": "input"
                 },
                 "nodeType": "DOM",
                 "props": {
                  "attributes": {
                   "data-bind": "numericValue: index, valueUpdate: 'input', event: {change: function (){this.changes(this.changes()+1)}}",
                   "orient": "horizontal",
                   "type": "range"
                  },
                  "className": "slider slider is-fullwidth",
                  "max": 50,
                  "min": 1,
                  "step": 1,
                  "style": {}
                 },
                 "type": "node"
                }
               ],
               "instanceArgs": {
                "namespace": "html",
                "tag": "div"
               },
               "nodeType": "DOM",
               "props": {
                "className": "interact-flex-row-center"
               },
               "type": "node"
              },
              {
               "children": [
                {
                 "children": [],
                 "instanceArgs": {
                  "namespace": "html",
                  "tag": "p"
                 },
                 "nodeType": "DOM",
                 "props": {
                  "attributes": {
                   "data-bind": "text: formatted_val"
                  }
                 },
                 "type": "node"
                }
               ],
               "instanceArgs": {
                "namespace": "html",
                "tag": "div"
               },
               "nodeType": "DOM",
               "props": {
                "className": "interact-flex-row-right"
               },
               "type": "node"
              }
             ],
             "instanceArgs": {
              "namespace": "html",
              "tag": "div"
             },
             "nodeType": "DOM",
             "props": {
              "className": "interact-flex-row interact-widget"
             },
             "type": "node"
            }
           ],
           "instanceArgs": {
            "handlers": {
             "changes": [
              "(function (val){return (val!=this.model[\"changes\"]()) ? (this.valueFromJulia[\"changes\"]=true, this.model[\"changes\"](val)) : undefined})"
             ],
             "index": [
              "(function (val){return (val!=this.model[\"index\"]()) ? (this.valueFromJulia[\"index\"]=true, this.model[\"index\"](val)) : undefined})"
             ]
            },
            "id": "8445069710317766562",
            "imports": {
             "data": [
              {
               "name": "knockout",
               "type": "js",
               "url": "/assetserver/ad12e802c5573a1b59240efd1ab774756d2057ca-knockout.js"
              },
              {
               "name": "knockout_punches",
               "type": "js",
               "url": "/assetserver/cf4d4a43d9284bf6445e8ef85f41b866478c075c-knockout_punches.js"
              },
              {
               "name": null,
               "type": "js",
               "url": "/assetserver/2afda1aae0f1ad7c31bc54cb988ca74d5f9a974f-all.js"
              },
              {
               "name": null,
               "type": "css",
               "url": "/assetserver/54296029f68fec59ce609f10c00ebbb03d48dde9-style.css"
              },
              {
               "name": null,
               "type": "css",
               "url": "/assetserver/fc538180faea20bb52f5f15bc9cff8409b12ad04-bulma_confined.min.css"
              }
             ],
             "type": "async_block"
            },
            "mount_callbacks": [
             "function () {\n    var handler = (function (ko, koPunches) {\n    ko.punches.enableAll();\n    ko.bindingHandlers.numericValue = {\n        init: function(element, valueAccessor, allBindings, data, context) {\n            var stringified = ko.observable(ko.unwrap(valueAccessor()));\n            stringified.subscribe(function(value) {\n                var val = parseFloat(value);\n                if (!isNaN(val)) {\n                    valueAccessor()(val);\n                }\n            });\n            valueAccessor().subscribe(function(value) {\n                var str = JSON.stringify(value);\n                if ((str == \"0\") && ([\"-0\", \"-0.\"].indexOf(stringified()) >= 0))\n                     return;\n                 if ([\"null\", \"\"].indexOf(str) >= 0)\n                     return;\n                stringified(str);\n            });\n            ko.applyBindingsToNode(\n                element,\n                {\n                    value: stringified,\n                    valueUpdate: allBindings.get('valueUpdate'),\n                },\n                context,\n            );\n        }\n    };\n    var json_data = {\"formatted_vals\":[\"-2.0\",\"-1.91837\",\"-1.83673\",\"-1.7551\",\"-1.67347\",\"-1.59184\",\"-1.5102\",\"-1.42857\",\"-1.34694\",\"-1.26531\",\"-1.18367\",\"-1.10204\",\"-1.02041\",\"-0.938776\",\"-0.857143\",\"-0.77551\",\"-0.693878\",\"-0.612245\",\"-0.530612\",\"-0.44898\",\"-0.367347\",\"-0.285714\",\"-0.204082\",\"-0.122449\",\"-0.0408163\",\"0.0408163\",\"0.122449\",\"0.204082\",\"0.285714\",\"0.367347\",\"0.44898\",\"0.530612\",\"0.612245\",\"0.693878\",\"0.77551\",\"0.857143\",\"0.938776\",\"1.02041\",\"1.10204\",\"1.18367\",\"1.26531\",\"1.34694\",\"1.42857\",\"1.5102\",\"1.59184\",\"1.67347\",\"1.7551\",\"1.83673\",\"1.91837\",\"2.0\"],\"changes\":WebIO.getval({\"name\":\"changes\",\"scope\":\"8445069710317766562\",\"id\":\"11185812128483535582\",\"type\":\"observable\"}),\"index\":WebIO.getval({\"name\":\"index\",\"scope\":\"8445069710317766562\",\"id\":\"3782452056322251934\",\"type\":\"observable\"})};\n    var self = this;\n    function AppViewModel() {\n        for (var key in json_data) {\n            var el = json_data[key];\n            this[key] = Array.isArray(el) ? ko.observableArray(el) : ko.observable(el);\n        }\n        \n        [this[\"formatted_val\"]=ko.computed(    function(){\n        return this.formatted_vals()[parseInt(this.index())-(1)];\n    }\n,this)]\n        [this[\"changes\"].subscribe((function (val){!(this.valueFromJulia[\"changes\"]) ? (WebIO.setval({\"name\":\"changes\",\"scope\":\"8445069710317766562\",\"id\":\"11185812128483535582\",\"type\":\"observable\"},val)) : undefined; return this.valueFromJulia[\"changes\"]=false}),self),this[\"index\"].subscribe((function (val){!(this.valueFromJulia[\"index\"]) ? (WebIO.setval({\"name\":\"index\",\"scope\":\"8445069710317766562\",\"id\":\"3782452056322251934\",\"type\":\"observable\"},val)) : undefined; return this.valueFromJulia[\"index\"]=false}),self)]\n        \n    }\n    self.model = new AppViewModel();\n    self.valueFromJulia = {};\n    for (var key in json_data) {\n        self.valueFromJulia[key] = false;\n    }\n    ko.applyBindings(self.model, self.dom);\n}\n);\n    (WebIO.importBlock({\"data\":[{\"name\":\"knockout\",\"type\":\"js\",\"url\":\"/assetserver/ad12e802c5573a1b59240efd1ab774756d2057ca-knockout.js\"},{\"name\":\"knockout_punches\",\"type\":\"js\",\"url\":\"/assetserver/cf4d4a43d9284bf6445e8ef85f41b866478c075c-knockout_punches.js\"}],\"type\":\"async_block\"})).then((imports) => handler.apply(this, imports));\n}\n"
            ],
            "observables": {
             "changes": {
              "id": "11185812128483535582",
              "sync": false,
              "value": 0
             },
             "index": {
              "id": "3782452056322251934",
              "sync": true,
              "value": 25
             }
            },
            "systemjs_options": null
           },
           "nodeType": "Scope",
           "props": {},
           "type": "node"
          }
         ],
         "instanceArgs": {
          "namespace": "html",
          "tag": "div"
         },
         "nodeType": "DOM",
         "props": {
          "className": "field interact-widget"
         },
         "type": "node"
        },
        {
         "children": [
          {
           "children": [
            {
             "children": [
              {
               "children": [
                {
                 "children": [
                  "c2"
                 ],
                 "instanceArgs": {
                  "namespace": "html",
                  "tag": "label"
                 },
                 "nodeType": "DOM",
                 "props": {
                  "className": "interact ",
                  "style": {
                   "padding": "5px 10px 0px 10px"
                  }
                 },
                 "type": "node"
                }
               ],
               "instanceArgs": {
                "namespace": "html",
                "tag": "div"
               },
               "nodeType": "DOM",
               "props": {
                "className": "interact-flex-row-left"
               },
               "type": "node"
              },
              {
               "children": [
                {
                 "children": [],
                 "instanceArgs": {
                  "namespace": "html",
                  "tag": "input"
                 },
                 "nodeType": "DOM",
                 "props": {
                  "attributes": {
                   "data-bind": "numericValue: index, valueUpdate: 'input', event: {change: function (){this.changes(this.changes()+1)}}",
                   "orient": "horizontal",
                   "type": "range"
                  },
                  "className": "slider slider is-fullwidth",
                  "max": 50,
                  "min": 1,
                  "step": 1,
                  "style": {}
                 },
                 "type": "node"
                }
               ],
               "instanceArgs": {
                "namespace": "html",
                "tag": "div"
               },
               "nodeType": "DOM",
               "props": {
                "className": "interact-flex-row-center"
               },
               "type": "node"
              },
              {
               "children": [
                {
                 "children": [],
                 "instanceArgs": {
                  "namespace": "html",
                  "tag": "p"
                 },
                 "nodeType": "DOM",
                 "props": {
                  "attributes": {
                   "data-bind": "text: formatted_val"
                  }
                 },
                 "type": "node"
                }
               ],
               "instanceArgs": {
                "namespace": "html",
                "tag": "div"
               },
               "nodeType": "DOM",
               "props": {
                "className": "interact-flex-row-right"
               },
               "type": "node"
              }
             ],
             "instanceArgs": {
              "namespace": "html",
              "tag": "div"
             },
             "nodeType": "DOM",
             "props": {
              "className": "interact-flex-row interact-widget"
             },
             "type": "node"
            }
           ],
           "instanceArgs": {
            "handlers": {
             "changes": [
              "(function (val){return (val!=this.model[\"changes\"]()) ? (this.valueFromJulia[\"changes\"]=true, this.model[\"changes\"](val)) : undefined})"
             ],
             "index": [
              "(function (val){return (val!=this.model[\"index\"]()) ? (this.valueFromJulia[\"index\"]=true, this.model[\"index\"](val)) : undefined})"
             ]
            },
            "id": "10469614591184367481",
            "imports": {
             "data": [
              {
               "name": "knockout",
               "type": "js",
               "url": "/assetserver/ad12e802c5573a1b59240efd1ab774756d2057ca-knockout.js"
              },
              {
               "name": "knockout_punches",
               "type": "js",
               "url": "/assetserver/cf4d4a43d9284bf6445e8ef85f41b866478c075c-knockout_punches.js"
              },
              {
               "name": null,
               "type": "js",
               "url": "/assetserver/2afda1aae0f1ad7c31bc54cb988ca74d5f9a974f-all.js"
              },
              {
               "name": null,
               "type": "css",
               "url": "/assetserver/54296029f68fec59ce609f10c00ebbb03d48dde9-style.css"
              },
              {
               "name": null,
               "type": "css",
               "url": "/assetserver/fc538180faea20bb52f5f15bc9cff8409b12ad04-bulma_confined.min.css"
              }
             ],
             "type": "async_block"
            },
            "mount_callbacks": [
             "function () {\n    var handler = (function (ko, koPunches) {\n    ko.punches.enableAll();\n    ko.bindingHandlers.numericValue = {\n        init: function(element, valueAccessor, allBindings, data, context) {\n            var stringified = ko.observable(ko.unwrap(valueAccessor()));\n            stringified.subscribe(function(value) {\n                var val = parseFloat(value);\n                if (!isNaN(val)) {\n                    valueAccessor()(val);\n                }\n            });\n            valueAccessor().subscribe(function(value) {\n                var str = JSON.stringify(value);\n                if ((str == \"0\") && ([\"-0\", \"-0.\"].indexOf(stringified()) >= 0))\n                     return;\n                 if ([\"null\", \"\"].indexOf(str) >= 0)\n                     return;\n                stringified(str);\n            });\n            ko.applyBindingsToNode(\n                element,\n                {\n                    value: stringified,\n                    valueUpdate: allBindings.get('valueUpdate'),\n                },\n                context,\n            );\n        }\n    };\n    var json_data = {\"formatted_vals\":[\"-2.0\",\"-1.91837\",\"-1.83673\",\"-1.7551\",\"-1.67347\",\"-1.59184\",\"-1.5102\",\"-1.42857\",\"-1.34694\",\"-1.26531\",\"-1.18367\",\"-1.10204\",\"-1.02041\",\"-0.938776\",\"-0.857143\",\"-0.77551\",\"-0.693878\",\"-0.612245\",\"-0.530612\",\"-0.44898\",\"-0.367347\",\"-0.285714\",\"-0.204082\",\"-0.122449\",\"-0.0408163\",\"0.0408163\",\"0.122449\",\"0.204082\",\"0.285714\",\"0.367347\",\"0.44898\",\"0.530612\",\"0.612245\",\"0.693878\",\"0.77551\",\"0.857143\",\"0.938776\",\"1.02041\",\"1.10204\",\"1.18367\",\"1.26531\",\"1.34694\",\"1.42857\",\"1.5102\",\"1.59184\",\"1.67347\",\"1.7551\",\"1.83673\",\"1.91837\",\"2.0\"],\"changes\":WebIO.getval({\"name\":\"changes\",\"scope\":\"10469614591184367481\",\"id\":\"10154915847627950249\",\"type\":\"observable\"}),\"index\":WebIO.getval({\"name\":\"index\",\"scope\":\"10469614591184367481\",\"id\":\"6750425201855089697\",\"type\":\"observable\"})};\n    var self = this;\n    function AppViewModel() {\n        for (var key in json_data) {\n            var el = json_data[key];\n            this[key] = Array.isArray(el) ? ko.observableArray(el) : ko.observable(el);\n        }\n        \n        [this[\"formatted_val\"]=ko.computed(    function(){\n        return this.formatted_vals()[parseInt(this.index())-(1)];\n    }\n,this)]\n        [this[\"changes\"].subscribe((function (val){!(this.valueFromJulia[\"changes\"]) ? (WebIO.setval({\"name\":\"changes\",\"scope\":\"10469614591184367481\",\"id\":\"10154915847627950249\",\"type\":\"observable\"},val)) : undefined; return this.valueFromJulia[\"changes\"]=false}),self),this[\"index\"].subscribe((function (val){!(this.valueFromJulia[\"index\"]) ? (WebIO.setval({\"name\":\"index\",\"scope\":\"10469614591184367481\",\"id\":\"6750425201855089697\",\"type\":\"observable\"},val)) : undefined; return this.valueFromJulia[\"index\"]=false}),self)]\n        \n    }\n    self.model = new AppViewModel();\n    self.valueFromJulia = {};\n    for (var key in json_data) {\n        self.valueFromJulia[key] = false;\n    }\n    ko.applyBindings(self.model, self.dom);\n}\n);\n    (WebIO.importBlock({\"data\":[{\"name\":\"knockout\",\"type\":\"js\",\"url\":\"/assetserver/ad12e802c5573a1b59240efd1ab774756d2057ca-knockout.js\"},{\"name\":\"knockout_punches\",\"type\":\"js\",\"url\":\"/assetserver/cf4d4a43d9284bf6445e8ef85f41b866478c075c-knockout_punches.js\"}],\"type\":\"async_block\"})).then((imports) => handler.apply(this, imports));\n}\n"
            ],
            "observables": {
             "changes": {
              "id": "10154915847627950249",
              "sync": false,
              "value": 0
             },
             "index": {
              "id": "6750425201855089697",
              "sync": true,
              "value": 25
             }
            },
            "systemjs_options": null
           },
           "nodeType": "Scope",
           "props": {},
           "type": "node"
          }
         ],
         "instanceArgs": {
          "namespace": "html",
          "tag": "div"
         },
         "nodeType": "DOM",
         "props": {
          "className": "field interact-widget"
         },
         "type": "node"
        },
        {
         "children": [
          {
           "children": [
            {
             "children": [
              {
               "children": [
                {
                 "children": [
                  "x01"
                 ],
                 "instanceArgs": {
                  "namespace": "html",
                  "tag": "label"
                 },
                 "nodeType": "DOM",
                 "props": {
                  "className": "interact ",
                  "style": {
                   "padding": "5px 10px 0px 10px"
                  }
                 },
                 "type": "node"
                }
               ],
               "instanceArgs": {
                "namespace": "html",
                "tag": "div"
               },
               "nodeType": "DOM",
               "props": {
                "className": "interact-flex-row-left"
               },
               "type": "node"
              },
              {
               "children": [
                {
                 "children": [],
                 "instanceArgs": {
                  "namespace": "html",
                  "tag": "input"
                 },
                 "nodeType": "DOM",
                 "props": {
                  "attributes": {
                   "data-bind": "numericValue: index, valueUpdate: 'input', event: {change: function (){this.changes(this.changes()+1)}}",
                   "orient": "horizontal",
                   "type": "range"
                  },
                  "className": "slider slider is-fullwidth",
                  "max": 1,
                  "min": -1,
                  "step": 1,
                  "style": {}
                 },
                 "type": "node"
                }
               ],
               "instanceArgs": {
                "namespace": "html",
                "tag": "div"
               },
               "nodeType": "DOM",
               "props": {
                "className": "interact-flex-row-center"
               },
               "type": "node"
              },
              {
               "children": [
                {
                 "children": [],
                 "instanceArgs": {
                  "namespace": "html",
                  "tag": "p"
                 },
                 "nodeType": "DOM",
                 "props": {
                  "attributes": {
                   "data-bind": "text: formatted_val"
                  }
                 },
                 "type": "node"
                }
               ],
               "instanceArgs": {
                "namespace": "html",
                "tag": "div"
               },
               "nodeType": "DOM",
               "props": {
                "className": "interact-flex-row-right"
               },
               "type": "node"
              }
             ],
             "instanceArgs": {
              "namespace": "html",
              "tag": "div"
             },
             "nodeType": "DOM",
             "props": {
              "className": "interact-flex-row interact-widget"
             },
             "type": "node"
            }
           ],
           "instanceArgs": {
            "handlers": {
             "changes": [
              "(function (val){return (val!=this.model[\"changes\"]()) ? (this.valueFromJulia[\"changes\"]=true, this.model[\"changes\"](val)) : undefined})"
             ],
             "index": [
              "(function (val){return (val!=this.model[\"index\"]()) ? (this.valueFromJulia[\"index\"]=true, this.model[\"index\"](val)) : undefined})"
             ]
            },
            "id": "7400516230166625204",
            "imports": {
             "data": [
              {
               "name": "knockout",
               "type": "js",
               "url": "/assetserver/ad12e802c5573a1b59240efd1ab774756d2057ca-knockout.js"
              },
              {
               "name": "knockout_punches",
               "type": "js",
               "url": "/assetserver/cf4d4a43d9284bf6445e8ef85f41b866478c075c-knockout_punches.js"
              },
              {
               "name": null,
               "type": "js",
               "url": "/assetserver/2afda1aae0f1ad7c31bc54cb988ca74d5f9a974f-all.js"
              },
              {
               "name": null,
               "type": "css",
               "url": "/assetserver/54296029f68fec59ce609f10c00ebbb03d48dde9-style.css"
              },
              {
               "name": null,
               "type": "css",
               "url": "/assetserver/fc538180faea20bb52f5f15bc9cff8409b12ad04-bulma_confined.min.css"
              }
             ],
             "type": "async_block"
            },
            "mount_callbacks": [
             "function () {\n    var handler = (function (ko, koPunches) {\n    ko.punches.enableAll();\n    ko.bindingHandlers.numericValue = {\n        init: function(element, valueAccessor, allBindings, data, context) {\n            var stringified = ko.observable(ko.unwrap(valueAccessor()));\n            stringified.subscribe(function(value) {\n                var val = parseFloat(value);\n                if (!isNaN(val)) {\n                    valueAccessor()(val);\n                }\n            });\n            valueAccessor().subscribe(function(value) {\n                var str = JSON.stringify(value);\n                if ((str == \"0\") && ([\"-0\", \"-0.\"].indexOf(stringified()) >= 0))\n                     return;\n                 if ([\"null\", \"\"].indexOf(str) >= 0)\n                     return;\n                stringified(str);\n            });\n            ko.applyBindingsToNode(\n                element,\n                {\n                    value: stringified,\n                    valueUpdate: allBindings.get('valueUpdate'),\n                },\n                context,\n            );\n        }\n    };\n    var json_data = {\"formatted_vals\":[\"-1\",\"0\",\"1\"],\"changes\":WebIO.getval({\"name\":\"changes\",\"scope\":\"7400516230166625204\",\"id\":\"12650288018802472794\",\"type\":\"observable\"}),\"index\":WebIO.getval({\"name\":\"index\",\"scope\":\"7400516230166625204\",\"id\":\"17736298635651727192\",\"type\":\"observable\"})};\n    var self = this;\n    function AppViewModel() {\n        for (var key in json_data) {\n            var el = json_data[key];\n            this[key] = Array.isArray(el) ? ko.observableArray(el) : ko.observable(el);\n        }\n        \n        [this[\"formatted_val\"]=ko.computed(    function(){\n        return this.formatted_vals()[parseInt(this.index())-(-1)];\n    }\n,this)]\n        [this[\"changes\"].subscribe((function (val){!(this.valueFromJulia[\"changes\"]) ? (WebIO.setval({\"name\":\"changes\",\"scope\":\"7400516230166625204\",\"id\":\"12650288018802472794\",\"type\":\"observable\"},val)) : undefined; return this.valueFromJulia[\"changes\"]=false}),self),this[\"index\"].subscribe((function (val){!(this.valueFromJulia[\"index\"]) ? (WebIO.setval({\"name\":\"index\",\"scope\":\"7400516230166625204\",\"id\":\"17736298635651727192\",\"type\":\"observable\"},val)) : undefined; return this.valueFromJulia[\"index\"]=false}),self)]\n        \n    }\n    self.model = new AppViewModel();\n    self.valueFromJulia = {};\n    for (var key in json_data) {\n        self.valueFromJulia[key] = false;\n    }\n    ko.applyBindings(self.model, self.dom);\n}\n);\n    (WebIO.importBlock({\"data\":[{\"name\":\"knockout\",\"type\":\"js\",\"url\":\"/assetserver/ad12e802c5573a1b59240efd1ab774756d2057ca-knockout.js\"},{\"name\":\"knockout_punches\",\"type\":\"js\",\"url\":\"/assetserver/cf4d4a43d9284bf6445e8ef85f41b866478c075c-knockout_punches.js\"}],\"type\":\"async_block\"})).then((imports) => handler.apply(this, imports));\n}\n"
            ],
            "observables": {
             "changes": {
              "id": "12650288018802472794",
              "sync": false,
              "value": 0
             },
             "index": {
              "id": "17736298635651727192",
              "sync": true,
              "value": 0
             }
            },
            "systemjs_options": null
           },
           "nodeType": "Scope",
           "props": {},
           "type": "node"
          }
         ],
         "instanceArgs": {
          "namespace": "html",
          "tag": "div"
         },
         "nodeType": "DOM",
         "props": {
          "className": "field interact-widget"
         },
         "type": "node"
        },
        {
         "children": [
          {
           "children": [
            {
             "children": [
              {
               "children": [
                {
                 "children": [
                  "x02"
                 ],
                 "instanceArgs": {
                  "namespace": "html",
                  "tag": "label"
                 },
                 "nodeType": "DOM",
                 "props": {
                  "className": "interact ",
                  "style": {
                   "padding": "5px 10px 0px 10px"
                  }
                 },
                 "type": "node"
                }
               ],
               "instanceArgs": {
                "namespace": "html",
                "tag": "div"
               },
               "nodeType": "DOM",
               "props": {
                "className": "interact-flex-row-left"
               },
               "type": "node"
              },
              {
               "children": [
                {
                 "children": [],
                 "instanceArgs": {
                  "namespace": "html",
                  "tag": "input"
                 },
                 "nodeType": "DOM",
                 "props": {
                  "attributes": {
                   "data-bind": "numericValue: index, valueUpdate: 'input', event: {change: function (){this.changes(this.changes()+1)}}",
                   "orient": "horizontal",
                   "type": "range"
                  },
                  "className": "slider slider is-fullwidth",
                  "max": 1,
                  "min": -1,
                  "step": 1,
                  "style": {}
                 },
                 "type": "node"
                }
               ],
               "instanceArgs": {
                "namespace": "html",
                "tag": "div"
               },
               "nodeType": "DOM",
               "props": {
                "className": "interact-flex-row-center"
               },
               "type": "node"
              },
              {
               "children": [
                {
                 "children": [],
                 "instanceArgs": {
                  "namespace": "html",
                  "tag": "p"
                 },
                 "nodeType": "DOM",
                 "props": {
                  "attributes": {
                   "data-bind": "text: formatted_val"
                  }
                 },
                 "type": "node"
                }
               ],
               "instanceArgs": {
                "namespace": "html",
                "tag": "div"
               },
               "nodeType": "DOM",
               "props": {
                "className": "interact-flex-row-right"
               },
               "type": "node"
              }
             ],
             "instanceArgs": {
              "namespace": "html",
              "tag": "div"
             },
             "nodeType": "DOM",
             "props": {
              "className": "interact-flex-row interact-widget"
             },
             "type": "node"
            }
           ],
           "instanceArgs": {
            "handlers": {
             "changes": [
              "(function (val){return (val!=this.model[\"changes\"]()) ? (this.valueFromJulia[\"changes\"]=true, this.model[\"changes\"](val)) : undefined})"
             ],
             "index": [
              "(function (val){return (val!=this.model[\"index\"]()) ? (this.valueFromJulia[\"index\"]=true, this.model[\"index\"](val)) : undefined})"
             ]
            },
            "id": "7132967865176836428",
            "imports": {
             "data": [
              {
               "name": "knockout",
               "type": "js",
               "url": "/assetserver/ad12e802c5573a1b59240efd1ab774756d2057ca-knockout.js"
              },
              {
               "name": "knockout_punches",
               "type": "js",
               "url": "/assetserver/cf4d4a43d9284bf6445e8ef85f41b866478c075c-knockout_punches.js"
              },
              {
               "name": null,
               "type": "js",
               "url": "/assetserver/2afda1aae0f1ad7c31bc54cb988ca74d5f9a974f-all.js"
              },
              {
               "name": null,
               "type": "css",
               "url": "/assetserver/54296029f68fec59ce609f10c00ebbb03d48dde9-style.css"
              },
              {
               "name": null,
               "type": "css",
               "url": "/assetserver/fc538180faea20bb52f5f15bc9cff8409b12ad04-bulma_confined.min.css"
              }
             ],
             "type": "async_block"
            },
            "mount_callbacks": [
             "function () {\n    var handler = (function (ko, koPunches) {\n    ko.punches.enableAll();\n    ko.bindingHandlers.numericValue = {\n        init: function(element, valueAccessor, allBindings, data, context) {\n            var stringified = ko.observable(ko.unwrap(valueAccessor()));\n            stringified.subscribe(function(value) {\n                var val = parseFloat(value);\n                if (!isNaN(val)) {\n                    valueAccessor()(val);\n                }\n            });\n            valueAccessor().subscribe(function(value) {\n                var str = JSON.stringify(value);\n                if ((str == \"0\") && ([\"-0\", \"-0.\"].indexOf(stringified()) >= 0))\n                     return;\n                 if ([\"null\", \"\"].indexOf(str) >= 0)\n                     return;\n                stringified(str);\n            });\n            ko.applyBindingsToNode(\n                element,\n                {\n                    value: stringified,\n                    valueUpdate: allBindings.get('valueUpdate'),\n                },\n                context,\n            );\n        }\n    };\n    var json_data = {\"formatted_vals\":[\"-1\",\"0\",\"1\"],\"changes\":WebIO.getval({\"name\":\"changes\",\"scope\":\"7132967865176836428\",\"id\":\"15439941981914744293\",\"type\":\"observable\"}),\"index\":WebIO.getval({\"name\":\"index\",\"scope\":\"7132967865176836428\",\"id\":\"4207738811933370688\",\"type\":\"observable\"})};\n    var self = this;\n    function AppViewModel() {\n        for (var key in json_data) {\n            var el = json_data[key];\n            this[key] = Array.isArray(el) ? ko.observableArray(el) : ko.observable(el);\n        }\n        \n        [this[\"formatted_val\"]=ko.computed(    function(){\n        return this.formatted_vals()[parseInt(this.index())-(-1)];\n    }\n,this)]\n        [this[\"changes\"].subscribe((function (val){!(this.valueFromJulia[\"changes\"]) ? (WebIO.setval({\"name\":\"changes\",\"scope\":\"7132967865176836428\",\"id\":\"15439941981914744293\",\"type\":\"observable\"},val)) : undefined; return this.valueFromJulia[\"changes\"]=false}),self),this[\"index\"].subscribe((function (val){!(this.valueFromJulia[\"index\"]) ? (WebIO.setval({\"name\":\"index\",\"scope\":\"7132967865176836428\",\"id\":\"4207738811933370688\",\"type\":\"observable\"},val)) : undefined; return this.valueFromJulia[\"index\"]=false}),self)]\n        \n    }\n    self.model = new AppViewModel();\n    self.valueFromJulia = {};\n    for (var key in json_data) {\n        self.valueFromJulia[key] = false;\n    }\n    ko.applyBindings(self.model, self.dom);\n}\n);\n    (WebIO.importBlock({\"data\":[{\"name\":\"knockout\",\"type\":\"js\",\"url\":\"/assetserver/ad12e802c5573a1b59240efd1ab774756d2057ca-knockout.js\"},{\"name\":\"knockout_punches\",\"type\":\"js\",\"url\":\"/assetserver/cf4d4a43d9284bf6445e8ef85f41b866478c075c-knockout_punches.js\"}],\"type\":\"async_block\"})).then((imports) => handler.apply(this, imports));\n}\n"
            ],
            "observables": {
             "changes": {
              "id": "15439941981914744293",
              "sync": false,
              "value": 0
             },
             "index": {
              "id": "4207738811933370688",
              "sync": true,
              "value": 0
             }
            },
            "systemjs_options": null
           },
           "nodeType": "Scope",
           "props": {},
           "type": "node"
          }
         ],
         "instanceArgs": {
          "namespace": "html",
          "tag": "div"
         },
         "nodeType": "DOM",
         "props": {
          "className": "field interact-widget"
         },
         "type": "node"
        },
        {
         "children": [
          {
           "children": [],
           "instanceArgs": {
            "id": "520061821006752414",
            "name": "obs-node"
           },
           "nodeType": "ObservableNode",
           "props": {},
           "type": "node"
          }
         ],
         "instanceArgs": {
          "handlers": {},
          "id": "14876499981714866360",
          "imports": {
           "data": [],
           "type": "async_block"
          },
          "mount_callbacks": [],
          "observables": {
           "obs-node": {
            "id": "520061821006752414",
            "sync": false,
            "value": {
             "children": [
              {
               "children": [],
               "instanceArgs": {
                "namespace": "html",
                "tag": "div"
               },
               "nodeType": "DOM",
               "props": {
                "setInnerHtml": "<?xml version=\"1.0\" encoding=\"utf-8\"?>\n<svg xmlns=\"http://www.w3.org/2000/svg\" xmlns:xlink=\"http://www.w3.org/1999/xlink\" width=\"600\" height=\"400\" viewBox=\"0 0 2400 1600\">\n<defs>\n  <clipPath id=\"clip550\">\n    <rect x=\"0\" y=\"0\" width=\"2400\" height=\"1600\"/>\n  </clipPath>\n</defs>\n<path clip-path=\"url(#clip550)\" d=\"\nM0 1600 L2400 1600 L2400 0 L0 0  Z\n  \" fill=\"#ffffff\" fill-rule=\"evenodd\" fill-opacity=\"1\"/>\n<defs>\n  <clipPath id=\"clip551\">\n    <rect x=\"480\" y=\"0\" width=\"1681\" height=\"1600\"/>\n  </clipPath>\n</defs>\n<path clip-path=\"url(#clip550)\" d=\"\nM142.455 1486.45 L2352.76 1486.45 L2352.76 47.2441 L142.455 47.2441  Z\n  \" fill=\"#ffffff\" fill-rule=\"evenodd\" fill-opacity=\"1\"/>\n<defs>\n  <clipPath id=\"clip552\">\n    <rect x=\"142\" y=\"47\" width=\"2211\" height=\"1440\"/>\n  </clipPath>\n</defs>\n<polyline clip-path=\"url(#clip552)\" style=\"stroke:#000000; stroke-width:2; stroke-opacity:0.1; fill:none\" points=\"\n  205.01,1486.45 205.01,47.2441 \n  \"/>\n<polyline clip-path=\"url(#clip552)\" style=\"stroke:#000000; stroke-width:2; stroke-opacity:0.1; fill:none\" points=\"\n  726.308,1486.45 726.308,47.2441 \n  \"/>\n<polyline clip-path=\"url(#clip552)\" style=\"stroke:#000000; stroke-width:2; stroke-opacity:0.1; fill:none\" points=\"\n  1247.61,1486.45 1247.61,47.2441 \n  \"/>\n<polyline clip-path=\"url(#clip552)\" style=\"stroke:#000000; stroke-width:2; stroke-opacity:0.1; fill:none\" points=\"\n  1768.9,1486.45 1768.9,47.2441 \n  \"/>\n<polyline clip-path=\"url(#clip552)\" style=\"stroke:#000000; stroke-width:2; stroke-opacity:0.1; fill:none\" points=\"\n  2290.2,1486.45 2290.2,47.2441 \n  \"/>\n<polyline clip-path=\"url(#clip552)\" style=\"stroke:#000000; stroke-width:2; stroke-opacity:0.1; fill:none\" points=\"\n  142.455,1445.72 2352.76,1445.72 \n  \"/>\n<polyline clip-path=\"url(#clip552)\" style=\"stroke:#000000; stroke-width:2; stroke-opacity:0.1; fill:none\" points=\"\n  142.455,1106.28 2352.76,1106.28 \n  \"/>\n<polyline clip-path=\"url(#clip552)\" style=\"stroke:#000000; stroke-width:2; stroke-opacity:0.1; fill:none\" points=\"\n  142.455,766.846 2352.76,766.846 \n  \"/>\n<polyline clip-path=\"url(#clip552)\" style=\"stroke:#000000; stroke-width:2; stroke-opacity:0.1; fill:none\" points=\"\n  142.455,427.411 2352.76,427.411 \n  \"/>\n<polyline clip-path=\"url(#clip552)\" style=\"stroke:#000000; stroke-width:2; stroke-opacity:0.1; fill:none\" points=\"\n  142.455,87.9763 2352.76,87.9763 \n  \"/>\n<polyline clip-path=\"url(#clip550)\" style=\"stroke:#000000; stroke-width:4; stroke-opacity:1; fill:none\" points=\"\n  142.455,1486.45 2352.76,1486.45 \n  \"/>\n<polyline clip-path=\"url(#clip550)\" style=\"stroke:#000000; stroke-width:4; stroke-opacity:1; fill:none\" points=\"\n  142.455,1486.45 142.455,47.2441 \n  \"/>\n<polyline clip-path=\"url(#clip550)\" style=\"stroke:#000000; stroke-width:4; stroke-opacity:1; fill:none\" points=\"\n  205.01,1486.45 205.01,1469.18 \n  \"/>\n<polyline clip-path=\"url(#clip550)\" style=\"stroke:#000000; stroke-width:4; stroke-opacity:1; fill:none\" points=\"\n  726.308,1486.45 726.308,1469.18 \n  \"/>\n<polyline clip-path=\"url(#clip550)\" style=\"stroke:#000000; stroke-width:4; stroke-opacity:1; fill:none\" points=\"\n  1247.61,1486.45 1247.61,1469.18 \n  \"/>\n<polyline clip-path=\"url(#clip550)\" style=\"stroke:#000000; stroke-width:4; stroke-opacity:1; fill:none\" points=\"\n  1768.9,1486.45 1768.9,1469.18 \n  \"/>\n<polyline clip-path=\"url(#clip550)\" style=\"stroke:#000000; stroke-width:4; stroke-opacity:1; fill:none\" points=\"\n  2290.2,1486.45 2290.2,1469.18 \n  \"/>\n<polyline clip-path=\"url(#clip550)\" style=\"stroke:#000000; stroke-width:4; stroke-opacity:1; fill:none\" points=\"\n  142.455,1445.72 168.978,1445.72 \n  \"/>\n<polyline clip-path=\"url(#clip550)\" style=\"stroke:#000000; stroke-width:4; stroke-opacity:1; fill:none\" points=\"\n  142.455,1106.28 168.978,1106.28 \n  \"/>\n<polyline clip-path=\"url(#clip550)\" style=\"stroke:#000000; stroke-width:4; stroke-opacity:1; fill:none\" points=\"\n  142.455,766.846 168.978,766.846 \n  \"/>\n<polyline clip-path=\"url(#clip550)\" style=\"stroke:#000000; stroke-width:4; stroke-opacity:1; fill:none\" points=\"\n  142.455,427.411 168.978,427.411 \n  \"/>\n<polyline clip-path=\"url(#clip550)\" style=\"stroke:#000000; stroke-width:4; stroke-opacity:1; fill:none\" points=\"\n  142.455,87.9763 168.978,87.9763 \n  \"/>\n<path clip-path=\"url(#clip550)\" d=\"M 0 0 M177.464 1523.09 L207.14 1523.09 L207.14 1527.03 L177.464 1527.03 L177.464 1523.09 Z\" fill=\"#000000\" fill-rule=\"evenodd\" fill-opacity=\"1\" /><path clip-path=\"url(#clip550)\" d=\"M 0 0 M216.237 1535.98 L232.557 1535.98 L232.557 1539.92 L210.612 1539.92 L210.612 1535.98 Q213.274 1533.23 217.858 1528.6 Q222.464 1523.95 223.645 1522.61 Q225.89 1520.08 226.77 1518.35 Q227.672 1516.59 227.672 1514.9 Q227.672 1512.14 225.728 1510.41 Q223.807 1508.67 220.705 1508.67 Q218.506 1508.67 216.052 1509.43 Q213.622 1510.2 210.844 1511.75 L210.844 1507.03 Q213.668 1505.89 216.122 1505.31 Q218.575 1504.73 220.612 1504.73 Q225.983 1504.73 229.177 1507.42 Q232.371 1510.11 232.371 1514.6 Q232.371 1516.73 231.561 1518.65 Q230.774 1520.54 228.668 1523.14 Q228.089 1523.81 224.987 1527.03 Q221.885 1530.22 216.237 1535.98 Z\" fill=\"#000000\" fill-rule=\"evenodd\" fill-opacity=\"1\" /><path clip-path=\"url(#clip550)\" d=\"M 0 0 M698.577 1523.09 L728.252 1523.09 L728.252 1527.03 L698.577 1527.03 L698.577 1523.09 Z\" fill=\"#000000\" fill-rule=\"evenodd\" fill-opacity=\"1\" /><path clip-path=\"url(#clip550)\" d=\"M 0 0 M734.132 1535.98 L741.771 1535.98 L741.771 1509.62 L733.461 1511.29 L733.461 1507.03 L741.725 1505.36 L746.4 1505.36 L746.4 1535.98 L754.039 1535.98 L754.039 1539.92 L734.132 1539.92 L734.132 1535.98 Z\" fill=\"#000000\" fill-rule=\"evenodd\" fill-opacity=\"1\" /><path clip-path=\"url(#clip550)\" d=\"M 0 0 M1247.61 1508.44 Q1243.99 1508.44 1242.17 1512 Q1240.36 1515.55 1240.36 1522.67 Q1240.36 1529.78 1242.17 1533.35 Q1243.99 1536.89 1247.61 1536.89 Q1251.24 1536.89 1253.05 1533.35 Q1254.87 1529.78 1254.87 1522.67 Q1254.87 1515.55 1253.05 1512 Q1251.24 1508.44 1247.61 1508.44 M1247.61 1504.73 Q1253.42 1504.73 1256.47 1509.34 Q1259.55 1513.92 1259.55 1522.67 Q1259.55 1531.4 1256.47 1536.01 Q1253.42 1540.59 1247.61 1540.59 Q1241.8 1540.59 1238.72 1536.01 Q1235.66 1531.4 1235.66 1522.67 Q1235.66 1513.92 1238.72 1509.34 Q1241.8 1504.73 1247.61 1504.73 Z\" fill=\"#000000\" fill-rule=\"evenodd\" fill-opacity=\"1\" /><path clip-path=\"url(#clip550)\" d=\"M 0 0 M1759.28 1535.98 L1766.92 1535.98 L1766.92 1509.62 L1758.61 1511.29 L1758.61 1507.03 L1766.88 1505.36 L1771.55 1505.36 L1771.55 1535.98 L1779.19 1535.98 L1779.19 1539.92 L1759.28 1539.92 L1759.28 1535.98 Z\" fill=\"#000000\" fill-rule=\"evenodd\" fill-opacity=\"1\" /><path clip-path=\"url(#clip550)\" d=\"M 0 0 M2284.85 1535.98 L2301.17 1535.98 L2301.17 1539.92 L2279.23 1539.92 L2279.23 1535.98 Q2281.89 1533.23 2286.47 1528.6 Q2291.08 1523.95 2292.26 1522.61 Q2294.51 1520.08 2295.39 1518.35 Q2296.29 1516.59 2296.29 1514.9 Q2296.29 1512.14 2294.34 1510.41 Q2292.42 1508.67 2289.32 1508.67 Q2287.12 1508.67 2284.67 1509.43 Q2282.24 1510.2 2279.46 1511.75 L2279.46 1507.03 Q2282.28 1505.89 2284.74 1505.31 Q2287.19 1504.73 2289.23 1504.73 Q2294.6 1504.73 2297.79 1507.42 Q2300.99 1510.11 2300.99 1514.6 Q2300.99 1516.73 2300.18 1518.65 Q2299.39 1520.54 2297.28 1523.14 Q2296.7 1523.81 2293.6 1527.03 Q2290.5 1530.22 2284.85 1535.98 Z\" fill=\"#000000\" fill-rule=\"evenodd\" fill-opacity=\"1\" /><path clip-path=\"url(#clip550)\" d=\"M 0 0 M63.3625 1446.17 L93.0383 1446.17 L93.0383 1450.1 L63.3625 1450.1 L63.3625 1446.17 Z\" fill=\"#000000\" fill-rule=\"evenodd\" fill-opacity=\"1\" /><path clip-path=\"url(#clip550)\" d=\"M 0 0 M102.135 1459.06 L118.455 1459.06 L118.455 1463 L96.5105 1463 L96.5105 1459.06 Q99.1725 1456.31 103.756 1451.68 Q108.362 1447.02 109.543 1445.68 Q111.788 1443.16 112.668 1441.42 Q113.571 1439.66 113.571 1437.97 Q113.571 1435.22 111.626 1433.48 Q109.705 1431.75 106.603 1431.75 Q104.404 1431.75 101.95 1432.51 Q99.5197 1433.27 96.7419 1434.82 L96.7419 1430.1 Q99.566 1428.97 102.02 1428.39 Q104.473 1427.81 106.51 1427.81 Q111.881 1427.81 115.075 1430.5 Q118.27 1433.18 118.27 1437.67 Q118.27 1439.8 117.459 1441.72 Q116.672 1443.62 114.566 1446.21 Q113.987 1446.88 110.885 1450.1 Q107.784 1453.3 102.135 1459.06 Z\" fill=\"#000000\" fill-rule=\"evenodd\" fill-opacity=\"1\" /><path clip-path=\"url(#clip550)\" d=\"M 0 0 M62.9921 1106.73 L92.6679 1106.73 L92.6679 1110.67 L62.9921 1110.67 L62.9921 1106.73 Z\" fill=\"#000000\" fill-rule=\"evenodd\" fill-opacity=\"1\" /><path clip-path=\"url(#clip550)\" d=\"M 0 0 M98.5475 1119.63 L106.186 1119.63 L106.186 1093.26 L97.8762 1094.93 L97.8762 1090.67 L106.14 1089 L110.816 1089 L110.816 1119.63 L118.455 1119.63 L118.455 1123.56 L98.5475 1123.56 L98.5475 1119.63 Z\" fill=\"#000000\" fill-rule=\"evenodd\" fill-opacity=\"1\" /><path clip-path=\"url(#clip550)\" d=\"M 0 0 M106.51 752.645 Q102.899 752.645 101.071 756.209 Q99.2651 759.751 99.2651 766.881 Q99.2651 773.987 101.071 777.552 Q102.899 781.094 106.51 781.094 Q110.145 781.094 111.95 777.552 Q113.779 773.987 113.779 766.881 Q113.779 759.751 111.95 756.209 Q110.145 752.645 106.51 752.645 M106.51 748.941 Q112.321 748.941 115.376 753.547 Q118.455 758.131 118.455 766.881 Q118.455 775.608 115.376 780.214 Q112.321 784.797 106.51 784.797 Q100.7 784.797 97.6216 780.214 Q94.566 775.608 94.566 766.881 Q94.566 758.131 97.6216 753.547 Q100.7 748.941 106.51 748.941 Z\" fill=\"#000000\" fill-rule=\"evenodd\" fill-opacity=\"1\" /><path clip-path=\"url(#clip550)\" d=\"M 0 0 M98.5475 440.756 L106.186 440.756 L106.186 414.39 L97.8762 416.057 L97.8762 411.798 L106.14 410.131 L110.816 410.131 L110.816 440.756 L118.455 440.756 L118.455 444.691 L98.5475 444.691 L98.5475 440.756 Z\" fill=\"#000000\" fill-rule=\"evenodd\" fill-opacity=\"1\" /><path clip-path=\"url(#clip550)\" d=\"M 0 0 M102.135 101.321 L118.455 101.321 L118.455 105.256 L96.5105 105.256 L96.5105 101.321 Q99.1725 98.5665 103.756 93.9369 Q108.362 89.2841 109.543 87.9416 Q111.788 85.4184 112.668 83.6823 Q113.571 81.9231 113.571 80.2333 Q113.571 77.4786 111.626 75.7425 Q109.705 74.0064 106.603 74.0064 Q104.404 74.0064 101.95 74.7703 Q99.5197 75.5342 96.7419 77.0851 L96.7419 72.3629 Q99.566 71.2287 102.02 70.65 Q104.473 70.0713 106.51 70.0713 Q111.881 70.0713 115.075 72.7565 Q118.27 75.4416 118.27 79.9323 Q118.27 82.062 117.459 83.9832 Q116.672 85.8814 114.566 88.474 Q113.987 89.1453 110.885 92.3628 Q107.784 95.5573 102.135 101.321 Z\" fill=\"#000000\" fill-rule=\"evenodd\" fill-opacity=\"1\" /><polyline clip-path=\"url(#clip552)\" style=\"stroke:#f8c931; stroke-width:4; stroke-opacity:1; fill:none\" points=\"\n  205.01,1426.64 247.565,1429.72 290.12,1432.66 332.675,1435.48 375.23,1438.17 417.785,1440.72 460.34,1443.14 502.895,1445.44 508.375,1445.72 \n  \"/>\n<polyline clip-path=\"url(#clip552)\" style=\"stroke:#ba3655; stroke-width:4; stroke-opacity:1; fill:none\" points=\"\n  205.01,1246.9 247.565,1251.29 252.294,1251.75 290.12,1255.27 332.675,1259.05 375.23,1262.66 417.785,1266.09 460.34,1269.35 502.895,1272.42 545.45,1275.33 \n  588.005,1278.05 611.483,1279.46 630.559,1280.54 673.114,1282.79 715.669,1284.87 758.224,1286.78 800.779,1288.53 843.334,1290.11 885.889,1291.53 928.444,1292.78 \n  970.999,1293.86 1013.55,1294.77 1056.11,1295.52 1098.66,1296.1 1141.22,1296.52 1183.77,1296.77 1226.33,1296.85 1268.88,1296.77 1311.44,1296.52 1353.99,1296.1 \n  1396.55,1295.52 1439.1,1294.77 1481.66,1293.86 1524.21,1292.78 1566.77,1291.53 1609.32,1290.11 1651.88,1288.53 1694.43,1286.78 1736.99,1284.87 1779.54,1282.79 \n  1822.1,1280.54 1841.17,1279.46 1864.65,1278.05 1907.21,1275.33 1949.76,1272.42 1992.32,1269.35 2034.87,1266.09 2077.43,1262.66 2119.98,1259.05 2162.54,1255.27 \n  2200.36,1251.75 2205.09,1251.29 2247.65,1246.9 2290.2,1242.33 \n  \"/>\n<polyline clip-path=\"url(#clip552)\" style=\"stroke:#a12b61; stroke-width:4; stroke-opacity:1; fill:none\" points=\"\n  2290.2,1204.71 2247.65,1209.58 2205.09,1214.25 2162.54,1218.72 2119.98,1222.99 2108.95,1224.04 2077.43,1226.88 2034.87,1230.52 1992.32,1233.97 1949.76,1237.23 \n  1907.21,1240.31 1864.65,1243.2 1822.1,1245.91 1779.54,1248.43 1736.99,1250.76 1717.33,1251.75 1694.43,1252.84 1651.88,1254.69 1609.32,1256.36 1566.77,1257.86 \n  1524.21,1259.17 1481.66,1260.32 1439.1,1261.29 1396.55,1262.08 1353.99,1262.69 1311.44,1263.13 1268.88,1263.4 1226.33,1263.49 1183.77,1263.4 1141.22,1263.13 \n  1098.66,1262.69 1056.11,1262.08 1013.55,1261.29 970.999,1260.32 928.444,1259.17 885.889,1257.86 843.334,1256.36 800.779,1254.69 758.224,1252.84 735.328,1251.75 \n  715.669,1250.76 673.114,1248.43 630.559,1245.91 588.005,1243.2 545.45,1240.31 502.895,1237.23 460.34,1233.97 417.785,1230.52 375.23,1226.88 343.703,1224.04 \n  332.675,1222.99 290.12,1218.72 247.565,1214.25 205.01,1209.58 \n  \"/>\n<polyline clip-path=\"url(#clip552)\" style=\"stroke:#88216a; stroke-width:4; stroke-opacity:1; fill:none\" points=\"\n  205.01,1169.02 247.565,1174.01 290.12,1178.79 332.675,1183.36 375.23,1187.71 417.785,1191.85 460.34,1195.78 466.723,1196.33 502.895,1199.29 545.45,1202.57 \n  588.005,1205.65 630.559,1208.53 673.114,1211.21 715.669,1213.69 758.224,1215.97 800.779,1218.06 843.334,1219.95 885.889,1221.64 928.444,1223.13 958.723,1224.04 \n  970.999,1224.39 1013.55,1225.42 1056.11,1226.26 1098.66,1226.91 1141.22,1227.38 1183.77,1227.66 1226.33,1227.75 1268.88,1227.66 1311.44,1227.38 1353.99,1226.91 \n  1396.55,1226.26 1439.1,1225.42 1481.66,1224.39 1493.93,1224.04 1524.21,1223.13 1566.77,1221.64 1609.32,1219.95 1651.88,1218.06 1694.43,1215.97 1736.99,1213.69 \n  1779.54,1211.21 1822.1,1208.53 1864.65,1205.65 1907.21,1202.57 1949.76,1199.29 1985.93,1196.33 1992.32,1195.78 2034.87,1191.85 2077.43,1187.71 2119.98,1183.36 \n  2162.54,1178.79 2205.09,1174.01 2247.65,1169.02 2250.9,1168.63 2290.2,1163.47 \n  \"/>\n<polyline clip-path=\"url(#clip552)\" style=\"stroke:#6e186e; stroke-width:4; stroke-opacity:1; fill:none\" points=\"\n  2290.2,1117.16 2247.65,1123.2 2205.09,1128.99 2162.54,1134.53 2119.98,1139.82 2110.77,1140.92 2077.43,1144.58 2034.87,1149.03 1992.32,1153.25 1949.76,1157.24 \n  1907.21,1161 1864.65,1164.54 1822.1,1167.84 1811.26,1168.63 1779.54,1170.76 1736.99,1173.42 1694.43,1175.86 1651.88,1178.09 1609.32,1180.11 1566.77,1181.91 \n  1524.21,1183.5 1481.66,1184.88 1439.1,1186.05 1396.55,1187.01 1353.99,1187.75 1311.44,1188.28 1268.88,1188.6 1226.33,1188.7 1183.77,1188.6 1141.22,1188.28 \n  1098.66,1187.75 1056.11,1187.01 1013.55,1186.05 970.999,1184.88 928.444,1183.5 885.889,1181.91 843.334,1180.11 800.779,1178.09 758.224,1175.86 715.669,1173.42 \n  673.114,1170.76 641.395,1168.63 630.559,1167.84 588.005,1164.54 545.45,1161 502.895,1157.24 460.34,1153.25 417.785,1149.03 375.23,1144.58 341.887,1140.92 \n  332.675,1139.82 290.12,1134.53 247.565,1128.99 205.01,1123.2 \n  \"/>\n<polyline clip-path=\"url(#clip552)\" style=\"stroke:#550f6d; stroke-width:4; stroke-opacity:1; fill:none\" points=\"\n  205.01,1070.47 247.565,1077.36 290.12,1083.96 300.512,1085.5 332.675,1089.85 375.23,1095.34 417.785,1100.56 460.34,1105.51 502.895,1110.2 531.909,1113.21 \n  545.45,1114.5 588.005,1118.32 630.559,1121.89 673.114,1125.22 715.669,1128.29 758.224,1131.13 800.779,1133.71 843.334,1136.05 885.889,1138.15 928.444,1139.99 \n  952.995,1140.92 970.999,1141.54 1013.55,1142.8 1056.11,1143.82 1098.66,1144.62 1141.22,1145.19 1183.77,1145.54 1226.33,1145.65 1268.88,1145.54 1311.44,1145.19 \n  1353.99,1144.62 1396.55,1143.82 1439.1,1142.8 1481.66,1141.54 1499.66,1140.92 1524.21,1139.99 1566.77,1138.15 1609.32,1136.05 1651.88,1133.71 1694.43,1131.13 \n  1736.99,1128.29 1779.54,1125.22 1822.1,1121.89 1864.65,1118.32 1907.21,1114.5 1920.75,1113.21 1949.76,1110.2 1992.32,1105.51 2034.87,1100.56 2077.43,1095.34 \n  2119.98,1089.85 2152.14,1085.5 2162.54,1083.96 2205.09,1077.36 2247.65,1070.47 2290.2,1063.29 \n  \"/>\n<polyline clip-path=\"url(#clip552)\" style=\"stroke:#3b0964; stroke-width:4; stroke-opacity:1; fill:none\" points=\"\n  2290.2,996.394 2264.91,1002.37 2247.65,1005.97 2205.09,1014.48 2162.54,1022.63 2121.84,1030.08 2119.98,1030.39 2077.43,1037.03 2034.87,1043.35 1992.32,1049.34 \n  1949.76,1055.02 1927.68,1057.79 1907.21,1060.12 1864.65,1064.66 1822.1,1068.91 1779.54,1072.87 1736.99,1076.54 1694.43,1079.91 1651.88,1082.99 1613.52,1085.5 \n  1609.32,1085.75 1566.77,1088.03 1524.21,1090.03 1481.66,1091.77 1439.1,1093.25 1396.55,1094.45 1353.99,1095.39 1311.44,1096.06 1268.88,1096.46 1226.33,1096.59 \n  1183.77,1096.46 1141.22,1096.06 1098.66,1095.39 1056.11,1094.45 1013.55,1093.25 970.999,1091.77 928.444,1090.03 885.889,1088.03 843.334,1085.75 839.134,1085.5 \n  800.779,1082.99 758.224,1079.91 715.669,1076.54 673.114,1072.87 630.559,1068.91 588.005,1064.66 545.45,1060.12 524.978,1057.79 502.895,1055.02 460.34,1049.34 \n  417.785,1043.35 375.23,1037.03 332.675,1030.39 330.82,1030.08 290.12,1022.63 247.565,1014.48 205.01,1005.97 \n  \"/>\n<polyline clip-path=\"url(#clip552)\" style=\"stroke:#1f0c47; stroke-width:4; stroke-opacity:1; fill:none\" points=\"\n  205.01,912.489 222.893,919.245 247.565,926.872 290.12,939.467 316.593,946.954 332.675,950.803 375.23,960.513 417.785,969.749 441.65,974.663 460.34,977.999 \n  502.895,985.182 545.45,991.956 588.005,998.318 616.986,1002.37 630.559,1004.05 673.114,1008.94 715.669,1013.46 758.224,1017.63 800.779,1021.43 843.334,1024.87 \n  885.889,1027.95 919.223,1030.08 928.444,1030.61 970.999,1032.71 1013.55,1034.5 1056.11,1035.96 1098.66,1037.09 1141.22,1037.9 1183.77,1038.39 1226.33,1038.55 \n  1268.88,1038.39 1311.44,1037.9 1353.99,1037.09 1396.55,1035.96 1439.1,1034.5 1481.66,1032.71 1524.21,1030.61 1533.43,1030.08 1566.77,1027.95 1609.32,1024.87 \n  1651.88,1021.43 1694.43,1017.63 1736.99,1013.46 1779.54,1008.94 1822.1,1004.05 1835.67,1002.37 1864.65,998.318 1907.21,991.956 1949.76,985.182 1992.32,977.999 \n  2011.01,974.663 2034.87,969.749 2077.43,960.513 2119.98,950.803 2136.06,946.954 2162.54,939.467 2205.09,926.872 2229.76,919.245 2247.65,912.489 2290.2,895.727 \n  \n  \"/>\n<polyline clip-path=\"url(#clip552)\" style=\"stroke:#1f0c47; stroke-width:4; stroke-opacity:1; fill:none\" points=\"\n  2290.2,665.674 2247.65,648.912 2229.76,642.156 2205.09,634.529 2162.54,621.934 2136.06,614.447 2119.98,610.598 2077.43,600.888 2034.87,591.652 2011.01,586.738 \n  1992.32,583.402 1949.76,576.219 1907.21,569.445 1864.65,563.082 1835.67,559.029 1822.1,557.354 1779.54,552.464 1736.99,547.936 1694.43,543.771 1651.88,539.967 \n  1609.32,536.527 1566.77,533.448 1533.43,531.32 1524.21,530.793 1481.66,528.687 1439.1,526.904 1396.55,525.446 1353.99,524.311 1311.44,523.501 1268.88,523.015 \n  1226.33,522.853 1183.77,523.015 1141.22,523.501 1098.66,524.311 1056.11,525.446 1013.55,526.904 970.999,528.687 928.444,530.793 919.223,531.32 885.889,533.448 \n  843.334,536.527 800.779,539.967 758.224,543.771 715.669,547.936 673.114,552.464 630.559,557.354 616.986,559.029 588.005,563.082 545.45,569.445 502.895,576.219 \n  460.34,583.402 441.65,586.738 417.785,591.652 375.23,600.888 332.675,610.598 316.593,614.447 290.12,621.934 247.565,634.529 222.893,642.156 205.01,648.912 \n  \n  \"/>\n<polyline clip-path=\"url(#clip552)\" style=\"stroke:#3b0964; stroke-width:4; stroke-opacity:1; fill:none\" points=\"\n  205.01,555.429 247.565,546.917 290.12,538.768 330.82,531.32 332.675,531.016 375.23,524.372 417.785,518.053 460.34,512.057 502.895,506.386 524.978,503.611 \n  545.45,501.283 588.005,496.739 630.559,492.487 673.114,488.528 715.669,484.863 758.224,481.491 800.779,478.412 839.134,475.902 843.334,475.651 885.889,473.375 \n  928.444,471.367 970.999,469.627 1013.55,468.155 1056.11,466.95 1098.66,466.013 1141.22,465.344 1183.77,464.942 1226.33,464.808 1268.88,464.942 1311.44,465.344 \n  1353.99,466.013 1396.55,466.95 1439.1,468.155 1481.66,469.627 1524.21,471.367 1566.77,473.375 1609.32,475.651 1613.52,475.902 1651.88,478.412 1694.43,481.491 \n  1736.99,484.863 1779.54,488.528 1822.1,492.487 1864.65,496.739 1907.21,501.283 1927.68,503.611 1949.76,506.386 1992.32,512.057 2034.87,518.053 2077.43,524.372 \n  2119.98,531.016 2121.84,531.32 2162.54,538.768 2205.09,546.917 2247.65,555.429 2264.91,559.029 2290.2,565.007 \n  \"/>\n<polyline clip-path=\"url(#clip552)\" style=\"stroke:#550f6d; stroke-width:4; stroke-opacity:1; fill:none\" points=\"\n  2290.2,498.113 2247.65,490.929 2205.09,484.039 2162.54,477.441 2152.14,475.902 2119.98,471.551 2077.43,466.063 2034.87,460.843 1992.32,455.89 1949.76,451.205 \n  1920.75,448.193 1907.21,446.9 1864.65,443.082 1822.1,439.511 1779.54,436.186 1736.99,433.107 1694.43,430.274 1651.88,427.688 1609.32,425.348 1566.77,423.255 \n  1524.21,421.408 1499.66,420.484 1481.66,419.857 1439.1,418.602 1396.55,417.576 1353.99,416.778 1311.44,416.208 1268.88,415.866 1226.33,415.752 1183.77,415.866 \n  1141.22,416.208 1098.66,416.778 1056.11,417.576 1013.55,418.602 970.999,419.857 952.995,420.484 928.444,421.408 885.889,423.255 843.334,425.348 800.779,427.688 \n  758.224,430.274 715.669,433.107 673.114,436.186 630.559,439.511 588.005,443.082 545.45,446.9 531.909,448.193 502.895,451.205 460.34,455.89 417.785,460.843 \n  375.23,466.063 332.675,471.551 300.512,475.902 290.12,477.441 247.565,484.039 205.01,490.929 \n  \"/>\n<polyline clip-path=\"url(#clip552)\" style=\"stroke:#6e186e; stroke-width:4; stroke-opacity:1; fill:none\" points=\"\n  205.01,438.202 247.565,432.414 290.12,426.872 332.675,421.577 341.887,420.484 375.23,416.821 417.785,412.374 460.34,408.155 502.895,404.164 545.45,400.401 \n  588.005,396.866 630.559,393.559 641.395,392.775 673.114,390.638 715.669,387.984 758.224,385.542 800.779,383.313 843.334,381.296 885.889,379.491 928.444,377.899 \n  970.999,376.518 1013.55,375.351 1056.11,374.395 1098.66,373.652 1141.22,373.121 1183.77,372.803 1226.33,372.697 1268.88,372.803 1311.44,373.121 1353.99,373.652 \n  1396.55,374.395 1439.1,375.351 1481.66,376.518 1524.21,377.899 1566.77,379.491 1609.32,381.296 1651.88,383.313 1694.43,385.542 1736.99,387.984 1779.54,390.638 \n  1811.26,392.775 1822.1,393.559 1864.65,396.866 1907.21,400.401 1949.76,404.164 1992.32,408.155 2034.87,412.374 2077.43,416.821 2110.77,420.484 2119.98,421.577 \n  2162.54,426.872 2205.09,432.414 2247.65,438.202 2290.2,444.237 \n  \"/>\n<polyline clip-path=\"url(#clip552)\" style=\"stroke:#88216a; stroke-width:4; stroke-opacity:1; fill:none\" points=\"\n  2290.2,397.935 2250.9,392.775 2247.65,392.377 2205.09,387.387 2162.54,382.61 2119.98,378.045 2077.43,373.692 2034.87,369.551 1992.32,365.623 1985.93,365.066 \n  1949.76,362.111 1907.21,358.834 1864.65,355.755 1822.1,352.875 1779.54,350.193 1736.99,347.711 1694.43,345.426 1651.88,343.341 1609.32,341.454 1566.77,339.765 \n  1524.21,338.276 1493.93,337.357 1481.66,337.007 1439.1,335.981 1396.55,335.141 1353.99,334.488 1311.44,334.022 1268.88,333.742 1226.33,333.648 1183.77,333.742 \n  1141.22,334.022 1098.66,334.488 1056.11,335.141 1013.55,335.981 970.999,337.007 958.723,337.357 928.444,338.276 885.889,339.765 843.334,341.454 800.779,343.341 \n  758.224,345.426 715.669,347.711 673.114,350.193 630.559,352.875 588.005,355.755 545.45,358.834 502.895,362.111 466.723,365.066 460.34,365.623 417.785,369.551 \n  375.23,373.692 332.675,378.045 290.12,382.61 247.565,387.387 205.01,392.377 \n  \"/>\n<polyline clip-path=\"url(#clip552)\" style=\"stroke:#a12b61; stroke-width:4; stroke-opacity:1; fill:none\" points=\"\n  205.01,351.82 247.565,347.152 290.12,342.683 332.675,338.412 343.703,337.357 375.23,334.523 417.785,330.885 460.34,327.433 502.895,324.167 545.45,321.088 \n  588.005,318.196 630.559,315.491 673.114,312.972 715.669,310.639 735.328,309.648 758.224,308.559 800.779,306.712 843.334,305.041 885.889,303.545 928.444,302.226 \n  970.999,301.082 1013.55,300.115 1056.11,299.323 1098.66,298.707 1141.22,298.268 1183.77,298.004 1226.33,297.916 1268.88,298.004 1311.44,298.268 1353.99,298.707 \n  1396.55,299.323 1439.1,300.115 1481.66,301.082 1524.21,302.226 1566.77,303.545 1609.32,305.041 1651.88,306.712 1694.43,308.559 1717.33,309.648 1736.99,310.639 \n  1779.54,312.972 1822.1,315.491 1864.65,318.196 1907.21,321.088 1949.76,324.167 1992.32,327.433 2034.87,330.885 2077.43,334.523 2108.95,337.357 2119.98,338.412 \n  2162.54,342.683 2205.09,347.152 2247.65,351.82 2290.2,356.686 \n  \"/>\n<polyline clip-path=\"url(#clip552)\" style=\"stroke:#ba3655; stroke-width:4; stroke-opacity:1; fill:none\" points=\"\n  2290.2,319.071 2247.65,314.499 2205.09,310.114 2200.36,309.648 2162.54,306.129 2119.98,302.347 2077.43,298.74 2034.87,295.31 1992.32,292.055 1949.76,288.976 \n  1907.21,286.073 1864.65,283.346 1841.17,281.939 1822.1,280.857 1779.54,278.611 1736.99,276.53 1694.43,274.617 1651.88,272.869 1609.32,271.288 1566.77,269.874 \n  1524.21,268.625 1481.66,267.544 1439.1,266.628 1396.55,265.879 1353.99,265.297 1311.44,264.881 1268.88,264.631 1226.33,264.548 1183.77,264.631 1141.22,264.881 \n  1098.66,265.297 1056.11,265.879 1013.55,266.628 970.999,267.544 928.444,268.625 885.889,269.874 843.334,271.288 800.779,272.869 758.224,274.617 715.669,276.53 \n  673.114,278.611 630.559,280.857 611.483,281.939 588.005,283.346 545.45,286.073 502.895,288.976 460.34,292.055 417.785,295.31 375.23,298.74 332.675,302.347 \n  290.12,306.129 252.294,309.648 247.565,310.114 205.01,314.499 \n  \"/>\n<polyline clip-path=\"url(#clip552)\" style=\"stroke:#d04544; stroke-width:4; stroke-opacity:1; fill:none\" points=\"\n  205.01,279.973 247.565,276.062 290.12,272.318 332.675,268.74 375.23,265.328 417.785,262.083 460.34,259.004 502.895,256.092 531.748,254.23 545.45,253.391 \n  588.005,250.944 630.559,248.655 673.114,246.523 715.669,244.55 758.224,242.734 800.779,241.076 843.334,239.576 885.889,238.234 928.444,237.05 970.999,236.024 \n  1013.55,235.155 1056.11,234.445 1098.66,233.892 1141.22,233.498 1183.77,233.261 1226.33,233.182 1268.88,233.261 1311.44,233.498 1353.99,233.892 1396.55,234.445 \n  1439.1,235.155 1481.66,236.024 1524.21,237.05 1566.77,238.234 1609.32,239.576 1651.88,241.076 1694.43,242.734 1736.99,244.55 1779.54,246.523 1822.1,248.655 \n  1864.65,250.944 1907.21,253.391 1920.91,254.23 1949.76,256.092 1992.32,259.004 2034.87,262.083 2077.43,265.328 2119.98,268.74 2162.54,272.318 2205.09,276.062 \n  2247.65,279.973 2268.16,281.939 2290.2,284.171 \n  \"/>\n<polyline clip-path=\"url(#clip552)\" style=\"stroke:#e35832; stroke-width:4; stroke-opacity:1; fill:none\" points=\"\n  2290.2,251.684 2247.65,247.816 2205.09,244.106 2162.54,240.553 2119.98,237.159 2077.43,233.922 2034.87,230.843 1992.32,227.922 1970.73,226.521 1949.76,225.226 \n  1907.21,222.748 1864.65,220.42 1822.1,218.242 1779.54,216.215 1736.99,214.337 1694.43,212.61 1651.88,211.033 1609.32,209.607 1566.77,208.33 1524.21,207.204 \n  1481.66,206.227 1439.1,205.401 1396.55,204.726 1353.99,204.2 1311.44,203.825 1268.88,203.599 1226.33,203.524 1183.77,203.599 1141.22,203.825 1098.66,204.2 \n  1056.11,204.726 1013.55,205.401 970.999,206.227 928.444,207.204 885.889,208.33 843.334,209.607 800.779,211.033 758.224,212.61 715.669,214.337 673.114,216.215 \n  630.559,218.242 588.005,220.42 545.45,222.748 502.895,225.226 481.921,226.521 460.34,227.922 417.785,230.843 375.23,233.922 332.675,237.159 290.12,240.553 \n  247.565,244.106 205.01,247.816 \n  \"/>\n<polyline clip-path=\"url(#clip552)\" style=\"stroke:#f0701e; stroke-width:4; stroke-opacity:1; fill:none\" points=\"\n  205.01,217.444 247.565,213.915 290.12,210.536 332.675,207.307 375.23,204.228 417.785,201.3 455.883,198.812 460.34,198.535 502.895,196.029 545.45,193.666 \n  588.005,191.446 630.559,189.37 673.114,187.437 715.669,185.647 758.224,184 800.779,182.496 843.334,181.136 885.889,179.919 928.444,178.845 970.999,177.914 \n  1013.55,177.126 1056.11,176.482 1098.66,175.981 1141.22,175.623 1183.77,175.408 1226.33,175.336 1268.88,175.408 1311.44,175.623 1353.99,175.981 1396.55,176.482 \n  1439.1,177.126 1481.66,177.914 1524.21,178.845 1566.77,179.919 1609.32,181.136 1651.88,182.496 1694.43,184 1736.99,185.647 1779.54,187.437 1822.1,189.37 \n  1864.65,191.446 1907.21,193.666 1949.76,196.029 1992.32,198.535 1996.77,198.812 2034.87,201.3 2077.43,204.228 2119.98,207.307 2162.54,210.536 2205.09,213.915 \n  2247.65,217.444 2290.2,221.124 \n  \"/>\n<polyline clip-path=\"url(#clip552)\" style=\"stroke:#f98c09; stroke-width:4; stroke-opacity:1; fill:none\" points=\"\n  2290.2,192.118 2247.65,188.609 2205.09,185.244 2162.54,182.022 2119.98,178.943 2077.43,176.008 2034.87,173.215 2000.94,171.103 1992.32,170.59 1949.76,168.195 \n  1907.21,165.938 1864.65,163.817 1822.1,161.833 1779.54,159.985 1736.99,158.275 1694.43,156.701 1651.88,155.265 1609.32,153.965 1566.77,152.802 1524.21,151.775 \n  1481.66,150.886 1439.1,150.133 1396.55,149.518 1353.99,149.039 1311.44,148.697 1268.88,148.491 1226.33,148.423 1183.77,148.491 1141.22,148.697 1098.66,149.039 \n  1056.11,149.518 1013.55,150.133 970.999,150.886 928.444,151.775 885.889,152.802 843.334,153.965 800.779,155.265 758.224,156.701 715.669,158.275 673.114,159.985 \n  630.559,161.833 588.005,163.817 545.45,165.938 502.895,168.195 460.34,170.59 451.714,171.103 417.785,173.215 375.23,176.008 332.675,178.943 290.12,182.022 \n  247.565,185.244 205.01,188.609 \n  \"/>\n<polyline clip-path=\"url(#clip552)\" style=\"stroke:#fbaa0e; stroke-width:4; stroke-opacity:1; fill:none\" points=\"\n  205.01,161.106 247.565,157.89 290.12,154.811 332.675,151.869 375.23,149.064 417.785,146.396 460.34,143.865 468.699,143.394 502.895,141.552 545.45,139.39 \n  588.005,137.359 630.559,135.46 673.114,133.691 715.669,132.054 758.224,130.547 800.779,129.171 843.334,127.927 885.889,126.813 928.444,125.83 970.999,124.979 \n  1013.55,124.258 1056.11,123.669 1098.66,123.21 1141.22,122.883 1183.77,122.686 1226.33,122.621 1268.88,122.686 1311.44,122.883 1353.99,123.21 1396.55,123.669 \n  1439.1,124.258 1481.66,124.979 1524.21,125.83 1566.77,126.813 1609.32,127.927 1651.88,129.171 1694.43,130.547 1736.99,132.054 1779.54,133.691 1822.1,135.46 \n  1864.65,137.359 1907.21,139.39 1949.76,141.552 1983.96,143.394 1992.32,143.865 2034.87,146.396 2077.43,149.064 2119.98,151.869 2162.54,154.811 2205.09,157.89 \n  2247.65,161.106 2290.2,164.458 \n  \"/>\n<polyline clip-path=\"url(#clip552)\" style=\"stroke:#f8c931; stroke-width:4; stroke-opacity:1; fill:none\" points=\"\n  2290.2,137.974 2247.65,134.764 2205.09,131.685 2162.54,128.737 2119.98,125.921 2077.43,123.235 2034.87,120.68 1992.32,118.256 1949.76,115.964 1944.28,115.685 \n  1907.21,113.879 1864.65,111.931 1822.1,110.109 1779.54,108.412 1736.99,106.842 1694.43,105.396 1651.88,104.077 1609.32,102.883 1566.77,101.815 1524.21,100.873 \n  1481.66,100.056 1439.1,99.3646 1396.55,98.7991 1353.99,98.3593 1311.44,98.0451 1268.88,97.8566 1226.33,97.7938 1183.77,97.8566 1141.22,98.0451 1098.66,98.3593 \n  1056.11,98.7991 1013.55,99.3646 970.999,100.056 928.444,100.873 885.889,101.815 843.334,102.883 800.779,104.077 758.224,105.396 715.669,106.842 673.114,108.412 \n  630.559,110.109 588.005,111.931 545.45,113.879 508.375,115.685 502.895,115.964 460.34,118.256 417.785,120.68 375.23,123.235 332.675,125.921 290.12,128.737 \n  247.565,131.685 205.01,134.764 \n  \"/>\n<polyline clip-path=\"url(#clip552)\" style=\"stroke:#f1e864; stroke-width:4; stroke-opacity:1; fill:none\" points=\"\n  205.01,109.441 247.565,106.488 290.12,103.661 332.675,100.959 375.23,98.3828 417.785,95.9324 460.34,93.6076 502.895,91.4085 545.45,89.335 575.135,87.9763 \n  \n  \"/>\n<polyline clip-path=\"url(#clip552)\" style=\"stroke:#f1e864; stroke-width:4; stroke-opacity:1; fill:none\" points=\"\n  1877.52,87.9763 1907.21,89.335 1949.76,91.4085 1992.32,93.6076 2034.87,95.9324 2077.43,98.3828 2119.98,100.959 2162.54,103.661 2205.09,106.488 2247.65,109.441 \n  \n  \"/>\n<polyline clip-path=\"url(#clip552)\" style=\"stroke:#f1e864; stroke-width:4; stroke-opacity:1; fill:none\" points=\"\n  2290.2,112.52 2247.65,109.441 \n  \"/>\n<polyline clip-path=\"url(#clip552)\" style=\"stroke:#d04544; stroke-width:4; stroke-opacity:1; fill:none\" points=\"\n  2290.2,1277.23 2268.16,1279.46 2247.65,1281.43 2205.09,1285.34 2162.54,1289.08 2119.98,1292.66 2077.43,1296.07 2034.87,1299.32 1992.32,1302.4 1949.76,1305.31 \n  1920.91,1307.17 1907.21,1308.01 1864.65,1310.46 1822.1,1312.75 1779.54,1314.88 1736.99,1316.85 1694.43,1318.67 1651.88,1320.32 1609.32,1321.82 1566.77,1323.17 \n  1524.21,1324.35 1481.66,1325.38 1439.1,1326.25 1396.55,1326.96 1353.99,1327.51 1311.44,1327.9 1268.88,1328.14 1226.33,1328.22 1183.77,1328.14 1141.22,1327.9 \n  1098.66,1327.51 1056.11,1326.96 1013.55,1326.25 970.999,1325.38 928.444,1324.35 885.889,1323.17 843.334,1321.82 800.779,1320.32 758.224,1318.67 715.669,1316.85 \n  673.114,1314.88 630.559,1312.75 588.005,1310.46 545.45,1308.01 531.748,1307.17 502.895,1305.31 460.34,1302.4 417.785,1299.32 375.23,1296.07 332.675,1292.66 \n  290.12,1289.08 247.565,1285.34 205.01,1281.43 \n  \"/>\n<polyline clip-path=\"url(#clip552)\" style=\"stroke:#e35832; stroke-width:4; stroke-opacity:1; fill:none\" points=\"\n  205.01,1313.58 247.565,1317.3 290.12,1320.85 332.675,1324.24 375.23,1327.48 417.785,1330.56 460.34,1333.48 481.921,1334.88 502.895,1336.18 545.45,1338.65 \n  588.005,1340.98 630.559,1343.16 673.114,1345.19 715.669,1347.06 758.224,1348.79 800.779,1350.37 843.334,1351.79 885.889,1353.07 928.444,1354.2 970.999,1355.17 \n  1013.55,1356 1056.11,1356.68 1098.66,1357.2 1141.22,1357.58 1183.77,1357.8 1226.33,1357.88 1268.88,1357.8 1311.44,1357.58 1353.99,1357.2 1396.55,1356.68 \n  1439.1,1356 1481.66,1355.17 1524.21,1354.2 1566.77,1353.07 1609.32,1351.79 1651.88,1350.37 1694.43,1348.79 1736.99,1347.06 1779.54,1345.19 1822.1,1343.16 \n  1864.65,1340.98 1907.21,1338.65 1949.76,1336.18 1970.73,1334.88 1992.32,1333.48 2034.87,1330.56 2077.43,1327.48 2119.98,1324.24 2162.54,1320.85 2205.09,1317.3 \n  2247.65,1313.58 2290.2,1309.72 \n  \"/>\n<polyline clip-path=\"url(#clip552)\" style=\"stroke:#f0701e; stroke-width:4; stroke-opacity:1; fill:none\" points=\"\n  2290.2,1340.28 2247.65,1343.96 2205.09,1347.49 2162.54,1350.87 2119.98,1354.09 2077.43,1357.17 2034.87,1360.1 1996.77,1362.59 1992.32,1362.87 1949.76,1365.37 \n  1907.21,1367.73 1864.65,1369.95 1822.1,1372.03 1779.54,1373.96 1736.99,1375.75 1694.43,1377.4 1651.88,1378.9 1609.32,1380.26 1566.77,1381.48 1524.21,1382.56 \n  1481.66,1383.49 1439.1,1384.27 1396.55,1384.92 1353.99,1385.42 1311.44,1385.78 1268.88,1385.99 1226.33,1386.06 1183.77,1385.99 1141.22,1385.78 1098.66,1385.42 \n  1056.11,1384.92 1013.55,1384.27 970.999,1383.49 928.444,1382.56 885.889,1381.48 843.334,1380.26 800.779,1378.9 758.224,1377.4 715.669,1375.75 673.114,1373.96 \n  630.559,1372.03 588.005,1369.95 545.45,1367.73 502.895,1365.37 460.34,1362.87 455.883,1362.59 417.785,1360.1 375.23,1357.17 332.675,1354.09 290.12,1350.87 \n  247.565,1347.49 205.01,1343.96 \n  \"/>\n<polyline clip-path=\"url(#clip552)\" style=\"stroke:#f98c09; stroke-width:4; stroke-opacity:1; fill:none\" points=\"\n  205.01,1372.79 247.565,1376.16 290.12,1379.38 332.675,1382.46 375.23,1385.39 417.785,1388.19 451.714,1390.3 460.34,1390.81 502.895,1393.21 545.45,1395.46 \n  588.005,1397.58 630.559,1399.57 673.114,1401.42 715.669,1403.13 758.224,1404.7 800.779,1406.14 843.334,1407.44 885.889,1408.6 928.444,1409.63 970.999,1410.52 \n  1013.55,1411.27 1056.11,1411.88 1098.66,1412.36 1141.22,1412.7 1183.77,1412.91 1226.33,1412.98 1268.88,1412.91 1311.44,1412.7 1353.99,1412.36 1396.55,1411.88 \n  1439.1,1411.27 1481.66,1410.52 1524.21,1409.63 1566.77,1408.6 1609.32,1407.44 1651.88,1406.14 1694.43,1404.7 1736.99,1403.13 1779.54,1401.42 1822.1,1399.57 \n  1864.65,1397.58 1907.21,1395.46 1949.76,1393.21 1992.32,1390.81 2000.94,1390.3 2034.87,1388.19 2077.43,1385.39 2119.98,1382.46 2162.54,1379.38 2205.09,1376.16 \n  2247.65,1372.79 2290.2,1369.28 \n  \"/>\n<polyline clip-path=\"url(#clip552)\" style=\"stroke:#fbaa0e; stroke-width:4; stroke-opacity:1; fill:none\" points=\"\n  2290.2,1396.94 2247.65,1400.3 2205.09,1403.51 2162.54,1406.59 2119.98,1409.53 2077.43,1412.34 2034.87,1415 1992.32,1417.54 1983.96,1418.01 1949.76,1419.85 \n  1907.21,1422.01 1864.65,1424.04 1822.1,1425.94 1779.54,1427.71 1736.99,1429.35 1694.43,1430.85 1651.88,1432.23 1609.32,1433.47 1566.77,1434.59 1524.21,1435.57 \n  1481.66,1436.42 1439.1,1437.14 1396.55,1437.73 1353.99,1438.19 1311.44,1438.52 1268.88,1438.71 1226.33,1438.78 1183.77,1438.71 1141.22,1438.52 1098.66,1438.19 \n  1056.11,1437.73 1013.55,1437.14 970.999,1436.42 928.444,1435.57 885.889,1434.59 843.334,1433.47 800.779,1432.23 758.224,1430.85 715.669,1429.35 673.114,1427.71 \n  630.559,1425.94 588.005,1424.04 545.45,1422.01 502.895,1419.85 468.699,1418.01 460.34,1417.54 417.785,1415 375.23,1412.34 332.675,1409.53 290.12,1406.59 \n  247.565,1403.51 205.01,1400.3 \n  \"/>\n<polyline clip-path=\"url(#clip552)\" style=\"stroke:#f8c931; stroke-width:4; stroke-opacity:1; fill:none\" points=\"\n  1944.28,1445.72 1949.76,1445.44 1992.32,1443.14 2034.87,1440.72 2077.43,1438.17 2119.98,1435.48 2162.54,1432.66 2205.09,1429.72 2247.65,1426.64 2290.2,1423.43 \n  \n  \"/>\n<polyline clip-path=\"url(#clip552)\" style=\"stroke:#090621; stroke-width:4; stroke-opacity:1; fill:none\" points=\"\n  1566.77,947.576 1524.21,951.128 1481.66,954.207 1439.1,956.812 1396.55,958.944 1353.99,960.602 1311.44,961.786 1268.88,962.496 1226.33,962.733 1183.77,962.496 \n  1141.22,961.786 1098.66,960.602 1056.11,958.944 1013.55,956.812 970.999,954.207 928.444,951.128 885.889,947.576 879.318,946.954 843.334,942.931 800.779,937.613 \n  758.224,931.735 715.669,925.298 678.859,919.245 673.114,918.091 630.559,908.854 588.005,898.934 558.319,891.536 545.45,887.413 502.895,872.899 477.818,863.827 \n  460.34,854.976 425.117,836.118 417.785,829.576 395.28,808.409 385.46,780.7 395.28,752.992 417.785,731.825 425.117,725.283 460.34,706.425 477.818,697.574 \n  502.895,688.502 545.45,673.988 558.319,669.865 588.005,662.467 630.559,652.546 673.114,643.31 678.859,642.156 715.669,636.103 758.224,629.666 800.779,623.788 \n  843.334,618.47 879.318,614.447 885.889,613.825 928.444,610.273 970.999,607.194 1013.55,604.589 1056.11,602.457 1098.66,600.799 1141.22,599.615 1183.77,598.905 \n  1226.33,598.668 1268.88,598.905 1311.44,599.615 1353.99,600.799 1396.55,602.457 1439.1,604.589 1481.66,607.194 1524.21,610.273 1566.77,613.825 1573.34,614.447 \n  1609.32,618.47 1651.88,623.788 1694.43,629.666 1736.99,636.103 1773.8,642.156 1779.54,643.31 1822.1,652.546 1864.65,662.467 1894.34,669.865 1907.21,673.988 \n  1949.76,688.502 1974.84,697.574 1992.32,706.425 2027.54,725.283 2034.87,731.825 2057.38,752.992 2067.2,780.7 2057.38,808.409 2034.87,829.576 2027.54,836.118 \n  1992.32,854.976 1974.84,863.827 1949.76,872.899 1907.21,887.413 1894.34,891.536 1864.65,898.934 1822.1,908.854 1779.54,918.091 1773.8,919.245 1736.99,925.298 \n  1694.43,931.735 1651.88,937.613 1609.32,942.931 1573.34,946.954 1566.77,947.576 \n  \"/>\n<circle clip-path=\"url(#clip552)\" cx=\"1247.61\" cy=\"766.846\" r=\"10\" fill=\"#ff0000\" fill-rule=\"evenodd\" fill-opacity=\"1\" stroke=\"#000000\" stroke-opacity=\"1\" stroke-width=\"3.2\"/>\n<polyline clip-path=\"url(#clip552)\" style=\"stroke:#000000; stroke-width:8; stroke-opacity:1; fill:none\" points=\"\n  726.308,1106.28 726.308,427.411 1768.9,427.411 1768.9,1106.28 726.308,1106.28 \n  \"/>\n<circle clip-path=\"url(#clip552)\" cx=\"1226.33\" cy=\"780.7\" r=\"14\" fill=\"#0000ff\" fill-rule=\"evenodd\" fill-opacity=\"1\" stroke=\"#000000\" stroke-opacity=\"1\" stroke-width=\"3.2\"/>\n</svg>\n"
               },
               "type": "node"
              }
             ],
             "instanceArgs": {
              "namespace": "html",
              "tag": "div"
             },
             "nodeType": "DOM",
             "props": {
              "className": "interact-flex-row interact-widget"
             },
             "type": "node"
            }
           }
          },
          "systemjs_options": null
         },
         "nodeType": "Scope",
         "props": {},
         "type": "node"
        }
       ],
       "instanceArgs": {
        "namespace": "html",
        "tag": "div"
       },
       "nodeType": "DOM",
       "props": {},
       "type": "node"
      },
      "text/html": [
       "<div\n",
       "    class=\"webio-mountpoint\"\n",
       "    data-webio-mountpoint=\"7876833528976532987\"\n",
       ">\n",
       "    <script>\n",
       "    if (window.require && require.defined && require.defined(\"nbextensions/webio-jupyter-notebook\")) {\n",
       "        console.log(\"Jupyter WebIO extension detected, not mounting.\");\n",
       "    } else if (window.WebIO) {\n",
       "        WebIO.mount(\n",
       "            document.querySelector('[data-webio-mountpoint=\"7876833528976532987\"]'),\n",
       "            {\"props\":{},\"nodeType\":\"DOM\",\"type\":\"node\",\"instanceArgs\":{\"namespace\":\"html\",\"tag\":\"div\"},\"children\":[{\"props\":{\"className\":\"field interact-widget\"},\"nodeType\":\"DOM\",\"type\":\"node\",\"instanceArgs\":{\"namespace\":\"html\",\"tag\":\"div\"},\"children\":[{\"props\":{},\"nodeType\":\"Scope\",\"type\":\"node\",\"instanceArgs\":{\"imports\":{\"data\":[{\"name\":\"knockout\",\"type\":\"js\",\"url\":\"\\/assetserver\\/ad12e802c5573a1b59240efd1ab774756d2057ca-knockout.js\"},{\"name\":\"knockout_punches\",\"type\":\"js\",\"url\":\"\\/assetserver\\/cf4d4a43d9284bf6445e8ef85f41b866478c075c-knockout_punches.js\"},{\"name\":null,\"type\":\"js\",\"url\":\"\\/assetserver\\/2afda1aae0f1ad7c31bc54cb988ca74d5f9a974f-all.js\"},{\"name\":null,\"type\":\"css\",\"url\":\"\\/assetserver\\/54296029f68fec59ce609f10c00ebbb03d48dde9-style.css\"},{\"name\":null,\"type\":\"css\",\"url\":\"\\/assetserver\\/fc538180faea20bb52f5f15bc9cff8409b12ad04-bulma_confined.min.css\"}],\"type\":\"async_block\"},\"id\":\"8445069710317766562\",\"handlers\":{\"changes\":[\"(function (val){return (val!=this.model[\\\"changes\\\"]()) ? (this.valueFromJulia[\\\"changes\\\"]=true, this.model[\\\"changes\\\"](val)) : undefined})\"],\"index\":[\"(function (val){return (val!=this.model[\\\"index\\\"]()) ? (this.valueFromJulia[\\\"index\\\"]=true, this.model[\\\"index\\\"](val)) : undefined})\"]},\"systemjs_options\":null,\"mount_callbacks\":[\"function () {\\n    var handler = (function (ko, koPunches) {\\n    ko.punches.enableAll();\\n    ko.bindingHandlers.numericValue = {\\n        init: function(element, valueAccessor, allBindings, data, context) {\\n            var stringified = ko.observable(ko.unwrap(valueAccessor()));\\n            stringified.subscribe(function(value) {\\n                var val = parseFloat(value);\\n                if (!isNaN(val)) {\\n                    valueAccessor()(val);\\n                }\\n            });\\n            valueAccessor().subscribe(function(value) {\\n                var str = JSON.stringify(value);\\n                if ((str == \\\"0\\\") && ([\\\"-0\\\", \\\"-0.\\\"].indexOf(stringified()) >= 0))\\n                     return;\\n                 if ([\\\"null\\\", \\\"\\\"].indexOf(str) >= 0)\\n                     return;\\n                stringified(str);\\n            });\\n            ko.applyBindingsToNode(\\n                element,\\n                {\\n                    value: stringified,\\n                    valueUpdate: allBindings.get('valueUpdate'),\\n                },\\n                context,\\n            );\\n        }\\n    };\\n    var json_data = {\\\"formatted_vals\\\":[\\\"-2.0\\\",\\\"-1.91837\\\",\\\"-1.83673\\\",\\\"-1.7551\\\",\\\"-1.67347\\\",\\\"-1.59184\\\",\\\"-1.5102\\\",\\\"-1.42857\\\",\\\"-1.34694\\\",\\\"-1.26531\\\",\\\"-1.18367\\\",\\\"-1.10204\\\",\\\"-1.02041\\\",\\\"-0.938776\\\",\\\"-0.857143\\\",\\\"-0.77551\\\",\\\"-0.693878\\\",\\\"-0.612245\\\",\\\"-0.530612\\\",\\\"-0.44898\\\",\\\"-0.367347\\\",\\\"-0.285714\\\",\\\"-0.204082\\\",\\\"-0.122449\\\",\\\"-0.0408163\\\",\\\"0.0408163\\\",\\\"0.122449\\\",\\\"0.204082\\\",\\\"0.285714\\\",\\\"0.367347\\\",\\\"0.44898\\\",\\\"0.530612\\\",\\\"0.612245\\\",\\\"0.693878\\\",\\\"0.77551\\\",\\\"0.857143\\\",\\\"0.938776\\\",\\\"1.02041\\\",\\\"1.10204\\\",\\\"1.18367\\\",\\\"1.26531\\\",\\\"1.34694\\\",\\\"1.42857\\\",\\\"1.5102\\\",\\\"1.59184\\\",\\\"1.67347\\\",\\\"1.7551\\\",\\\"1.83673\\\",\\\"1.91837\\\",\\\"2.0\\\"],\\\"changes\\\":WebIO.getval({\\\"name\\\":\\\"changes\\\",\\\"scope\\\":\\\"8445069710317766562\\\",\\\"id\\\":\\\"11185812128483535582\\\",\\\"type\\\":\\\"observable\\\"}),\\\"index\\\":WebIO.getval({\\\"name\\\":\\\"index\\\",\\\"scope\\\":\\\"8445069710317766562\\\",\\\"id\\\":\\\"3782452056322251934\\\",\\\"type\\\":\\\"observable\\\"})};\\n    var self = this;\\n    function AppViewModel() {\\n        for (var key in json_data) {\\n            var el = json_data[key];\\n            this[key] = Array.isArray(el) ? ko.observableArray(el) : ko.observable(el);\\n        }\\n        \\n        [this[\\\"formatted_val\\\"]=ko.computed(    function(){\\n        return this.formatted_vals()[parseInt(this.index())-(1)];\\n    }\\n,this)]\\n        [this[\\\"changes\\\"].subscribe((function (val){!(this.valueFromJulia[\\\"changes\\\"]) ? (WebIO.setval({\\\"name\\\":\\\"changes\\\",\\\"scope\\\":\\\"8445069710317766562\\\",\\\"id\\\":\\\"11185812128483535582\\\",\\\"type\\\":\\\"observable\\\"},val)) : undefined; return this.valueFromJulia[\\\"changes\\\"]=false}),self),this[\\\"index\\\"].subscribe((function (val){!(this.valueFromJulia[\\\"index\\\"]) ? (WebIO.setval({\\\"name\\\":\\\"index\\\",\\\"scope\\\":\\\"8445069710317766562\\\",\\\"id\\\":\\\"3782452056322251934\\\",\\\"type\\\":\\\"observable\\\"},val)) : undefined; return this.valueFromJulia[\\\"index\\\"]=false}),self)]\\n        \\n    }\\n    self.model = new AppViewModel();\\n    self.valueFromJulia = {};\\n    for (var key in json_data) {\\n        self.valueFromJulia[key] = false;\\n    }\\n    ko.applyBindings(self.model, self.dom);\\n}\\n);\\n    (WebIO.importBlock({\\\"data\\\":[{\\\"name\\\":\\\"knockout\\\",\\\"type\\\":\\\"js\\\",\\\"url\\\":\\\"\\/assetserver\\/ad12e802c5573a1b59240efd1ab774756d2057ca-knockout.js\\\"},{\\\"name\\\":\\\"knockout_punches\\\",\\\"type\\\":\\\"js\\\",\\\"url\\\":\\\"\\/assetserver\\/cf4d4a43d9284bf6445e8ef85f41b866478c075c-knockout_punches.js\\\"}],\\\"type\\\":\\\"async_block\\\"})).then((imports) => handler.apply(this, imports));\\n}\\n\"],\"observables\":{\"changes\":{\"sync\":false,\"id\":\"11185812128483535582\",\"value\":0},\"index\":{\"sync\":true,\"id\":\"3782452056322251934\",\"value\":25}}},\"children\":[{\"props\":{\"className\":\"interact-flex-row interact-widget\"},\"nodeType\":\"DOM\",\"type\":\"node\",\"instanceArgs\":{\"namespace\":\"html\",\"tag\":\"div\"},\"children\":[{\"props\":{\"className\":\"interact-flex-row-left\"},\"nodeType\":\"DOM\",\"type\":\"node\",\"instanceArgs\":{\"namespace\":\"html\",\"tag\":\"div\"},\"children\":[{\"props\":{\"className\":\"interact \",\"style\":{\"padding\":\"5px 10px 0px 10px\"}},\"nodeType\":\"DOM\",\"type\":\"node\",\"instanceArgs\":{\"namespace\":\"html\",\"tag\":\"label\"},\"children\":[\"c1\"]}]},{\"props\":{\"className\":\"interact-flex-row-center\"},\"nodeType\":\"DOM\",\"type\":\"node\",\"instanceArgs\":{\"namespace\":\"html\",\"tag\":\"div\"},\"children\":[{\"props\":{\"max\":50,\"min\":1,\"attributes\":{\"type\":\"range\",\"data-bind\":\"numericValue: index, valueUpdate: 'input', event: {change: function (){this.changes(this.changes()+1)}}\",\"orient\":\"horizontal\"},\"step\":1,\"className\":\"slider slider is-fullwidth\",\"style\":{}},\"nodeType\":\"DOM\",\"type\":\"node\",\"instanceArgs\":{\"namespace\":\"html\",\"tag\":\"input\"},\"children\":[]}]},{\"props\":{\"className\":\"interact-flex-row-right\"},\"nodeType\":\"DOM\",\"type\":\"node\",\"instanceArgs\":{\"namespace\":\"html\",\"tag\":\"div\"},\"children\":[{\"props\":{\"attributes\":{\"data-bind\":\"text: formatted_val\"}},\"nodeType\":\"DOM\",\"type\":\"node\",\"instanceArgs\":{\"namespace\":\"html\",\"tag\":\"p\"},\"children\":[]}]}]}]}]},{\"props\":{\"className\":\"field interact-widget\"},\"nodeType\":\"DOM\",\"type\":\"node\",\"instanceArgs\":{\"namespace\":\"html\",\"tag\":\"div\"},\"children\":[{\"props\":{},\"nodeType\":\"Scope\",\"type\":\"node\",\"instanceArgs\":{\"imports\":{\"data\":[{\"name\":\"knockout\",\"type\":\"js\",\"url\":\"\\/assetserver\\/ad12e802c5573a1b59240efd1ab774756d2057ca-knockout.js\"},{\"name\":\"knockout_punches\",\"type\":\"js\",\"url\":\"\\/assetserver\\/cf4d4a43d9284bf6445e8ef85f41b866478c075c-knockout_punches.js\"},{\"name\":null,\"type\":\"js\",\"url\":\"\\/assetserver\\/2afda1aae0f1ad7c31bc54cb988ca74d5f9a974f-all.js\"},{\"name\":null,\"type\":\"css\",\"url\":\"\\/assetserver\\/54296029f68fec59ce609f10c00ebbb03d48dde9-style.css\"},{\"name\":null,\"type\":\"css\",\"url\":\"\\/assetserver\\/fc538180faea20bb52f5f15bc9cff8409b12ad04-bulma_confined.min.css\"}],\"type\":\"async_block\"},\"id\":\"10469614591184367481\",\"handlers\":{\"changes\":[\"(function (val){return (val!=this.model[\\\"changes\\\"]()) ? (this.valueFromJulia[\\\"changes\\\"]=true, this.model[\\\"changes\\\"](val)) : undefined})\"],\"index\":[\"(function (val){return (val!=this.model[\\\"index\\\"]()) ? (this.valueFromJulia[\\\"index\\\"]=true, this.model[\\\"index\\\"](val)) : undefined})\"]},\"systemjs_options\":null,\"mount_callbacks\":[\"function () {\\n    var handler = (function (ko, koPunches) {\\n    ko.punches.enableAll();\\n    ko.bindingHandlers.numericValue = {\\n        init: function(element, valueAccessor, allBindings, data, context) {\\n            var stringified = ko.observable(ko.unwrap(valueAccessor()));\\n            stringified.subscribe(function(value) {\\n                var val = parseFloat(value);\\n                if (!isNaN(val)) {\\n                    valueAccessor()(val);\\n                }\\n            });\\n            valueAccessor().subscribe(function(value) {\\n                var str = JSON.stringify(value);\\n                if ((str == \\\"0\\\") && ([\\\"-0\\\", \\\"-0.\\\"].indexOf(stringified()) >= 0))\\n                     return;\\n                 if ([\\\"null\\\", \\\"\\\"].indexOf(str) >= 0)\\n                     return;\\n                stringified(str);\\n            });\\n            ko.applyBindingsToNode(\\n                element,\\n                {\\n                    value: stringified,\\n                    valueUpdate: allBindings.get('valueUpdate'),\\n                },\\n                context,\\n            );\\n        }\\n    };\\n    var json_data = {\\\"formatted_vals\\\":[\\\"-2.0\\\",\\\"-1.91837\\\",\\\"-1.83673\\\",\\\"-1.7551\\\",\\\"-1.67347\\\",\\\"-1.59184\\\",\\\"-1.5102\\\",\\\"-1.42857\\\",\\\"-1.34694\\\",\\\"-1.26531\\\",\\\"-1.18367\\\",\\\"-1.10204\\\",\\\"-1.02041\\\",\\\"-0.938776\\\",\\\"-0.857143\\\",\\\"-0.77551\\\",\\\"-0.693878\\\",\\\"-0.612245\\\",\\\"-0.530612\\\",\\\"-0.44898\\\",\\\"-0.367347\\\",\\\"-0.285714\\\",\\\"-0.204082\\\",\\\"-0.122449\\\",\\\"-0.0408163\\\",\\\"0.0408163\\\",\\\"0.122449\\\",\\\"0.204082\\\",\\\"0.285714\\\",\\\"0.367347\\\",\\\"0.44898\\\",\\\"0.530612\\\",\\\"0.612245\\\",\\\"0.693878\\\",\\\"0.77551\\\",\\\"0.857143\\\",\\\"0.938776\\\",\\\"1.02041\\\",\\\"1.10204\\\",\\\"1.18367\\\",\\\"1.26531\\\",\\\"1.34694\\\",\\\"1.42857\\\",\\\"1.5102\\\",\\\"1.59184\\\",\\\"1.67347\\\",\\\"1.7551\\\",\\\"1.83673\\\",\\\"1.91837\\\",\\\"2.0\\\"],\\\"changes\\\":WebIO.getval({\\\"name\\\":\\\"changes\\\",\\\"scope\\\":\\\"10469614591184367481\\\",\\\"id\\\":\\\"10154915847627950249\\\",\\\"type\\\":\\\"observable\\\"}),\\\"index\\\":WebIO.getval({\\\"name\\\":\\\"index\\\",\\\"scope\\\":\\\"10469614591184367481\\\",\\\"id\\\":\\\"6750425201855089697\\\",\\\"type\\\":\\\"observable\\\"})};\\n    var self = this;\\n    function AppViewModel() {\\n        for (var key in json_data) {\\n            var el = json_data[key];\\n            this[key] = Array.isArray(el) ? ko.observableArray(el) : ko.observable(el);\\n        }\\n        \\n        [this[\\\"formatted_val\\\"]=ko.computed(    function(){\\n        return this.formatted_vals()[parseInt(this.index())-(1)];\\n    }\\n,this)]\\n        [this[\\\"changes\\\"].subscribe((function (val){!(this.valueFromJulia[\\\"changes\\\"]) ? (WebIO.setval({\\\"name\\\":\\\"changes\\\",\\\"scope\\\":\\\"10469614591184367481\\\",\\\"id\\\":\\\"10154915847627950249\\\",\\\"type\\\":\\\"observable\\\"},val)) : undefined; return this.valueFromJulia[\\\"changes\\\"]=false}),self),this[\\\"index\\\"].subscribe((function (val){!(this.valueFromJulia[\\\"index\\\"]) ? (WebIO.setval({\\\"name\\\":\\\"index\\\",\\\"scope\\\":\\\"10469614591184367481\\\",\\\"id\\\":\\\"6750425201855089697\\\",\\\"type\\\":\\\"observable\\\"},val)) : undefined; return this.valueFromJulia[\\\"index\\\"]=false}),self)]\\n        \\n    }\\n    self.model = new AppViewModel();\\n    self.valueFromJulia = {};\\n    for (var key in json_data) {\\n        self.valueFromJulia[key] = false;\\n    }\\n    ko.applyBindings(self.model, self.dom);\\n}\\n);\\n    (WebIO.importBlock({\\\"data\\\":[{\\\"name\\\":\\\"knockout\\\",\\\"type\\\":\\\"js\\\",\\\"url\\\":\\\"\\/assetserver\\/ad12e802c5573a1b59240efd1ab774756d2057ca-knockout.js\\\"},{\\\"name\\\":\\\"knockout_punches\\\",\\\"type\\\":\\\"js\\\",\\\"url\\\":\\\"\\/assetserver\\/cf4d4a43d9284bf6445e8ef85f41b866478c075c-knockout_punches.js\\\"}],\\\"type\\\":\\\"async_block\\\"})).then((imports) => handler.apply(this, imports));\\n}\\n\"],\"observables\":{\"changes\":{\"sync\":false,\"id\":\"10154915847627950249\",\"value\":0},\"index\":{\"sync\":true,\"id\":\"6750425201855089697\",\"value\":25}}},\"children\":[{\"props\":{\"className\":\"interact-flex-row interact-widget\"},\"nodeType\":\"DOM\",\"type\":\"node\",\"instanceArgs\":{\"namespace\":\"html\",\"tag\":\"div\"},\"children\":[{\"props\":{\"className\":\"interact-flex-row-left\"},\"nodeType\":\"DOM\",\"type\":\"node\",\"instanceArgs\":{\"namespace\":\"html\",\"tag\":\"div\"},\"children\":[{\"props\":{\"className\":\"interact \",\"style\":{\"padding\":\"5px 10px 0px 10px\"}},\"nodeType\":\"DOM\",\"type\":\"node\",\"instanceArgs\":{\"namespace\":\"html\",\"tag\":\"label\"},\"children\":[\"c2\"]}]},{\"props\":{\"className\":\"interact-flex-row-center\"},\"nodeType\":\"DOM\",\"type\":\"node\",\"instanceArgs\":{\"namespace\":\"html\",\"tag\":\"div\"},\"children\":[{\"props\":{\"max\":50,\"min\":1,\"attributes\":{\"type\":\"range\",\"data-bind\":\"numericValue: index, valueUpdate: 'input', event: {change: function (){this.changes(this.changes()+1)}}\",\"orient\":\"horizontal\"},\"step\":1,\"className\":\"slider slider is-fullwidth\",\"style\":{}},\"nodeType\":\"DOM\",\"type\":\"node\",\"instanceArgs\":{\"namespace\":\"html\",\"tag\":\"input\"},\"children\":[]}]},{\"props\":{\"className\":\"interact-flex-row-right\"},\"nodeType\":\"DOM\",\"type\":\"node\",\"instanceArgs\":{\"namespace\":\"html\",\"tag\":\"div\"},\"children\":[{\"props\":{\"attributes\":{\"data-bind\":\"text: formatted_val\"}},\"nodeType\":\"DOM\",\"type\":\"node\",\"instanceArgs\":{\"namespace\":\"html\",\"tag\":\"p\"},\"children\":[]}]}]}]}]},{\"props\":{\"className\":\"field interact-widget\"},\"nodeType\":\"DOM\",\"type\":\"node\",\"instanceArgs\":{\"namespace\":\"html\",\"tag\":\"div\"},\"children\":[{\"props\":{},\"nodeType\":\"Scope\",\"type\":\"node\",\"instanceArgs\":{\"imports\":{\"data\":[{\"name\":\"knockout\",\"type\":\"js\",\"url\":\"\\/assetserver\\/ad12e802c5573a1b59240efd1ab774756d2057ca-knockout.js\"},{\"name\":\"knockout_punches\",\"type\":\"js\",\"url\":\"\\/assetserver\\/cf4d4a43d9284bf6445e8ef85f41b866478c075c-knockout_punches.js\"},{\"name\":null,\"type\":\"js\",\"url\":\"\\/assetserver\\/2afda1aae0f1ad7c31bc54cb988ca74d5f9a974f-all.js\"},{\"name\":null,\"type\":\"css\",\"url\":\"\\/assetserver\\/54296029f68fec59ce609f10c00ebbb03d48dde9-style.css\"},{\"name\":null,\"type\":\"css\",\"url\":\"\\/assetserver\\/fc538180faea20bb52f5f15bc9cff8409b12ad04-bulma_confined.min.css\"}],\"type\":\"async_block\"},\"id\":\"7400516230166625204\",\"handlers\":{\"changes\":[\"(function (val){return (val!=this.model[\\\"changes\\\"]()) ? (this.valueFromJulia[\\\"changes\\\"]=true, this.model[\\\"changes\\\"](val)) : undefined})\"],\"index\":[\"(function (val){return (val!=this.model[\\\"index\\\"]()) ? (this.valueFromJulia[\\\"index\\\"]=true, this.model[\\\"index\\\"](val)) : undefined})\"]},\"systemjs_options\":null,\"mount_callbacks\":[\"function () {\\n    var handler = (function (ko, koPunches) {\\n    ko.punches.enableAll();\\n    ko.bindingHandlers.numericValue = {\\n        init: function(element, valueAccessor, allBindings, data, context) {\\n            var stringified = ko.observable(ko.unwrap(valueAccessor()));\\n            stringified.subscribe(function(value) {\\n                var val = parseFloat(value);\\n                if (!isNaN(val)) {\\n                    valueAccessor()(val);\\n                }\\n            });\\n            valueAccessor().subscribe(function(value) {\\n                var str = JSON.stringify(value);\\n                if ((str == \\\"0\\\") && ([\\\"-0\\\", \\\"-0.\\\"].indexOf(stringified()) >= 0))\\n                     return;\\n                 if ([\\\"null\\\", \\\"\\\"].indexOf(str) >= 0)\\n                     return;\\n                stringified(str);\\n            });\\n            ko.applyBindingsToNode(\\n                element,\\n                {\\n                    value: stringified,\\n                    valueUpdate: allBindings.get('valueUpdate'),\\n                },\\n                context,\\n            );\\n        }\\n    };\\n    var json_data = {\\\"formatted_vals\\\":[\\\"-1\\\",\\\"0\\\",\\\"1\\\"],\\\"changes\\\":WebIO.getval({\\\"name\\\":\\\"changes\\\",\\\"scope\\\":\\\"7400516230166625204\\\",\\\"id\\\":\\\"12650288018802472794\\\",\\\"type\\\":\\\"observable\\\"}),\\\"index\\\":WebIO.getval({\\\"name\\\":\\\"index\\\",\\\"scope\\\":\\\"7400516230166625204\\\",\\\"id\\\":\\\"17736298635651727192\\\",\\\"type\\\":\\\"observable\\\"})};\\n    var self = this;\\n    function AppViewModel() {\\n        for (var key in json_data) {\\n            var el = json_data[key];\\n            this[key] = Array.isArray(el) ? ko.observableArray(el) : ko.observable(el);\\n        }\\n        \\n        [this[\\\"formatted_val\\\"]=ko.computed(    function(){\\n        return this.formatted_vals()[parseInt(this.index())-(-1)];\\n    }\\n,this)]\\n        [this[\\\"changes\\\"].subscribe((function (val){!(this.valueFromJulia[\\\"changes\\\"]) ? (WebIO.setval({\\\"name\\\":\\\"changes\\\",\\\"scope\\\":\\\"7400516230166625204\\\",\\\"id\\\":\\\"12650288018802472794\\\",\\\"type\\\":\\\"observable\\\"},val)) : undefined; return this.valueFromJulia[\\\"changes\\\"]=false}),self),this[\\\"index\\\"].subscribe((function (val){!(this.valueFromJulia[\\\"index\\\"]) ? (WebIO.setval({\\\"name\\\":\\\"index\\\",\\\"scope\\\":\\\"7400516230166625204\\\",\\\"id\\\":\\\"17736298635651727192\\\",\\\"type\\\":\\\"observable\\\"},val)) : undefined; return this.valueFromJulia[\\\"index\\\"]=false}),self)]\\n        \\n    }\\n    self.model = new AppViewModel();\\n    self.valueFromJulia = {};\\n    for (var key in json_data) {\\n        self.valueFromJulia[key] = false;\\n    }\\n    ko.applyBindings(self.model, self.dom);\\n}\\n);\\n    (WebIO.importBlock({\\\"data\\\":[{\\\"name\\\":\\\"knockout\\\",\\\"type\\\":\\\"js\\\",\\\"url\\\":\\\"\\/assetserver\\/ad12e802c5573a1b59240efd1ab774756d2057ca-knockout.js\\\"},{\\\"name\\\":\\\"knockout_punches\\\",\\\"type\\\":\\\"js\\\",\\\"url\\\":\\\"\\/assetserver\\/cf4d4a43d9284bf6445e8ef85f41b866478c075c-knockout_punches.js\\\"}],\\\"type\\\":\\\"async_block\\\"})).then((imports) => handler.apply(this, imports));\\n}\\n\"],\"observables\":{\"changes\":{\"sync\":false,\"id\":\"12650288018802472794\",\"value\":0},\"index\":{\"sync\":true,\"id\":\"17736298635651727192\",\"value\":0}}},\"children\":[{\"props\":{\"className\":\"interact-flex-row interact-widget\"},\"nodeType\":\"DOM\",\"type\":\"node\",\"instanceArgs\":{\"namespace\":\"html\",\"tag\":\"div\"},\"children\":[{\"props\":{\"className\":\"interact-flex-row-left\"},\"nodeType\":\"DOM\",\"type\":\"node\",\"instanceArgs\":{\"namespace\":\"html\",\"tag\":\"div\"},\"children\":[{\"props\":{\"className\":\"interact \",\"style\":{\"padding\":\"5px 10px 0px 10px\"}},\"nodeType\":\"DOM\",\"type\":\"node\",\"instanceArgs\":{\"namespace\":\"html\",\"tag\":\"label\"},\"children\":[\"x01\"]}]},{\"props\":{\"className\":\"interact-flex-row-center\"},\"nodeType\":\"DOM\",\"type\":\"node\",\"instanceArgs\":{\"namespace\":\"html\",\"tag\":\"div\"},\"children\":[{\"props\":{\"max\":1,\"min\":-1,\"attributes\":{\"type\":\"range\",\"data-bind\":\"numericValue: index, valueUpdate: 'input', event: {change: function (){this.changes(this.changes()+1)}}\",\"orient\":\"horizontal\"},\"step\":1,\"className\":\"slider slider is-fullwidth\",\"style\":{}},\"nodeType\":\"DOM\",\"type\":\"node\",\"instanceArgs\":{\"namespace\":\"html\",\"tag\":\"input\"},\"children\":[]}]},{\"props\":{\"className\":\"interact-flex-row-right\"},\"nodeType\":\"DOM\",\"type\":\"node\",\"instanceArgs\":{\"namespace\":\"html\",\"tag\":\"div\"},\"children\":[{\"props\":{\"attributes\":{\"data-bind\":\"text: formatted_val\"}},\"nodeType\":\"DOM\",\"type\":\"node\",\"instanceArgs\":{\"namespace\":\"html\",\"tag\":\"p\"},\"children\":[]}]}]}]}]},{\"props\":{\"className\":\"field interact-widget\"},\"nodeType\":\"DOM\",\"type\":\"node\",\"instanceArgs\":{\"namespace\":\"html\",\"tag\":\"div\"},\"children\":[{\"props\":{},\"nodeType\":\"Scope\",\"type\":\"node\",\"instanceArgs\":{\"imports\":{\"data\":[{\"name\":\"knockout\",\"type\":\"js\",\"url\":\"\\/assetserver\\/ad12e802c5573a1b59240efd1ab774756d2057ca-knockout.js\"},{\"name\":\"knockout_punches\",\"type\":\"js\",\"url\":\"\\/assetserver\\/cf4d4a43d9284bf6445e8ef85f41b866478c075c-knockout_punches.js\"},{\"name\":null,\"type\":\"js\",\"url\":\"\\/assetserver\\/2afda1aae0f1ad7c31bc54cb988ca74d5f9a974f-all.js\"},{\"name\":null,\"type\":\"css\",\"url\":\"\\/assetserver\\/54296029f68fec59ce609f10c00ebbb03d48dde9-style.css\"},{\"name\":null,\"type\":\"css\",\"url\":\"\\/assetserver\\/fc538180faea20bb52f5f15bc9cff8409b12ad04-bulma_confined.min.css\"}],\"type\":\"async_block\"},\"id\":\"7132967865176836428\",\"handlers\":{\"changes\":[\"(function (val){return (val!=this.model[\\\"changes\\\"]()) ? (this.valueFromJulia[\\\"changes\\\"]=true, this.model[\\\"changes\\\"](val)) : undefined})\"],\"index\":[\"(function (val){return (val!=this.model[\\\"index\\\"]()) ? (this.valueFromJulia[\\\"index\\\"]=true, this.model[\\\"index\\\"](val)) : undefined})\"]},\"systemjs_options\":null,\"mount_callbacks\":[\"function () {\\n    var handler = (function (ko, koPunches) {\\n    ko.punches.enableAll();\\n    ko.bindingHandlers.numericValue = {\\n        init: function(element, valueAccessor, allBindings, data, context) {\\n            var stringified = ko.observable(ko.unwrap(valueAccessor()));\\n            stringified.subscribe(function(value) {\\n                var val = parseFloat(value);\\n                if (!isNaN(val)) {\\n                    valueAccessor()(val);\\n                }\\n            });\\n            valueAccessor().subscribe(function(value) {\\n                var str = JSON.stringify(value);\\n                if ((str == \\\"0\\\") && ([\\\"-0\\\", \\\"-0.\\\"].indexOf(stringified()) >= 0))\\n                     return;\\n                 if ([\\\"null\\\", \\\"\\\"].indexOf(str) >= 0)\\n                     return;\\n                stringified(str);\\n            });\\n            ko.applyBindingsToNode(\\n                element,\\n                {\\n                    value: stringified,\\n                    valueUpdate: allBindings.get('valueUpdate'),\\n                },\\n                context,\\n            );\\n        }\\n    };\\n    var json_data = {\\\"formatted_vals\\\":[\\\"-1\\\",\\\"0\\\",\\\"1\\\"],\\\"changes\\\":WebIO.getval({\\\"name\\\":\\\"changes\\\",\\\"scope\\\":\\\"7132967865176836428\\\",\\\"id\\\":\\\"15439941981914744293\\\",\\\"type\\\":\\\"observable\\\"}),\\\"index\\\":WebIO.getval({\\\"name\\\":\\\"index\\\",\\\"scope\\\":\\\"7132967865176836428\\\",\\\"id\\\":\\\"4207738811933370688\\\",\\\"type\\\":\\\"observable\\\"})};\\n    var self = this;\\n    function AppViewModel() {\\n        for (var key in json_data) {\\n            var el = json_data[key];\\n            this[key] = Array.isArray(el) ? ko.observableArray(el) : ko.observable(el);\\n        }\\n        \\n        [this[\\\"formatted_val\\\"]=ko.computed(    function(){\\n        return this.formatted_vals()[parseInt(this.index())-(-1)];\\n    }\\n,this)]\\n        [this[\\\"changes\\\"].subscribe((function (val){!(this.valueFromJulia[\\\"changes\\\"]) ? (WebIO.setval({\\\"name\\\":\\\"changes\\\",\\\"scope\\\":\\\"7132967865176836428\\\",\\\"id\\\":\\\"15439941981914744293\\\",\\\"type\\\":\\\"observable\\\"},val)) : undefined; return this.valueFromJulia[\\\"changes\\\"]=false}),self),this[\\\"index\\\"].subscribe((function (val){!(this.valueFromJulia[\\\"index\\\"]) ? (WebIO.setval({\\\"name\\\":\\\"index\\\",\\\"scope\\\":\\\"7132967865176836428\\\",\\\"id\\\":\\\"4207738811933370688\\\",\\\"type\\\":\\\"observable\\\"},val)) : undefined; return this.valueFromJulia[\\\"index\\\"]=false}),self)]\\n        \\n    }\\n    self.model = new AppViewModel();\\n    self.valueFromJulia = {};\\n    for (var key in json_data) {\\n        self.valueFromJulia[key] = false;\\n    }\\n    ko.applyBindings(self.model, self.dom);\\n}\\n);\\n    (WebIO.importBlock({\\\"data\\\":[{\\\"name\\\":\\\"knockout\\\",\\\"type\\\":\\\"js\\\",\\\"url\\\":\\\"\\/assetserver\\/ad12e802c5573a1b59240efd1ab774756d2057ca-knockout.js\\\"},{\\\"name\\\":\\\"knockout_punches\\\",\\\"type\\\":\\\"js\\\",\\\"url\\\":\\\"\\/assetserver\\/cf4d4a43d9284bf6445e8ef85f41b866478c075c-knockout_punches.js\\\"}],\\\"type\\\":\\\"async_block\\\"})).then((imports) => handler.apply(this, imports));\\n}\\n\"],\"observables\":{\"changes\":{\"sync\":false,\"id\":\"15439941981914744293\",\"value\":0},\"index\":{\"sync\":true,\"id\":\"4207738811933370688\",\"value\":0}}},\"children\":[{\"props\":{\"className\":\"interact-flex-row interact-widget\"},\"nodeType\":\"DOM\",\"type\":\"node\",\"instanceArgs\":{\"namespace\":\"html\",\"tag\":\"div\"},\"children\":[{\"props\":{\"className\":\"interact-flex-row-left\"},\"nodeType\":\"DOM\",\"type\":\"node\",\"instanceArgs\":{\"namespace\":\"html\",\"tag\":\"div\"},\"children\":[{\"props\":{\"className\":\"interact \",\"style\":{\"padding\":\"5px 10px 0px 10px\"}},\"nodeType\":\"DOM\",\"type\":\"node\",\"instanceArgs\":{\"namespace\":\"html\",\"tag\":\"label\"},\"children\":[\"x02\"]}]},{\"props\":{\"className\":\"interact-flex-row-center\"},\"nodeType\":\"DOM\",\"type\":\"node\",\"instanceArgs\":{\"namespace\":\"html\",\"tag\":\"div\"},\"children\":[{\"props\":{\"max\":1,\"min\":-1,\"attributes\":{\"type\":\"range\",\"data-bind\":\"numericValue: index, valueUpdate: 'input', event: {change: function (){this.changes(this.changes()+1)}}\",\"orient\":\"horizontal\"},\"step\":1,\"className\":\"slider slider is-fullwidth\",\"style\":{}},\"nodeType\":\"DOM\",\"type\":\"node\",\"instanceArgs\":{\"namespace\":\"html\",\"tag\":\"input\"},\"children\":[]}]},{\"props\":{\"className\":\"interact-flex-row-right\"},\"nodeType\":\"DOM\",\"type\":\"node\",\"instanceArgs\":{\"namespace\":\"html\",\"tag\":\"div\"},\"children\":[{\"props\":{\"attributes\":{\"data-bind\":\"text: formatted_val\"}},\"nodeType\":\"DOM\",\"type\":\"node\",\"instanceArgs\":{\"namespace\":\"html\",\"tag\":\"p\"},\"children\":[]}]}]}]}]},{\"props\":{},\"nodeType\":\"Scope\",\"type\":\"node\",\"instanceArgs\":{\"imports\":{\"data\":[],\"type\":\"async_block\"},\"id\":\"12541300103305937339\",\"handlers\":{},\"systemjs_options\":null,\"mount_callbacks\":[],\"observables\":{\"obs-node\":{\"sync\":false,\"id\":\"296593335132652311\",\"value\":{\"props\":{\"className\":\"interact-flex-row interact-widget\"},\"nodeType\":\"DOM\",\"type\":\"node\",\"instanceArgs\":{\"namespace\":\"html\",\"tag\":\"div\"},\"children\":[{\"props\":{\"setInnerHtml\":\"<?xml version=\\\"1.0\\\" encoding=\\\"utf-8\\\"?>\\n<svg xmlns=\\\"http:\\/\\/www.w3.org\\/2000\\/svg\\\" xmlns:xlink=\\\"http:\\/\\/www.w3.org\\/1999\\/xlink\\\" width=\\\"600\\\" height=\\\"400\\\" viewBox=\\\"0 0 2400 1600\\\">\\n<defs>\\n  <clipPath id=\\\"clip510\\\">\\n    <rect x=\\\"0\\\" y=\\\"0\\\" width=\\\"2400\\\" height=\\\"1600\\\"\\/>\\n  <\\/clipPath>\\n<\\/defs>\\n<path clip-path=\\\"url(#clip510)\\\" d=\\\"\\nM0 1600 L2400 1600 L2400 0 L0 0  Z\\n  \\\" fill=\\\"#ffffff\\\" fill-rule=\\\"evenodd\\\" fill-opacity=\\\"1\\\"\\/>\\n<defs>\\n  <clipPath id=\\\"clip511\\\">\\n    <rect x=\\\"480\\\" y=\\\"0\\\" width=\\\"1681\\\" height=\\\"1600\\\"\\/>\\n  <\\/clipPath>\\n<\\/defs>\\n<path clip-path=\\\"url(#clip510)\\\" d=\\\"\\nM142.455 1486.45 L2352.76 1486.45 L2352.76 47.2441 L142.455 47.2441  Z\\n  \\\" fill=\\\"#ffffff\\\" fill-rule=\\\"evenodd\\\" fill-opacity=\\\"1\\\"\\/>\\n<defs>\\n  <clipPath id=\\\"clip512\\\">\\n    <rect x=\\\"142\\\" y=\\\"47\\\" width=\\\"2211\\\" height=\\\"1440\\\"\\/>\\n  <\\/clipPath>\\n<\\/defs>\\n<polyline clip-path=\\\"url(#clip512)\\\" style=\\\"stroke:#000000; stroke-width:2; stroke-opacity:0.1; fill:none\\\" points=\\\"\\n  205.01,1486.45 205.01,47.2441 \\n  \\\"\\/>\\n<polyline clip-path=\\\"url(#clip512)\\\" style=\\\"stroke:#000000; stroke-width:2; stroke-opacity:0.1; fill:none\\\" points=\\\"\\n  726.308,1486.45 726.308,47.2441 \\n  \\\"\\/>\\n<polyline clip-path=\\\"url(#clip512)\\\" style=\\\"stroke:#000000; stroke-width:2; stroke-opacity:0.1; fill:none\\\" points=\\\"\\n  1247.61,1486.45 1247.61,47.2441 \\n  \\\"\\/>\\n<polyline clip-path=\\\"url(#clip512)\\\" style=\\\"stroke:#000000; stroke-width:2; stroke-opacity:0.1; fill:none\\\" points=\\\"\\n  1768.9,1486.45 1768.9,47.2441 \\n  \\\"\\/>\\n<polyline clip-path=\\\"url(#clip512)\\\" style=\\\"stroke:#000000; stroke-width:2; stroke-opacity:0.1; fill:none\\\" points=\\\"\\n  2290.2,1486.45 2290.2,47.2441 \\n  \\\"\\/>\\n<polyline clip-path=\\\"url(#clip512)\\\" style=\\\"stroke:#000000; stroke-width:2; stroke-opacity:0.1; fill:none\\\" points=\\\"\\n  142.455,1445.72 2352.76,1445.72 \\n  \\\"\\/>\\n<polyline clip-path=\\\"url(#clip512)\\\" style=\\\"stroke:#000000; stroke-width:2; stroke-opacity:0.1; fill:none\\\" points=\\\"\\n  142.455,1106.28 2352.76,1106.28 \\n  \\\"\\/>\\n<polyline clip-path=\\\"url(#clip512)\\\" style=\\\"stroke:#000000; stroke-width:2; stroke-opacity:0.1; fill:none\\\" points=\\\"\\n  142.455,766.846 2352.76,766.846 \\n  \\\"\\/>\\n<polyline clip-path=\\\"url(#clip512)\\\" style=\\\"stroke:#000000; stroke-width:2; stroke-opacity:0.1; fill:none\\\" points=\\\"\\n  142.455,427.411 2352.76,427.411 \\n  \\\"\\/>\\n<polyline clip-path=\\\"url(#clip512)\\\" style=\\\"stroke:#000000; stroke-width:2; stroke-opacity:0.1; fill:none\\\" points=\\\"\\n  142.455,87.9763 2352.76,87.9763 \\n  \\\"\\/>\\n<polyline clip-path=\\\"url(#clip510)\\\" style=\\\"stroke:#000000; stroke-width:4; stroke-opacity:1; fill:none\\\" points=\\\"\\n  142.455,1486.45 2352.76,1486.45 \\n  \\\"\\/>\\n<polyline clip-path=\\\"url(#clip510)\\\" style=\\\"stroke:#000000; stroke-width:4; stroke-opacity:1; fill:none\\\" points=\\\"\\n  142.455,1486.45 142.455,47.2441 \\n  \\\"\\/>\\n<polyline clip-path=\\\"url(#clip510)\\\" style=\\\"stroke:#000000; stroke-width:4; stroke-opacity:1; fill:none\\\" points=\\\"\\n  205.01,1486.45 205.01,1469.18 \\n  \\\"\\/>\\n<polyline clip-path=\\\"url(#clip510)\\\" style=\\\"stroke:#000000; stroke-width:4; stroke-opacity:1; fill:none\\\" points=\\\"\\n  726.308,1486.45 726.308,1469.18 \\n  \\\"\\/>\\n<polyline clip-path=\\\"url(#clip510)\\\" style=\\\"stroke:#000000; stroke-width:4; stroke-opacity:1; fill:none\\\" points=\\\"\\n  1247.61,1486.45 1247.61,1469.18 \\n  \\\"\\/>\\n<polyline clip-path=\\\"url(#clip510)\\\" style=\\\"stroke:#000000; stroke-width:4; stroke-opacity:1; fill:none\\\" points=\\\"\\n  1768.9,1486.45 1768.9,1469.18 \\n  \\\"\\/>\\n<polyline clip-path=\\\"url(#clip510)\\\" style=\\\"stroke:#000000; stroke-width:4; stroke-opacity:1; fill:none\\\" points=\\\"\\n  2290.2,1486.45 2290.2,1469.18 \\n  \\\"\\/>\\n<polyline clip-path=\\\"url(#clip510)\\\" style=\\\"stroke:#000000; stroke-width:4; stroke-opacity:1; fill:none\\\" points=\\\"\\n  142.455,1445.72 168.978,1445.72 \\n  \\\"\\/>\\n<polyline clip-path=\\\"url(#clip510)\\\" style=\\\"stroke:#000000; stroke-width:4; stroke-opacity:1; fill:none\\\" points=\\\"\\n  142.455,1106.28 168.978,1106.28 \\n  \\\"\\/>\\n<polyline clip-path=\\\"url(#clip510)\\\" style=\\\"stroke:#000000; stroke-width:4; stroke-opacity:1; fill:none\\\" points=\\\"\\n  142.455,766.846 168.978,766.846 \\n  \\\"\\/>\\n<polyline clip-path=\\\"url(#clip510)\\\" style=\\\"stroke:#000000; stroke-width:4; stroke-opacity:1; fill:none\\\" points=\\\"\\n  142.455,427.411 168.978,427.411 \\n  \\\"\\/>\\n<polyline clip-path=\\\"url(#clip510)\\\" style=\\\"stroke:#000000; stroke-width:4; stroke-opacity:1; fill:none\\\" points=\\\"\\n  142.455,87.9763 168.978,87.9763 \\n  \\\"\\/>\\n<path clip-path=\\\"url(#clip510)\\\" d=\\\"M 0 0 M177.464 1523.09 L207.14 1523.09 L207.14 1527.03 L177.464 1527.03 L177.464 1523.09 Z\\\" fill=\\\"#000000\\\" fill-rule=\\\"evenodd\\\" fill-opacity=\\\"1\\\" \\/><path clip-path=\\\"url(#clip510)\\\" d=\\\"M 0 0 M216.237 1535.98 L232.557 1535.98 L232.557 1539.92 L210.612 1539.92 L210.612 1535.98 Q213.274 1533.23 217.858 1528.6 Q222.464 1523.95 223.645 1522.61 Q225.89 1520.08 226.77 1518.35 Q227.672 1516.59 227.672 1514.9 Q227.672 1512.14 225.728 1510.41 Q223.807 1508.67 220.705 1508.67 Q218.506 1508.67 216.052 1509.43 Q213.622 1510.2 210.844 1511.75 L210.844 1507.03 Q213.668 1505.89 216.122 1505.31 Q218.575 1504.73 220.612 1504.73 Q225.983 1504.73 229.177 1507.42 Q232.371 1510.11 232.371 1514.6 Q232.371 1516.73 231.561 1518.65 Q230.774 1520.54 228.668 1523.14 Q228.089 1523.81 224.987 1527.03 Q221.885 1530.22 216.237 1535.98 Z\\\" fill=\\\"#000000\\\" fill-rule=\\\"evenodd\\\" fill-opacity=\\\"1\\\" \\/><path clip-path=\\\"url(#clip510)\\\" d=\\\"M 0 0 M698.577 1523.09 L728.252 1523.09 L728.252 1527.03 L698.577 1527.03 L698.577 1523.09 Z\\\" fill=\\\"#000000\\\" fill-rule=\\\"evenodd\\\" fill-opacity=\\\"1\\\" \\/><path clip-path=\\\"url(#clip510)\\\" d=\\\"M 0 0 M734.132 1535.98 L741.771 1535.98 L741.771 1509.62 L733.461 1511.29 L733.461 1507.03 L741.725 1505.36 L746.4 1505.36 L746.4 1535.98 L754.039 1535.98 L754.039 1539.92 L734.132 1539.92 L734.132 1535.98 Z\\\" fill=\\\"#000000\\\" fill-rule=\\\"evenodd\\\" fill-opacity=\\\"1\\\" \\/><path clip-path=\\\"url(#clip510)\\\" d=\\\"M 0 0 M1247.61 1508.44 Q1243.99 1508.44 1242.17 1512 Q1240.36 1515.55 1240.36 1522.67 Q1240.36 1529.78 1242.17 1533.35 Q1243.99 1536.89 1247.61 1536.89 Q1251.24 1536.89 1253.05 1533.35 Q1254.87 1529.78 1254.87 1522.67 Q1254.87 1515.55 1253.05 1512 Q1251.24 1508.44 1247.61 1508.44 M1247.61 1504.73 Q1253.42 1504.73 1256.47 1509.34 Q1259.55 1513.92 1259.55 1522.67 Q1259.55 1531.4 1256.47 1536.01 Q1253.42 1540.59 1247.61 1540.59 Q1241.8 1540.59 1238.72 1536.01 Q1235.66 1531.4 1235.66 1522.67 Q1235.66 1513.92 1238.72 1509.34 Q1241.8 1504.73 1247.61 1504.73 Z\\\" fill=\\\"#000000\\\" fill-rule=\\\"evenodd\\\" fill-opacity=\\\"1\\\" \\/><path clip-path=\\\"url(#clip510)\\\" d=\\\"M 0 0 M1759.28 1535.98 L1766.92 1535.98 L1766.92 1509.62 L1758.61 1511.29 L1758.61 1507.03 L1766.88 1505.36 L1771.55 1505.36 L1771.55 1535.98 L1779.19 1535.98 L1779.19 1539.92 L1759.28 1539.92 L1759.28 1535.98 Z\\\" fill=\\\"#000000\\\" fill-rule=\\\"evenodd\\\" fill-opacity=\\\"1\\\" \\/><path clip-path=\\\"url(#clip510)\\\" d=\\\"M 0 0 M2284.85 1535.98 L2301.17 1535.98 L2301.17 1539.92 L2279.23 1539.92 L2279.23 1535.98 Q2281.89 1533.23 2286.47 1528.6 Q2291.08 1523.95 2292.26 1522.61 Q2294.51 1520.08 2295.39 1518.35 Q2296.29 1516.59 2296.29 1514.9 Q2296.29 1512.14 2294.34 1510.41 Q2292.42 1508.67 2289.32 1508.67 Q2287.12 1508.67 2284.67 1509.43 Q2282.24 1510.2 2279.46 1511.75 L2279.46 1507.03 Q2282.28 1505.89 2284.74 1505.31 Q2287.19 1504.73 2289.23 1504.73 Q2294.6 1504.73 2297.79 1507.42 Q2300.99 1510.11 2300.99 1514.6 Q2300.99 1516.73 2300.18 1518.65 Q2299.39 1520.54 2297.28 1523.14 Q2296.7 1523.81 2293.6 1527.03 Q2290.5 1530.22 2284.85 1535.98 Z\\\" fill=\\\"#000000\\\" fill-rule=\\\"evenodd\\\" fill-opacity=\\\"1\\\" \\/><path clip-path=\\\"url(#clip510)\\\" d=\\\"M 0 0 M63.3625 1446.17 L93.0383 1446.17 L93.0383 1450.1 L63.3625 1450.1 L63.3625 1446.17 Z\\\" fill=\\\"#000000\\\" fill-rule=\\\"evenodd\\\" fill-opacity=\\\"1\\\" \\/><path clip-path=\\\"url(#clip510)\\\" d=\\\"M 0 0 M102.135 1459.06 L118.455 1459.06 L118.455 1463 L96.5105 1463 L96.5105 1459.06 Q99.1725 1456.31 103.756 1451.68 Q108.362 1447.02 109.543 1445.68 Q111.788 1443.16 112.668 1441.42 Q113.571 1439.66 113.571 1437.97 Q113.571 1435.22 111.626 1433.48 Q109.705 1431.75 106.603 1431.75 Q104.404 1431.75 101.95 1432.51 Q99.5197 1433.27 96.7419 1434.82 L96.7419 1430.1 Q99.566 1428.97 102.02 1428.39 Q104.473 1427.81 106.51 1427.81 Q111.881 1427.81 115.075 1430.5 Q118.27 1433.18 118.27 1437.67 Q118.27 1439.8 117.459 1441.72 Q116.672 1443.62 114.566 1446.21 Q113.987 1446.88 110.885 1450.1 Q107.784 1453.3 102.135 1459.06 Z\\\" fill=\\\"#000000\\\" fill-rule=\\\"evenodd\\\" fill-opacity=\\\"1\\\" \\/><path clip-path=\\\"url(#clip510)\\\" d=\\\"M 0 0 M62.9921 1106.73 L92.6679 1106.73 L92.6679 1110.67 L62.9921 1110.67 L62.9921 1106.73 Z\\\" fill=\\\"#000000\\\" fill-rule=\\\"evenodd\\\" fill-opacity=\\\"1\\\" \\/><path clip-path=\\\"url(#clip510)\\\" d=\\\"M 0 0 M98.5475 1119.63 L106.186 1119.63 L106.186 1093.26 L97.8762 1094.93 L97.8762 1090.67 L106.14 1089 L110.816 1089 L110.816 1119.63 L118.455 1119.63 L118.455 1123.56 L98.5475 1123.56 L98.5475 1119.63 Z\\\" fill=\\\"#000000\\\" fill-rule=\\\"evenodd\\\" fill-opacity=\\\"1\\\" \\/><path clip-path=\\\"url(#clip510)\\\" d=\\\"M 0 0 M106.51 752.645 Q102.899 752.645 101.071 756.209 Q99.2651 759.751 99.2651 766.881 Q99.2651 773.987 101.071 777.552 Q102.899 781.094 106.51 781.094 Q110.145 781.094 111.95 777.552 Q113.779 773.987 113.779 766.881 Q113.779 759.751 111.95 756.209 Q110.145 752.645 106.51 752.645 M106.51 748.941 Q112.321 748.941 115.376 753.547 Q118.455 758.131 118.455 766.881 Q118.455 775.608 115.376 780.214 Q112.321 784.797 106.51 784.797 Q100.7 784.797 97.6216 780.214 Q94.566 775.608 94.566 766.881 Q94.566 758.131 97.6216 753.547 Q100.7 748.941 106.51 748.941 Z\\\" fill=\\\"#000000\\\" fill-rule=\\\"evenodd\\\" fill-opacity=\\\"1\\\" \\/><path clip-path=\\\"url(#clip510)\\\" d=\\\"M 0 0 M98.5475 440.756 L106.186 440.756 L106.186 414.39 L97.8762 416.057 L97.8762 411.798 L106.14 410.131 L110.816 410.131 L110.816 440.756 L118.455 440.756 L118.455 444.691 L98.5475 444.691 L98.5475 440.756 Z\\\" fill=\\\"#000000\\\" fill-rule=\\\"evenodd\\\" fill-opacity=\\\"1\\\" \\/><path clip-path=\\\"url(#clip510)\\\" d=\\\"M 0 0 M102.135 101.321 L118.455 101.321 L118.455 105.256 L96.5105 105.256 L96.5105 101.321 Q99.1725 98.5665 103.756 93.9369 Q108.362 89.2841 109.543 87.9416 Q111.788 85.4184 112.668 83.6823 Q113.571 81.9231 113.571 80.2333 Q113.571 77.4786 111.626 75.7425 Q109.705 74.0064 106.603 74.0064 Q104.404 74.0064 101.95 74.7703 Q99.5197 75.5342 96.7419 77.0851 L96.7419 72.3629 Q99.566 71.2287 102.02 70.65 Q104.473 70.0713 106.51 70.0713 Q111.881 70.0713 115.075 72.7565 Q118.27 75.4416 118.27 79.9323 Q118.27 82.062 117.459 83.9832 Q116.672 85.8814 114.566 88.474 Q113.987 89.1453 110.885 92.3628 Q107.784 95.5573 102.135 101.321 Z\\\" fill=\\\"#000000\\\" fill-rule=\\\"evenodd\\\" fill-opacity=\\\"1\\\" \\/><polyline clip-path=\\\"url(#clip512)\\\" style=\\\"stroke:#f8c931; stroke-width:4; stroke-opacity:1; fill:none\\\" points=\\\"\\n  205.01,1426.64 247.565,1429.72 290.12,1432.66 332.675,1435.48 375.23,1438.17 417.785,1440.72 460.34,1443.14 502.895,1445.44 508.375,1445.72 \\n  \\\"\\/>\\n<polyline clip-path=\\\"url(#clip512)\\\" style=\\\"stroke:#ba3655; stroke-width:4; stroke-opacity:1; fill:none\\\" points=\\\"\\n  205.01,1246.9 247.565,1251.29 252.294,1251.75 290.12,1255.27 332.675,1259.05 375.23,1262.66 417.785,1266.09 460.34,1269.35 502.895,1272.42 545.45,1275.33 \\n  588.005,1278.05 611.483,1279.46 630.559,1280.54 673.114,1282.79 715.669,1284.87 758.224,1286.78 800.779,1288.53 843.334,1290.11 885.889,1291.53 928.444,1292.78 \\n  970.999,1293.86 1013.55,1294.77 1056.11,1295.52 1098.66,1296.1 1141.22,1296.52 1183.77,1296.77 1226.33,1296.85 1268.88,1296.77 1311.44,1296.52 1353.99,1296.1 \\n  1396.55,1295.52 1439.1,1294.77 1481.66,1293.86 1524.21,1292.78 1566.77,1291.53 1609.32,1290.11 1651.88,1288.53 1694.43,1286.78 1736.99,1284.87 1779.54,1282.79 \\n  1822.1,1280.54 1841.17,1279.46 1864.65,1278.05 1907.21,1275.33 1949.76,1272.42 1992.32,1269.35 2034.87,1266.09 2077.43,1262.66 2119.98,1259.05 2162.54,1255.27 \\n  2200.36,1251.75 2205.09,1251.29 2247.65,1246.9 2290.2,1242.33 \\n  \\\"\\/>\\n<polyline clip-path=\\\"url(#clip512)\\\" style=\\\"stroke:#a12b61; stroke-width:4; stroke-opacity:1; fill:none\\\" points=\\\"\\n  2290.2,1204.71 2247.65,1209.58 2205.09,1214.25 2162.54,1218.72 2119.98,1222.99 2108.95,1224.04 2077.43,1226.88 2034.87,1230.52 1992.32,1233.97 1949.76,1237.23 \\n  1907.21,1240.31 1864.65,1243.2 1822.1,1245.91 1779.54,1248.43 1736.99,1250.76 1717.33,1251.75 1694.43,1252.84 1651.88,1254.69 1609.32,1256.36 1566.77,1257.86 \\n  1524.21,1259.17 1481.66,1260.32 1439.1,1261.29 1396.55,1262.08 1353.99,1262.69 1311.44,1263.13 1268.88,1263.4 1226.33,1263.49 1183.77,1263.4 1141.22,1263.13 \\n  1098.66,1262.69 1056.11,1262.08 1013.55,1261.29 970.999,1260.32 928.444,1259.17 885.889,1257.86 843.334,1256.36 800.779,1254.69 758.224,1252.84 735.328,1251.75 \\n  715.669,1250.76 673.114,1248.43 630.559,1245.91 588.005,1243.2 545.45,1240.31 502.895,1237.23 460.34,1233.97 417.785,1230.52 375.23,1226.88 343.703,1224.04 \\n  332.675,1222.99 290.12,1218.72 247.565,1214.25 205.01,1209.58 \\n  \\\"\\/>\\n<polyline clip-path=\\\"url(#clip512)\\\" style=\\\"stroke:#88216a; stroke-width:4; stroke-opacity:1; fill:none\\\" points=\\\"\\n  205.01,1169.02 247.565,1174.01 290.12,1178.79 332.675,1183.36 375.23,1187.71 417.785,1191.85 460.34,1195.78 466.723,1196.33 502.895,1199.29 545.45,1202.57 \\n  588.005,1205.65 630.559,1208.53 673.114,1211.21 715.669,1213.69 758.224,1215.97 800.779,1218.06 843.334,1219.95 885.889,1221.64 928.444,1223.13 958.723,1224.04 \\n  970.999,1224.39 1013.55,1225.42 1056.11,1226.26 1098.66,1226.91 1141.22,1227.38 1183.77,1227.66 1226.33,1227.75 1268.88,1227.66 1311.44,1227.38 1353.99,1226.91 \\n  1396.55,1226.26 1439.1,1225.42 1481.66,1224.39 1493.93,1224.04 1524.21,1223.13 1566.77,1221.64 1609.32,1219.95 1651.88,1218.06 1694.43,1215.97 1736.99,1213.69 \\n  1779.54,1211.21 1822.1,1208.53 1864.65,1205.65 1907.21,1202.57 1949.76,1199.29 1985.93,1196.33 1992.32,1195.78 2034.87,1191.85 2077.43,1187.71 2119.98,1183.36 \\n  2162.54,1178.79 2205.09,1174.01 2247.65,1169.02 2250.9,1168.63 2290.2,1163.47 \\n  \\\"\\/>\\n<polyline clip-path=\\\"url(#clip512)\\\" style=\\\"stroke:#6e186e; stroke-width:4; stroke-opacity:1; fill:none\\\" points=\\\"\\n  2290.2,1117.16 2247.65,1123.2 2205.09,1128.99 2162.54,1134.53 2119.98,1139.82 2110.77,1140.92 2077.43,1144.58 2034.87,1149.03 1992.32,1153.25 1949.76,1157.24 \\n  1907.21,1161 1864.65,1164.54 1822.1,1167.84 1811.26,1168.63 1779.54,1170.76 1736.99,1173.42 1694.43,1175.86 1651.88,1178.09 1609.32,1180.11 1566.77,1181.91 \\n  1524.21,1183.5 1481.66,1184.88 1439.1,1186.05 1396.55,1187.01 1353.99,1187.75 1311.44,1188.28 1268.88,1188.6 1226.33,1188.7 1183.77,1188.6 1141.22,1188.28 \\n  1098.66,1187.75 1056.11,1187.01 1013.55,1186.05 970.999,1184.88 928.444,1183.5 885.889,1181.91 843.334,1180.11 800.779,1178.09 758.224,1175.86 715.669,1173.42 \\n  673.114,1170.76 641.395,1168.63 630.559,1167.84 588.005,1164.54 545.45,1161 502.895,1157.24 460.34,1153.25 417.785,1149.03 375.23,1144.58 341.887,1140.92 \\n  332.675,1139.82 290.12,1134.53 247.565,1128.99 205.01,1123.2 \\n  \\\"\\/>\\n<polyline clip-path=\\\"url(#clip512)\\\" style=\\\"stroke:#550f6d; stroke-width:4; stroke-opacity:1; fill:none\\\" points=\\\"\\n  205.01,1070.47 247.565,1077.36 290.12,1083.96 300.512,1085.5 332.675,1089.85 375.23,1095.34 417.785,1100.56 460.34,1105.51 502.895,1110.2 531.909,1113.21 \\n  545.45,1114.5 588.005,1118.32 630.559,1121.89 673.114,1125.22 715.669,1128.29 758.224,1131.13 800.779,1133.71 843.334,1136.05 885.889,1138.15 928.444,1139.99 \\n  952.995,1140.92 970.999,1141.54 1013.55,1142.8 1056.11,1143.82 1098.66,1144.62 1141.22,1145.19 1183.77,1145.54 1226.33,1145.65 1268.88,1145.54 1311.44,1145.19 \\n  1353.99,1144.62 1396.55,1143.82 1439.1,1142.8 1481.66,1141.54 1499.66,1140.92 1524.21,1139.99 1566.77,1138.15 1609.32,1136.05 1651.88,1133.71 1694.43,1131.13 \\n  1736.99,1128.29 1779.54,1125.22 1822.1,1121.89 1864.65,1118.32 1907.21,1114.5 1920.75,1113.21 1949.76,1110.2 1992.32,1105.51 2034.87,1100.56 2077.43,1095.34 \\n  2119.98,1089.85 2152.14,1085.5 2162.54,1083.96 2205.09,1077.36 2247.65,1070.47 2290.2,1063.29 \\n  \\\"\\/>\\n<polyline clip-path=\\\"url(#clip512)\\\" style=\\\"stroke:#3b0964; stroke-width:4; stroke-opacity:1; fill:none\\\" points=\\\"\\n  2290.2,996.394 2264.91,1002.37 2247.65,1005.97 2205.09,1014.48 2162.54,1022.63 2121.84,1030.08 2119.98,1030.39 2077.43,1037.03 2034.87,1043.35 1992.32,1049.34 \\n  1949.76,1055.02 1927.68,1057.79 1907.21,1060.12 1864.65,1064.66 1822.1,1068.91 1779.54,1072.87 1736.99,1076.54 1694.43,1079.91 1651.88,1082.99 1613.52,1085.5 \\n  1609.32,1085.75 1566.77,1088.03 1524.21,1090.03 1481.66,1091.77 1439.1,1093.25 1396.55,1094.45 1353.99,1095.39 1311.44,1096.06 1268.88,1096.46 1226.33,1096.59 \\n  1183.77,1096.46 1141.22,1096.06 1098.66,1095.39 1056.11,1094.45 1013.55,1093.25 970.999,1091.77 928.444,1090.03 885.889,1088.03 843.334,1085.75 839.134,1085.5 \\n  800.779,1082.99 758.224,1079.91 715.669,1076.54 673.114,1072.87 630.559,1068.91 588.005,1064.66 545.45,1060.12 524.978,1057.79 502.895,1055.02 460.34,1049.34 \\n  417.785,1043.35 375.23,1037.03 332.675,1030.39 330.82,1030.08 290.12,1022.63 247.565,1014.48 205.01,1005.97 \\n  \\\"\\/>\\n<polyline clip-path=\\\"url(#clip512)\\\" style=\\\"stroke:#1f0c47; stroke-width:4; stroke-opacity:1; fill:none\\\" points=\\\"\\n  205.01,912.489 222.893,919.245 247.565,926.872 290.12,939.467 316.593,946.954 332.675,950.803 375.23,960.513 417.785,969.749 441.65,974.663 460.34,977.999 \\n  502.895,985.182 545.45,991.956 588.005,998.318 616.986,1002.37 630.559,1004.05 673.114,1008.94 715.669,1013.46 758.224,1017.63 800.779,1021.43 843.334,1024.87 \\n  885.889,1027.95 919.223,1030.08 928.444,1030.61 970.999,1032.71 1013.55,1034.5 1056.11,1035.96 1098.66,1037.09 1141.22,1037.9 1183.77,1038.39 1226.33,1038.55 \\n  1268.88,1038.39 1311.44,1037.9 1353.99,1037.09 1396.55,1035.96 1439.1,1034.5 1481.66,1032.71 1524.21,1030.61 1533.43,1030.08 1566.77,1027.95 1609.32,1024.87 \\n  1651.88,1021.43 1694.43,1017.63 1736.99,1013.46 1779.54,1008.94 1822.1,1004.05 1835.67,1002.37 1864.65,998.318 1907.21,991.956 1949.76,985.182 1992.32,977.999 \\n  2011.01,974.663 2034.87,969.749 2077.43,960.513 2119.98,950.803 2136.06,946.954 2162.54,939.467 2205.09,926.872 2229.76,919.245 2247.65,912.489 2290.2,895.727 \\n  \\n  \\\"\\/>\\n<polyline clip-path=\\\"url(#clip512)\\\" style=\\\"stroke:#1f0c47; stroke-width:4; stroke-opacity:1; fill:none\\\" points=\\\"\\n  2290.2,665.674 2247.65,648.912 2229.76,642.156 2205.09,634.529 2162.54,621.934 2136.06,614.447 2119.98,610.598 2077.43,600.888 2034.87,591.652 2011.01,586.738 \\n  1992.32,583.402 1949.76,576.219 1907.21,569.445 1864.65,563.082 1835.67,559.029 1822.1,557.354 1779.54,552.464 1736.99,547.936 1694.43,543.771 1651.88,539.967 \\n  1609.32,536.527 1566.77,533.448 1533.43,531.32 1524.21,530.793 1481.66,528.687 1439.1,526.904 1396.55,525.446 1353.99,524.311 1311.44,523.501 1268.88,523.015 \\n  1226.33,522.853 1183.77,523.015 1141.22,523.501 1098.66,524.311 1056.11,525.446 1013.55,526.904 970.999,528.687 928.444,530.793 919.223,531.32 885.889,533.448 \\n  843.334,536.527 800.779,539.967 758.224,543.771 715.669,547.936 673.114,552.464 630.559,557.354 616.986,559.029 588.005,563.082 545.45,569.445 502.895,576.219 \\n  460.34,583.402 441.65,586.738 417.785,591.652 375.23,600.888 332.675,610.598 316.593,614.447 290.12,621.934 247.565,634.529 222.893,642.156 205.01,648.912 \\n  \\n  \\\"\\/>\\n<polyline clip-path=\\\"url(#clip512)\\\" style=\\\"stroke:#3b0964; stroke-width:4; stroke-opacity:1; fill:none\\\" points=\\\"\\n  205.01,555.429 247.565,546.917 290.12,538.768 330.82,531.32 332.675,531.016 375.23,524.372 417.785,518.053 460.34,512.057 502.895,506.386 524.978,503.611 \\n  545.45,501.283 588.005,496.739 630.559,492.487 673.114,488.528 715.669,484.863 758.224,481.491 800.779,478.412 839.134,475.902 843.334,475.651 885.889,473.375 \\n  928.444,471.367 970.999,469.627 1013.55,468.155 1056.11,466.95 1098.66,466.013 1141.22,465.344 1183.77,464.942 1226.33,464.808 1268.88,464.942 1311.44,465.344 \\n  1353.99,466.013 1396.55,466.95 1439.1,468.155 1481.66,469.627 1524.21,471.367 1566.77,473.375 1609.32,475.651 1613.52,475.902 1651.88,478.412 1694.43,481.491 \\n  1736.99,484.863 1779.54,488.528 1822.1,492.487 1864.65,496.739 1907.21,501.283 1927.68,503.611 1949.76,506.386 1992.32,512.057 2034.87,518.053 2077.43,524.372 \\n  2119.98,531.016 2121.84,531.32 2162.54,538.768 2205.09,546.917 2247.65,555.429 2264.91,559.029 2290.2,565.007 \\n  \\\"\\/>\\n<polyline clip-path=\\\"url(#clip512)\\\" style=\\\"stroke:#550f6d; stroke-width:4; stroke-opacity:1; fill:none\\\" points=\\\"\\n  2290.2,498.113 2247.65,490.929 2205.09,484.039 2162.54,477.441 2152.14,475.902 2119.98,471.551 2077.43,466.063 2034.87,460.843 1992.32,455.89 1949.76,451.205 \\n  1920.75,448.193 1907.21,446.9 1864.65,443.082 1822.1,439.511 1779.54,436.186 1736.99,433.107 1694.43,430.274 1651.88,427.688 1609.32,425.348 1566.77,423.255 \\n  1524.21,421.408 1499.66,420.484 1481.66,419.857 1439.1,418.602 1396.55,417.576 1353.99,416.778 1311.44,416.208 1268.88,415.866 1226.33,415.752 1183.77,415.866 \\n  1141.22,416.208 1098.66,416.778 1056.11,417.576 1013.55,418.602 970.999,419.857 952.995,420.484 928.444,421.408 885.889,423.255 843.334,425.348 800.779,427.688 \\n  758.224,430.274 715.669,433.107 673.114,436.186 630.559,439.511 588.005,443.082 545.45,446.9 531.909,448.193 502.895,451.205 460.34,455.89 417.785,460.843 \\n  375.23,466.063 332.675,471.551 300.512,475.902 290.12,477.441 247.565,484.039 205.01,490.929 \\n  \\\"\\/>\\n<polyline clip-path=\\\"url(#clip512)\\\" style=\\\"stroke:#6e186e; stroke-width:4; stroke-opacity:1; fill:none\\\" points=\\\"\\n  205.01,438.202 247.565,432.414 290.12,426.872 332.675,421.577 341.887,420.484 375.23,416.821 417.785,412.374 460.34,408.155 502.895,404.164 545.45,400.401 \\n  588.005,396.866 630.559,393.559 641.395,392.775 673.114,390.638 715.669,387.984 758.224,385.542 800.779,383.313 843.334,381.296 885.889,379.491 928.444,377.899 \\n  970.999,376.518 1013.55,375.351 1056.11,374.395 1098.66,373.652 1141.22,373.121 1183.77,372.803 1226.33,372.697 1268.88,372.803 1311.44,373.121 1353.99,373.652 \\n  1396.55,374.395 1439.1,375.351 1481.66,376.518 1524.21,377.899 1566.77,379.491 1609.32,381.296 1651.88,383.313 1694.43,385.542 1736.99,387.984 1779.54,390.638 \\n  1811.26,392.775 1822.1,393.559 1864.65,396.866 1907.21,400.401 1949.76,404.164 1992.32,408.155 2034.87,412.374 2077.43,416.821 2110.77,420.484 2119.98,421.577 \\n  2162.54,426.872 2205.09,432.414 2247.65,438.202 2290.2,444.237 \\n  \\\"\\/>\\n<polyline clip-path=\\\"url(#clip512)\\\" style=\\\"stroke:#88216a; stroke-width:4; stroke-opacity:1; fill:none\\\" points=\\\"\\n  2290.2,397.935 2250.9,392.775 2247.65,392.377 2205.09,387.387 2162.54,382.61 2119.98,378.045 2077.43,373.692 2034.87,369.551 1992.32,365.623 1985.93,365.066 \\n  1949.76,362.111 1907.21,358.834 1864.65,355.755 1822.1,352.875 1779.54,350.193 1736.99,347.711 1694.43,345.426 1651.88,343.341 1609.32,341.454 1566.77,339.765 \\n  1524.21,338.276 1493.93,337.357 1481.66,337.007 1439.1,335.981 1396.55,335.141 1353.99,334.488 1311.44,334.022 1268.88,333.742 1226.33,333.648 1183.77,333.742 \\n  1141.22,334.022 1098.66,334.488 1056.11,335.141 1013.55,335.981 970.999,337.007 958.723,337.357 928.444,338.276 885.889,339.765 843.334,341.454 800.779,343.341 \\n  758.224,345.426 715.669,347.711 673.114,350.193 630.559,352.875 588.005,355.755 545.45,358.834 502.895,362.111 466.723,365.066 460.34,365.623 417.785,369.551 \\n  375.23,373.692 332.675,378.045 290.12,382.61 247.565,387.387 205.01,392.377 \\n  \\\"\\/>\\n<polyline clip-path=\\\"url(#clip512)\\\" style=\\\"stroke:#a12b61; stroke-width:4; stroke-opacity:1; fill:none\\\" points=\\\"\\n  205.01,351.82 247.565,347.152 290.12,342.683 332.675,338.412 343.703,337.357 375.23,334.523 417.785,330.885 460.34,327.433 502.895,324.167 545.45,321.088 \\n  588.005,318.196 630.559,315.491 673.114,312.972 715.669,310.639 735.328,309.648 758.224,308.559 800.779,306.712 843.334,305.041 885.889,303.545 928.444,302.226 \\n  970.999,301.082 1013.55,300.115 1056.11,299.323 1098.66,298.707 1141.22,298.268 1183.77,298.004 1226.33,297.916 1268.88,298.004 1311.44,298.268 1353.99,298.707 \\n  1396.55,299.323 1439.1,300.115 1481.66,301.082 1524.21,302.226 1566.77,303.545 1609.32,305.041 1651.88,306.712 1694.43,308.559 1717.33,309.648 1736.99,310.639 \\n  1779.54,312.972 1822.1,315.491 1864.65,318.196 1907.21,321.088 1949.76,324.167 1992.32,327.433 2034.87,330.885 2077.43,334.523 2108.95,337.357 2119.98,338.412 \\n  2162.54,342.683 2205.09,347.152 2247.65,351.82 2290.2,356.686 \\n  \\\"\\/>\\n<polyline clip-path=\\\"url(#clip512)\\\" style=\\\"stroke:#ba3655; stroke-width:4; stroke-opacity:1; fill:none\\\" points=\\\"\\n  2290.2,319.071 2247.65,314.499 2205.09,310.114 2200.36,309.648 2162.54,306.129 2119.98,302.347 2077.43,298.74 2034.87,295.31 1992.32,292.055 1949.76,288.976 \\n  1907.21,286.073 1864.65,283.346 1841.17,281.939 1822.1,280.857 1779.54,278.611 1736.99,276.53 1694.43,274.617 1651.88,272.869 1609.32,271.288 1566.77,269.874 \\n  1524.21,268.625 1481.66,267.544 1439.1,266.628 1396.55,265.879 1353.99,265.297 1311.44,264.881 1268.88,264.631 1226.33,264.548 1183.77,264.631 1141.22,264.881 \\n  1098.66,265.297 1056.11,265.879 1013.55,266.628 970.999,267.544 928.444,268.625 885.889,269.874 843.334,271.288 800.779,272.869 758.224,274.617 715.669,276.53 \\n  673.114,278.611 630.559,280.857 611.483,281.939 588.005,283.346 545.45,286.073 502.895,288.976 460.34,292.055 417.785,295.31 375.23,298.74 332.675,302.347 \\n  290.12,306.129 252.294,309.648 247.565,310.114 205.01,314.499 \\n  \\\"\\/>\\n<polyline clip-path=\\\"url(#clip512)\\\" style=\\\"stroke:#d04544; stroke-width:4; stroke-opacity:1; fill:none\\\" points=\\\"\\n  205.01,279.973 247.565,276.062 290.12,272.318 332.675,268.74 375.23,265.328 417.785,262.083 460.34,259.004 502.895,256.092 531.748,254.23 545.45,253.391 \\n  588.005,250.944 630.559,248.655 673.114,246.523 715.669,244.55 758.224,242.734 800.779,241.076 843.334,239.576 885.889,238.234 928.444,237.05 970.999,236.024 \\n  1013.55,235.155 1056.11,234.445 1098.66,233.892 1141.22,233.498 1183.77,233.261 1226.33,233.182 1268.88,233.261 1311.44,233.498 1353.99,233.892 1396.55,234.445 \\n  1439.1,235.155 1481.66,236.024 1524.21,237.05 1566.77,238.234 1609.32,239.576 1651.88,241.076 1694.43,242.734 1736.99,244.55 1779.54,246.523 1822.1,248.655 \\n  1864.65,250.944 1907.21,253.391 1920.91,254.23 1949.76,256.092 1992.32,259.004 2034.87,262.083 2077.43,265.328 2119.98,268.74 2162.54,272.318 2205.09,276.062 \\n  2247.65,279.973 2268.16,281.939 2290.2,284.171 \\n  \\\"\\/>\\n<polyline clip-path=\\\"url(#clip512)\\\" style=\\\"stroke:#e35832; stroke-width:4; stroke-opacity:1; fill:none\\\" points=\\\"\\n  2290.2,251.684 2247.65,247.816 2205.09,244.106 2162.54,240.553 2119.98,237.159 2077.43,233.922 2034.87,230.843 1992.32,227.922 1970.73,226.521 1949.76,225.226 \\n  1907.21,222.748 1864.65,220.42 1822.1,218.242 1779.54,216.215 1736.99,214.337 1694.43,212.61 1651.88,211.033 1609.32,209.607 1566.77,208.33 1524.21,207.204 \\n  1481.66,206.227 1439.1,205.401 1396.55,204.726 1353.99,204.2 1311.44,203.825 1268.88,203.599 1226.33,203.524 1183.77,203.599 1141.22,203.825 1098.66,204.2 \\n  1056.11,204.726 1013.55,205.401 970.999,206.227 928.444,207.204 885.889,208.33 843.334,209.607 800.779,211.033 758.224,212.61 715.669,214.337 673.114,216.215 \\n  630.559,218.242 588.005,220.42 545.45,222.748 502.895,225.226 481.921,226.521 460.34,227.922 417.785,230.843 375.23,233.922 332.675,237.159 290.12,240.553 \\n  247.565,244.106 205.01,247.816 \\n  \\\"\\/>\\n<polyline clip-path=\\\"url(#clip512)\\\" style=\\\"stroke:#f0701e; stroke-width:4; stroke-opacity:1; fill:none\\\" points=\\\"\\n  205.01,217.444 247.565,213.915 290.12,210.536 332.675,207.307 375.23,204.228 417.785,201.3 455.883,198.812 460.34,198.535 502.895,196.029 545.45,193.666 \\n  588.005,191.446 630.559,189.37 673.114,187.437 715.669,185.647 758.224,184 800.779,182.496 843.334,181.136 885.889,179.919 928.444,178.845 970.999,177.914 \\n  1013.55,177.126 1056.11,176.482 1098.66,175.981 1141.22,175.623 1183.77,175.408 1226.33,175.336 1268.88,175.408 1311.44,175.623 1353.99,175.981 1396.55,176.482 \\n  1439.1,177.126 1481.66,177.914 1524.21,178.845 1566.77,179.919 1609.32,181.136 1651.88,182.496 1694.43,184 1736.99,185.647 1779.54,187.437 1822.1,189.37 \\n  1864.65,191.446 1907.21,193.666 1949.76,196.029 1992.32,198.535 1996.77,198.812 2034.87,201.3 2077.43,204.228 2119.98,207.307 2162.54,210.536 2205.09,213.915 \\n  2247.65,217.444 2290.2,221.124 \\n  \\\"\\/>\\n<polyline clip-path=\\\"url(#clip512)\\\" style=\\\"stroke:#f98c09; stroke-width:4; stroke-opacity:1; fill:none\\\" points=\\\"\\n  2290.2,192.118 2247.65,188.609 2205.09,185.244 2162.54,182.022 2119.98,178.943 2077.43,176.008 2034.87,173.215 2000.94,171.103 1992.32,170.59 1949.76,168.195 \\n  1907.21,165.938 1864.65,163.817 1822.1,161.833 1779.54,159.985 1736.99,158.275 1694.43,156.701 1651.88,155.265 1609.32,153.965 1566.77,152.802 1524.21,151.775 \\n  1481.66,150.886 1439.1,150.133 1396.55,149.518 1353.99,149.039 1311.44,148.697 1268.88,148.491 1226.33,148.423 1183.77,148.491 1141.22,148.697 1098.66,149.039 \\n  1056.11,149.518 1013.55,150.133 970.999,150.886 928.444,151.775 885.889,152.802 843.334,153.965 800.779,155.265 758.224,156.701 715.669,158.275 673.114,159.985 \\n  630.559,161.833 588.005,163.817 545.45,165.938 502.895,168.195 460.34,170.59 451.714,171.103 417.785,173.215 375.23,176.008 332.675,178.943 290.12,182.022 \\n  247.565,185.244 205.01,188.609 \\n  \\\"\\/>\\n<polyline clip-path=\\\"url(#clip512)\\\" style=\\\"stroke:#fbaa0e; stroke-width:4; stroke-opacity:1; fill:none\\\" points=\\\"\\n  205.01,161.106 247.565,157.89 290.12,154.811 332.675,151.869 375.23,149.064 417.785,146.396 460.34,143.865 468.699,143.394 502.895,141.552 545.45,139.39 \\n  588.005,137.359 630.559,135.46 673.114,133.691 715.669,132.054 758.224,130.547 800.779,129.171 843.334,127.927 885.889,126.813 928.444,125.83 970.999,124.979 \\n  1013.55,124.258 1056.11,123.669 1098.66,123.21 1141.22,122.883 1183.77,122.686 1226.33,122.621 1268.88,122.686 1311.44,122.883 1353.99,123.21 1396.55,123.669 \\n  1439.1,124.258 1481.66,124.979 1524.21,125.83 1566.77,126.813 1609.32,127.927 1651.88,129.171 1694.43,130.547 1736.99,132.054 1779.54,133.691 1822.1,135.46 \\n  1864.65,137.359 1907.21,139.39 1949.76,141.552 1983.96,143.394 1992.32,143.865 2034.87,146.396 2077.43,149.064 2119.98,151.869 2162.54,154.811 2205.09,157.89 \\n  2247.65,161.106 2290.2,164.458 \\n  \\\"\\/>\\n<polyline clip-path=\\\"url(#clip512)\\\" style=\\\"stroke:#f8c931; stroke-width:4; stroke-opacity:1; fill:none\\\" points=\\\"\\n  2290.2,137.974 2247.65,134.764 2205.09,131.685 2162.54,128.737 2119.98,125.921 2077.43,123.235 2034.87,120.68 1992.32,118.256 1949.76,115.964 1944.28,115.685 \\n  1907.21,113.879 1864.65,111.931 1822.1,110.109 1779.54,108.412 1736.99,106.842 1694.43,105.396 1651.88,104.077 1609.32,102.883 1566.77,101.815 1524.21,100.873 \\n  1481.66,100.056 1439.1,99.3646 1396.55,98.7991 1353.99,98.3593 1311.44,98.0451 1268.88,97.8566 1226.33,97.7938 1183.77,97.8566 1141.22,98.0451 1098.66,98.3593 \\n  1056.11,98.7991 1013.55,99.3646 970.999,100.056 928.444,100.873 885.889,101.815 843.334,102.883 800.779,104.077 758.224,105.396 715.669,106.842 673.114,108.412 \\n  630.559,110.109 588.005,111.931 545.45,113.879 508.375,115.685 502.895,115.964 460.34,118.256 417.785,120.68 375.23,123.235 332.675,125.921 290.12,128.737 \\n  247.565,131.685 205.01,134.764 \\n  \\\"\\/>\\n<polyline clip-path=\\\"url(#clip512)\\\" style=\\\"stroke:#f1e864; stroke-width:4; stroke-opacity:1; fill:none\\\" points=\\\"\\n  205.01,109.441 247.565,106.488 290.12,103.661 332.675,100.959 375.23,98.3828 417.785,95.9324 460.34,93.6076 502.895,91.4085 545.45,89.335 575.135,87.9763 \\n  \\n  \\\"\\/>\\n<polyline clip-path=\\\"url(#clip512)\\\" style=\\\"stroke:#f1e864; stroke-width:4; stroke-opacity:1; fill:none\\\" points=\\\"\\n  1877.52,87.9763 1907.21,89.335 1949.76,91.4085 1992.32,93.6076 2034.87,95.9324 2077.43,98.3828 2119.98,100.959 2162.54,103.661 2205.09,106.488 2247.65,109.441 \\n  \\n  \\\"\\/>\\n<polyline clip-path=\\\"url(#clip512)\\\" style=\\\"stroke:#f1e864; stroke-width:4; stroke-opacity:1; fill:none\\\" points=\\\"\\n  2290.2,112.52 2247.65,109.441 \\n  \\\"\\/>\\n<polyline clip-path=\\\"url(#clip512)\\\" style=\\\"stroke:#d04544; stroke-width:4; stroke-opacity:1; fill:none\\\" points=\\\"\\n  2290.2,1277.23 2268.16,1279.46 2247.65,1281.43 2205.09,1285.34 2162.54,1289.08 2119.98,1292.66 2077.43,1296.07 2034.87,1299.32 1992.32,1302.4 1949.76,1305.31 \\n  1920.91,1307.17 1907.21,1308.01 1864.65,1310.46 1822.1,1312.75 1779.54,1314.88 1736.99,1316.85 1694.43,1318.67 1651.88,1320.32 1609.32,1321.82 1566.77,1323.17 \\n  1524.21,1324.35 1481.66,1325.38 1439.1,1326.25 1396.55,1326.96 1353.99,1327.51 1311.44,1327.9 1268.88,1328.14 1226.33,1328.22 1183.77,1328.14 1141.22,1327.9 \\n  1098.66,1327.51 1056.11,1326.96 1013.55,1326.25 970.999,1325.38 928.444,1324.35 885.889,1323.17 843.334,1321.82 800.779,1320.32 758.224,1318.67 715.669,1316.85 \\n  673.114,1314.88 630.559,1312.75 588.005,1310.46 545.45,1308.01 531.748,1307.17 502.895,1305.31 460.34,1302.4 417.785,1299.32 375.23,1296.07 332.675,1292.66 \\n  290.12,1289.08 247.565,1285.34 205.01,1281.43 \\n  \\\"\\/>\\n<polyline clip-path=\\\"url(#clip512)\\\" style=\\\"stroke:#e35832; stroke-width:4; stroke-opacity:1; fill:none\\\" points=\\\"\\n  205.01,1313.58 247.565,1317.3 290.12,1320.85 332.675,1324.24 375.23,1327.48 417.785,1330.56 460.34,1333.48 481.921,1334.88 502.895,1336.18 545.45,1338.65 \\n  588.005,1340.98 630.559,1343.16 673.114,1345.19 715.669,1347.06 758.224,1348.79 800.779,1350.37 843.334,1351.79 885.889,1353.07 928.444,1354.2 970.999,1355.17 \\n  1013.55,1356 1056.11,1356.68 1098.66,1357.2 1141.22,1357.58 1183.77,1357.8 1226.33,1357.88 1268.88,1357.8 1311.44,1357.58 1353.99,1357.2 1396.55,1356.68 \\n  1439.1,1356 1481.66,1355.17 1524.21,1354.2 1566.77,1353.07 1609.32,1351.79 1651.88,1350.37 1694.43,1348.79 1736.99,1347.06 1779.54,1345.19 1822.1,1343.16 \\n  1864.65,1340.98 1907.21,1338.65 1949.76,1336.18 1970.73,1334.88 1992.32,1333.48 2034.87,1330.56 2077.43,1327.48 2119.98,1324.24 2162.54,1320.85 2205.09,1317.3 \\n  2247.65,1313.58 2290.2,1309.72 \\n  \\\"\\/>\\n<polyline clip-path=\\\"url(#clip512)\\\" style=\\\"stroke:#f0701e; stroke-width:4; stroke-opacity:1; fill:none\\\" points=\\\"\\n  2290.2,1340.28 2247.65,1343.96 2205.09,1347.49 2162.54,1350.87 2119.98,1354.09 2077.43,1357.17 2034.87,1360.1 1996.77,1362.59 1992.32,1362.87 1949.76,1365.37 \\n  1907.21,1367.73 1864.65,1369.95 1822.1,1372.03 1779.54,1373.96 1736.99,1375.75 1694.43,1377.4 1651.88,1378.9 1609.32,1380.26 1566.77,1381.48 1524.21,1382.56 \\n  1481.66,1383.49 1439.1,1384.27 1396.55,1384.92 1353.99,1385.42 1311.44,1385.78 1268.88,1385.99 1226.33,1386.06 1183.77,1385.99 1141.22,1385.78 1098.66,1385.42 \\n  1056.11,1384.92 1013.55,1384.27 970.999,1383.49 928.444,1382.56 885.889,1381.48 843.334,1380.26 800.779,1378.9 758.224,1377.4 715.669,1375.75 673.114,1373.96 \\n  630.559,1372.03 588.005,1369.95 545.45,1367.73 502.895,1365.37 460.34,1362.87 455.883,1362.59 417.785,1360.1 375.23,1357.17 332.675,1354.09 290.12,1350.87 \\n  247.565,1347.49 205.01,1343.96 \\n  \\\"\\/>\\n<polyline clip-path=\\\"url(#clip512)\\\" style=\\\"stroke:#f98c09; stroke-width:4; stroke-opacity:1; fill:none\\\" points=\\\"\\n  205.01,1372.79 247.565,1376.16 290.12,1379.38 332.675,1382.46 375.23,1385.39 417.785,1388.19 451.714,1390.3 460.34,1390.81 502.895,1393.21 545.45,1395.46 \\n  588.005,1397.58 630.559,1399.57 673.114,1401.42 715.669,1403.13 758.224,1404.7 800.779,1406.14 843.334,1407.44 885.889,1408.6 928.444,1409.63 970.999,1410.52 \\n  1013.55,1411.27 1056.11,1411.88 1098.66,1412.36 1141.22,1412.7 1183.77,1412.91 1226.33,1412.98 1268.88,1412.91 1311.44,1412.7 1353.99,1412.36 1396.55,1411.88 \\n  1439.1,1411.27 1481.66,1410.52 1524.21,1409.63 1566.77,1408.6 1609.32,1407.44 1651.88,1406.14 1694.43,1404.7 1736.99,1403.13 1779.54,1401.42 1822.1,1399.57 \\n  1864.65,1397.58 1907.21,1395.46 1949.76,1393.21 1992.32,1390.81 2000.94,1390.3 2034.87,1388.19 2077.43,1385.39 2119.98,1382.46 2162.54,1379.38 2205.09,1376.16 \\n  2247.65,1372.79 2290.2,1369.28 \\n  \\\"\\/>\\n<polyline clip-path=\\\"url(#clip512)\\\" style=\\\"stroke:#fbaa0e; stroke-width:4; stroke-opacity:1; fill:none\\\" points=\\\"\\n  2290.2,1396.94 2247.65,1400.3 2205.09,1403.51 2162.54,1406.59 2119.98,1409.53 2077.43,1412.34 2034.87,1415 1992.32,1417.54 1983.96,1418.01 1949.76,1419.85 \\n  1907.21,1422.01 1864.65,1424.04 1822.1,1425.94 1779.54,1427.71 1736.99,1429.35 1694.43,1430.85 1651.88,1432.23 1609.32,1433.47 1566.77,1434.59 1524.21,1435.57 \\n  1481.66,1436.42 1439.1,1437.14 1396.55,1437.73 1353.99,1438.19 1311.44,1438.52 1268.88,1438.71 1226.33,1438.78 1183.77,1438.71 1141.22,1438.52 1098.66,1438.19 \\n  1056.11,1437.73 1013.55,1437.14 970.999,1436.42 928.444,1435.57 885.889,1434.59 843.334,1433.47 800.779,1432.23 758.224,1430.85 715.669,1429.35 673.114,1427.71 \\n  630.559,1425.94 588.005,1424.04 545.45,1422.01 502.895,1419.85 468.699,1418.01 460.34,1417.54 417.785,1415 375.23,1412.34 332.675,1409.53 290.12,1406.59 \\n  247.565,1403.51 205.01,1400.3 \\n  \\\"\\/>\\n<polyline clip-path=\\\"url(#clip512)\\\" style=\\\"stroke:#f8c931; stroke-width:4; stroke-opacity:1; fill:none\\\" points=\\\"\\n  1944.28,1445.72 1949.76,1445.44 1992.32,1443.14 2034.87,1440.72 2077.43,1438.17 2119.98,1435.48 2162.54,1432.66 2205.09,1429.72 2247.65,1426.64 2290.2,1423.43 \\n  \\n  \\\"\\/>\\n<polyline clip-path=\\\"url(#clip512)\\\" style=\\\"stroke:#090621; stroke-width:4; stroke-opacity:1; fill:none\\\" points=\\\"\\n  1566.77,947.576 1524.21,951.128 1481.66,954.207 1439.1,956.812 1396.55,958.944 1353.99,960.602 1311.44,961.786 1268.88,962.496 1226.33,962.733 1183.77,962.496 \\n  1141.22,961.786 1098.66,960.602 1056.11,958.944 1013.55,956.812 970.999,954.207 928.444,951.128 885.889,947.576 879.318,946.954 843.334,942.931 800.779,937.613 \\n  758.224,931.735 715.669,925.298 678.859,919.245 673.114,918.091 630.559,908.854 588.005,898.934 558.319,891.536 545.45,887.413 502.895,872.899 477.818,863.827 \\n  460.34,854.976 425.117,836.118 417.785,829.576 395.28,808.409 385.46,780.7 395.28,752.992 417.785,731.825 425.117,725.283 460.34,706.425 477.818,697.574 \\n  502.895,688.502 545.45,673.988 558.319,669.865 588.005,662.467 630.559,652.546 673.114,643.31 678.859,642.156 715.669,636.103 758.224,629.666 800.779,623.788 \\n  843.334,618.47 879.318,614.447 885.889,613.825 928.444,610.273 970.999,607.194 1013.55,604.589 1056.11,602.457 1098.66,600.799 1141.22,599.615 1183.77,598.905 \\n  1226.33,598.668 1268.88,598.905 1311.44,599.615 1353.99,600.799 1396.55,602.457 1439.1,604.589 1481.66,607.194 1524.21,610.273 1566.77,613.825 1573.34,614.447 \\n  1609.32,618.47 1651.88,623.788 1694.43,629.666 1736.99,636.103 1773.8,642.156 1779.54,643.31 1822.1,652.546 1864.65,662.467 1894.34,669.865 1907.21,673.988 \\n  1949.76,688.502 1974.84,697.574 1992.32,706.425 2027.54,725.283 2034.87,731.825 2057.38,752.992 2067.2,780.7 2057.38,808.409 2034.87,829.576 2027.54,836.118 \\n  1992.32,854.976 1974.84,863.827 1949.76,872.899 1907.21,887.413 1894.34,891.536 1864.65,898.934 1822.1,908.854 1779.54,918.091 1773.8,919.245 1736.99,925.298 \\n  1694.43,931.735 1651.88,937.613 1609.32,942.931 1573.34,946.954 1566.77,947.576 \\n  \\\"\\/>\\n<circle clip-path=\\\"url(#clip512)\\\" cx=\\\"1247.61\\\" cy=\\\"766.846\\\" r=\\\"10\\\" fill=\\\"#ff0000\\\" fill-rule=\\\"evenodd\\\" fill-opacity=\\\"1\\\" stroke=\\\"#000000\\\" stroke-opacity=\\\"1\\\" stroke-width=\\\"3.2\\\"\\/>\\n<polyline clip-path=\\\"url(#clip512)\\\" style=\\\"stroke:#000000; stroke-width:8; stroke-opacity:1; fill:none\\\" points=\\\"\\n  726.308,1106.28 726.308,427.411 1768.9,427.411 1768.9,1106.28 726.308,1106.28 \\n  \\\"\\/>\\n<circle clip-path=\\\"url(#clip512)\\\" cx=\\\"1226.33\\\" cy=\\\"780.7\\\" r=\\\"14\\\" fill=\\\"#0000ff\\\" fill-rule=\\\"evenodd\\\" fill-opacity=\\\"1\\\" stroke=\\\"#000000\\\" stroke-opacity=\\\"1\\\" stroke-width=\\\"3.2\\\"\\/>\\n<\\/svg>\\n\"},\"nodeType\":\"DOM\",\"type\":\"node\",\"instanceArgs\":{\"namespace\":\"html\",\"tag\":\"div\"},\"children\":[]}]}}}},\"children\":[{\"props\":{},\"nodeType\":\"ObservableNode\",\"type\":\"node\",\"instanceArgs\":{\"id\":\"296593335132652311\",\"name\":\"obs-node\"},\"children\":[]}]}]},\n",
       "            window,\n",
       "        );\n",
       "    } else {\n",
       "        document\n",
       "            .querySelector('[data-webio-mountpoint=\"7876833528976532987\"]')\n",
       "            .innerHTML = (\n",
       "                '<div style=\"padding: 1em; background-color: #f8d6da; border: 1px solid #f5c6cb\">' +\n",
       "                '<p><strong>WebIO not detected.</strong></p>' +\n",
       "                '<p>Please read ' +\n",
       "                '<a href=\"https://juliagizmos.github.io/WebIO.jl/latest/troubleshooting/not-detected/\" target=\"_blank\">the troubleshooting guide</a> ' +\n",
       "                'for more information on how to resolve this issue.</p>' +\n",
       "                '<p><a href=\"https://juliagizmos.github.io/WebIO.jl/latest/troubleshooting/not-detected/\" target=\"_blank\">https://juliagizmos.github.io/WebIO.jl/latest/troubleshooting/not-detected/</a></p>' +\n",
       "                '</div>'\n",
       "            );\n",
       "    }\n",
       "    </script>\n",
       "</div>\n"
      ],
      "text/plain": [
       "Node{WebIO.DOM}(WebIO.DOM(:html, :div), Any[Node{WebIO.DOM}(WebIO.DOM(:html, :div), Any[Scope(Node{WebIO.DOM}(WebIO.DOM(:html, :div), Any[Node{WebIO.DOM}(WebIO.DOM(:html, :div), Any[Node{WebIO.DOM}(WebIO.DOM(:html, :label), Any[\"c1\"], Dict{Symbol,Any}(:className => \"interact \",:style => Dict{Any,Any}(:padding => \"5px 10px 0px 10px\")))], Dict{Symbol,Any}(:className => \"interact-flex-row-left\")), Node{WebIO.DOM}(WebIO.DOM(:html, :div), Any[Node{WebIO.DOM}(WebIO.DOM(:html, :input), Any[], Dict{Symbol,Any}(:max => 50,:min => 1,:attributes => Dict{Any,Any}(:type => \"range\",Symbol(\"data-bind\") => \"numericValue: index, valueUpdate: 'input', event: {change: function (){this.changes(this.changes()+1)}}\",\"orient\" => \"horizontal\"),:step => 1,:className => \"slider slider is-fullwidth\",:style => Dict{Any,Any}()))], Dict{Symbol,Any}(:className => \"interact-flex-row-center\")), Node{WebIO.DOM}(WebIO.DOM(:html, :div), Any[Node{WebIO.DOM}(WebIO.DOM(:html, :p), Any[], Dict{Symbol,Any}(:attributes => Dict(\"data-bind\" => \"text: formatted_val\")))], Dict{Symbol,Any}(:className => \"interact-flex-row-right\"))], Dict{Symbol,Any}(:className => \"interact-flex-row interact-widget\")), Dict{String,Tuple{Observables.AbstractObservable,Union{Nothing, Bool}}}(\"changes\" => (Observable{Int64} with 1 listeners. Value:\n",
       "0, nothing),\"index\" => (Observable{Any} with 2 listeners. Value:\n",
       "25, nothing)), Set{String}(), nothing, Asset[Asset(\"js\", \"knockout\", \"/home/abel/.julia/packages/Knockout/IP1uR/src/../assets/knockout.js\"), Asset(\"js\", \"knockout_punches\", \"/home/abel/.julia/packages/Knockout/IP1uR/src/../assets/knockout_punches.js\"), Asset(\"js\", nothing, \"/home/abel/.julia/packages/InteractBase/sOe2Z/src/../assets/all.js\"), Asset(\"css\", nothing, \"/home/abel/.julia/packages/InteractBase/sOe2Z/src/../assets/style.css\"), Asset(\"css\", nothing, \"/home/abel/.julia/packages/Interact/SbgIk/src/../assets/bulma_confined.min.css\")], Dict{Any,Any}(\"changes\" => Any[WebIO.JSString(\"(function (val){return (val!=this.model[\\\"changes\\\"]()) ? (this.valueFromJulia[\\\"changes\\\"]=true, this.model[\\\"changes\\\"](val)) : undefined})\")],\"index\" => Any[WebIO.JSString(\"(function (val){return (val!=this.model[\\\"index\\\"]()) ? (this.valueFromJulia[\\\"index\\\"]=true, this.model[\\\"index\\\"](val)) : undefined})\")]), WebIO.ConnectionPool(Channel{Any}(sz_max:32,sz_curr:0), Set{AbstractConnection}(), Base.GenericCondition{Base.AlwaysLockedST}(Base.InvasiveLinkedList{Task}(Task (runnable) @0x00007f01d22c0c40, Task (runnable) @0x00007f01d22c0c40), Base.AlwaysLockedST(1))), WebIO.JSString[WebIO.JSString(\"function () {\\n    var handler = (function (ko, koPunches) {\\n    ko.punches.enableAll();\\n    ko.bindingHandlers.numericValue = {\\n        init: function(element, valueAccessor, allBindings, data, context) {\\n            var stringified = ko.observable(ko.unwrap(valueAccessor()));\\n            stringified.subscribe(function(value) {\\n                var val = parseFloat(value);\\n                if (!isNaN(val)) {\\n                    valueAccessor()(val);\\n                }\\n            });\\n            valueAccessor().subscribe(function(value) {\\n                var str = JSON.stringify(value);\\n                if ((str == \\\"0\\\") && ([\\\"-0\\\", \\\"-0.\\\"].indexOf(stringified()) >= 0))\\n                     return;\\n                 if ([\\\"null\\\", \\\"\\\"].indexOf(str) >= 0)\\n                     return;\\n                stringified(str);\\n            });\\n            ko.applyBindingsToNode(\\n                element,\\n                {\\n                    value: stringified,\\n                    valueUpdate: allBindings.get('valueUpdate'),\\n                },\\n                context,\\n            );\\n        }\\n    };\\n    var json_data = {\\\"formatted_vals\\\":[\\\"-2.0\\\",\\\"-1.91837\\\",\\\"-1.83673\\\",\\\"-1.7551\\\",\\\"-1.67347\\\",\\\"-1.59184\\\",\\\"-1.5102\\\",\\\"-1.42857\\\",\\\"-1.34694\\\",\\\"-1.26531\\\",\\\"-1.18367\\\",\\\"-1.10204\\\",\\\"-1.02041\\\",\\\"-0.938776\\\",\\\"-0.857143\\\",\\\"-0.77551\\\",\\\"-0.693878\\\",\\\"-0.612245\\\",\\\"-0.530612\\\",\\\"-0.44898\\\",\\\"-0.367347\\\",\\\"-0.285714\\\",\\\"-0.204082\\\",\\\"-0.122449\\\",\\\"-0.0408163\\\",\\\"0.0408163\\\",\\\"0.122449\\\",\\\"0.204082\\\",\\\"0.285714\\\",\\\"0.367347\\\",\\\"0.44898\\\",\\\"0.530612\\\",\\\"0.612245\\\",\\\"0.693878\\\",\\\"0.77551\\\",\\\"0.857143\\\",\\\"0.938776\\\",\\\"1.02041\\\",\\\"1.10204\\\",\\\"1.18367\\\",\\\"1.26531\\\",\\\"1.34694\\\",\\\"1.42857\\\",\\\"1.5102\\\",\\\"1.59184\\\",\\\"1.67347\\\",\\\"1.7551\\\",\\\"1.83673\\\",\\\"1.91837\\\",\\\"2.0\\\"],\\\"changes\\\":WebIO.getval({\\\"name\\\":\\\"changes\\\",\\\"scope\\\":\\\"8445069710317766562\\\",\\\"id\\\":\\\"11185812128483535582\\\",\\\"type\\\":\\\"observable\\\"}),\\\"index\\\":WebIO.getval({\\\"name\\\":\\\"index\\\",\\\"scope\\\":\\\"8445069710317766562\\\",\\\"id\\\":\\\"3782452056322251934\\\",\\\"type\\\":\\\"observable\\\"})};\\n    var self = this;\\n    function AppViewModel() {\\n        for (var key in json_data) {\\n            var el = json_data[key];\\n            this[key] = Array.isArray(el) ? ko.observableArray(el) : ko.observable(el);\\n        }\\n        \\n        [this[\\\"formatted_val\\\"]=ko.computed(    function(){\\n        return this.formatted_vals()[parseInt(this.index())-(1)];\\n    }\\n,this)]\\n        [this[\\\"changes\\\"].subscribe((function (val){!(this.valueFromJulia[\\\"changes\\\"]) ? (WebIO.setval({\\\"name\\\":\\\"changes\\\",\\\"scope\\\":\\\"8445069710317766562\\\",\\\"id\\\":\\\"11185812128483535582\\\",\\\"type\\\":\\\"observable\\\"},val)) : undefined; return this.valueFromJulia[\\\"changes\\\"]=false}),self),this[\\\"index\\\"].subscribe((function (val){!(this.valueFromJulia[\\\"index\\\"]) ? (WebIO.setval({\\\"name\\\":\\\"index\\\",\\\"scope\\\":\\\"8445069710317766562\\\",\\\"id\\\":\\\"3782452056322251934\\\",\\\"type\\\":\\\"observable\\\"},val)) : undefined; return this.valueFromJulia[\\\"index\\\"]=false}),self)]\\n        \\n    }\\n    self.model = new AppViewModel();\\n    self.valueFromJulia = {};\\n    for (var key in json_data) {\\n        self.valueFromJulia[key] = false;\\n    }\\n    ko.applyBindings(self.model, self.dom);\\n}\\n);\\n    (WebIO.importBlock({\\\"data\\\":[{\\\"name\\\":\\\"knockout\\\",\\\"type\\\":\\\"js\\\",\\\"url\\\":\\\"/assetserver/ad12e802c5573a1b59240efd1ab774756d2057ca-knockout.js\\\"},{\\\"name\\\":\\\"knockout_punches\\\",\\\"type\\\":\\\"js\\\",\\\"url\\\":\\\"/assetserver/cf4d4a43d9284bf6445e8ef85f41b866478c075c-knockout_punches.js\\\"}],\\\"type\\\":\\\"async_block\\\"})).then((imports) => handler.apply(this, imports));\\n}\\n\")])], Dict{Symbol,Any}(:className => \"field interact-widget\")), Node{WebIO.DOM}(WebIO.DOM(:html, :div), Any[Scope(Node{WebIO.DOM}(WebIO.DOM(:html, :div), Any[Node{WebIO.DOM}(WebIO.DOM(:html, :div), Any[Node{WebIO.DOM}(WebIO.DOM(:html, :label), Any[\"c2\"], Dict{Symbol,Any}(:className => \"interact \",:style => Dict{Any,Any}(:padding => \"5px 10px 0px 10px\")))], Dict{Symbol,Any}(:className => \"interact-flex-row-left\")), Node{WebIO.DOM}(WebIO.DOM(:html, :div), Any[Node{WebIO.DOM}(WebIO.DOM(:html, :input), Any[], Dict{Symbol,Any}(:max => 50,:min => 1,:attributes => Dict{Any,Any}(:type => \"range\",Symbol(\"data-bind\") => \"numericValue: index, valueUpdate: 'input', event: {change: function (){this.changes(this.changes()+1)}}\",\"orient\" => \"horizontal\"),:step => 1,:className => \"slider slider is-fullwidth\",:style => Dict{Any,Any}()))], Dict{Symbol,Any}(:className => \"interact-flex-row-center\")), Node{WebIO.DOM}(WebIO.DOM(:html, :div), Any[Node{WebIO.DOM}(WebIO.DOM(:html, :p), Any[], Dict{Symbol,Any}(:attributes => Dict(\"data-bind\" => \"text: formatted_val\")))], Dict{Symbol,Any}(:className => \"interact-flex-row-right\"))], Dict{Symbol,Any}(:className => \"interact-flex-row interact-widget\")), Dict{String,Tuple{Observables.AbstractObservable,Union{Nothing, Bool}}}(\"changes\" => (Observable{Int64} with 1 listeners. Value:\n",
       "0, nothing),\"index\" => (Observable{Any} with 2 listeners. Value:\n",
       "25, nothing)), Set{String}(), nothing, Asset[Asset(\"js\", \"knockout\", \"/home/abel/.julia/packages/Knockout/IP1uR/src/../assets/knockout.js\"), Asset(\"js\", \"knockout_punches\", \"/home/abel/.julia/packages/Knockout/IP1uR/src/../assets/knockout_punches.js\"), Asset(\"js\", nothing, \"/home/abel/.julia/packages/InteractBase/sOe2Z/src/../assets/all.js\"), Asset(\"css\", nothing, \"/home/abel/.julia/packages/InteractBase/sOe2Z/src/../assets/style.css\"), Asset(\"css\", nothing, \"/home/abel/.julia/packages/Interact/SbgIk/src/../assets/bulma_confined.min.css\")], Dict{Any,Any}(\"changes\" => Any[WebIO.JSString(\"(function (val){return (val!=this.model[\\\"changes\\\"]()) ? (this.valueFromJulia[\\\"changes\\\"]=true, this.model[\\\"changes\\\"](val)) : undefined})\")],\"index\" => Any[WebIO.JSString(\"(function (val){return (val!=this.model[\\\"index\\\"]()) ? (this.valueFromJulia[\\\"index\\\"]=true, this.model[\\\"index\\\"](val)) : undefined})\")]), WebIO.ConnectionPool(Channel{Any}(sz_max:32,sz_curr:0), Set{AbstractConnection}(), Base.GenericCondition{Base.AlwaysLockedST}(Base.InvasiveLinkedList{Task}(Task (runnable) @0x00007f01d22c1390, Task (runnable) @0x00007f01d22c1390), Base.AlwaysLockedST(1))), WebIO.JSString[WebIO.JSString(\"function () {\\n    var handler = (function (ko, koPunches) {\\n    ko.punches.enableAll();\\n    ko.bindingHandlers.numericValue = {\\n        init: function(element, valueAccessor, allBindings, data, context) {\\n            var stringified = ko.observable(ko.unwrap(valueAccessor()));\\n            stringified.subscribe(function(value) {\\n                var val = parseFloat(value);\\n                if (!isNaN(val)) {\\n                    valueAccessor()(val);\\n                }\\n            });\\n            valueAccessor().subscribe(function(value) {\\n                var str = JSON.stringify(value);\\n                if ((str == \\\"0\\\") && ([\\\"-0\\\", \\\"-0.\\\"].indexOf(stringified()) >= 0))\\n                     return;\\n                 if ([\\\"null\\\", \\\"\\\"].indexOf(str) >= 0)\\n                     return;\\n                stringified(str);\\n            });\\n            ko.applyBindingsToNode(\\n                element,\\n                {\\n                    value: stringified,\\n                    valueUpdate: allBindings.get('valueUpdate'),\\n                },\\n                context,\\n            );\\n        }\\n    };\\n    var json_data = {\\\"formatted_vals\\\":[\\\"-2.0\\\",\\\"-1.91837\\\",\\\"-1.83673\\\",\\\"-1.7551\\\",\\\"-1.67347\\\",\\\"-1.59184\\\",\\\"-1.5102\\\",\\\"-1.42857\\\",\\\"-1.34694\\\",\\\"-1.26531\\\",\\\"-1.18367\\\",\\\"-1.10204\\\",\\\"-1.02041\\\",\\\"-0.938776\\\",\\\"-0.857143\\\",\\\"-0.77551\\\",\\\"-0.693878\\\",\\\"-0.612245\\\",\\\"-0.530612\\\",\\\"-0.44898\\\",\\\"-0.367347\\\",\\\"-0.285714\\\",\\\"-0.204082\\\",\\\"-0.122449\\\",\\\"-0.0408163\\\",\\\"0.0408163\\\",\\\"0.122449\\\",\\\"0.204082\\\",\\\"0.285714\\\",\\\"0.367347\\\",\\\"0.44898\\\",\\\"0.530612\\\",\\\"0.612245\\\",\\\"0.693878\\\",\\\"0.77551\\\",\\\"0.857143\\\",\\\"0.938776\\\",\\\"1.02041\\\",\\\"1.10204\\\",\\\"1.18367\\\",\\\"1.26531\\\",\\\"1.34694\\\",\\\"1.42857\\\",\\\"1.5102\\\",\\\"1.59184\\\",\\\"1.67347\\\",\\\"1.7551\\\",\\\"1.83673\\\",\\\"1.91837\\\",\\\"2.0\\\"],\\\"changes\\\":WebIO.getval({\\\"name\\\":\\\"changes\\\",\\\"scope\\\":\\\"10469614591184367481\\\",\\\"id\\\":\\\"10154915847627950249\\\",\\\"type\\\":\\\"observable\\\"}),\\\"index\\\":WebIO.getval({\\\"name\\\":\\\"index\\\",\\\"scope\\\":\\\"10469614591184367481\\\",\\\"id\\\":\\\"6750425201855089697\\\",\\\"type\\\":\\\"observable\\\"})};\\n    var self = this;\\n    function AppViewModel() {\\n        for (var key in json_data) {\\n            var el = json_data[key];\\n            this[key] = Array.isArray(el) ? ko.observableArray(el) : ko.observable(el);\\n        }\\n        \\n        [this[\\\"formatted_val\\\"]=ko.computed(    function(){\\n        return this.formatted_vals()[parseInt(this.index())-(1)];\\n    }\\n,this)]\\n        [this[\\\"changes\\\"].subscribe((function (val){!(this.valueFromJulia[\\\"changes\\\"]) ? (WebIO.setval({\\\"name\\\":\\\"changes\\\",\\\"scope\\\":\\\"10469614591184367481\\\",\\\"id\\\":\\\"10154915847627950249\\\",\\\"type\\\":\\\"observable\\\"},val)) : undefined; return this.valueFromJulia[\\\"changes\\\"]=false}),self),this[\\\"index\\\"].subscribe((function (val){!(this.valueFromJulia[\\\"index\\\"]) ? (WebIO.setval({\\\"name\\\":\\\"index\\\",\\\"scope\\\":\\\"10469614591184367481\\\",\\\"id\\\":\\\"6750425201855089697\\\",\\\"type\\\":\\\"observable\\\"},val)) : undefined; return this.valueFromJulia[\\\"index\\\"]=false}),self)]\\n        \\n    }\\n    self.model = new AppViewModel();\\n    self.valueFromJulia = {};\\n    for (var key in json_data) {\\n        self.valueFromJulia[key] = false;\\n    }\\n    ko.applyBindings(self.model, self.dom);\\n}\\n);\\n    (WebIO.importBlock({\\\"data\\\":[{\\\"name\\\":\\\"knockout\\\",\\\"type\\\":\\\"js\\\",\\\"url\\\":\\\"/assetserver/ad12e802c5573a1b59240efd1ab774756d2057ca-knockout.js\\\"},{\\\"name\\\":\\\"knockout_punches\\\",\\\"type\\\":\\\"js\\\",\\\"url\\\":\\\"/assetserver/cf4d4a43d9284bf6445e8ef85f41b866478c075c-knockout_punches.js\\\"}],\\\"type\\\":\\\"async_block\\\"})).then((imports) => handler.apply(this, imports));\\n}\\n\")])], Dict{Symbol,Any}(:className => \"field interact-widget\")), Node{WebIO.DOM}(WebIO.DOM(:html, :div), Any[Scope(Node{WebIO.DOM}(WebIO.DOM(:html, :div), Any[Node{WebIO.DOM}(WebIO.DOM(:html, :div), Any[Node{WebIO.DOM}(WebIO.DOM(:html, :label), Any[\"x01\"], Dict{Symbol,Any}(:className => \"interact \",:style => Dict{Any,Any}(:padding => \"5px 10px 0px 10px\")))], Dict{Symbol,Any}(:className => \"interact-flex-row-left\")), Node{WebIO.DOM}(WebIO.DOM(:html, :div), Any[Node{WebIO.DOM}(WebIO.DOM(:html, :input), Any[], Dict{Symbol,Any}(:max => 1,:min => -1,:attributes => Dict{Any,Any}(:type => \"range\",Symbol(\"data-bind\") => \"numericValue: index, valueUpdate: 'input', event: {change: function (){this.changes(this.changes()+1)}}\",\"orient\" => \"horizontal\"),:step => 1,:className => \"slider slider is-fullwidth\",:style => Dict{Any,Any}()))], Dict{Symbol,Any}(:className => \"interact-flex-row-center\")), Node{WebIO.DOM}(WebIO.DOM(:html, :div), Any[Node{WebIO.DOM}(WebIO.DOM(:html, :p), Any[], Dict{Symbol,Any}(:attributes => Dict(\"data-bind\" => \"text: formatted_val\")))], Dict{Symbol,Any}(:className => \"interact-flex-row-right\"))], Dict{Symbol,Any}(:className => \"interact-flex-row interact-widget\")), Dict{String,Tuple{Observables.AbstractObservable,Union{Nothing, Bool}}}(\"changes\" => (Observable{Int64} with 1 listeners. Value:\n",
       "0, nothing),\"index\" => (Observable{Int64} with 2 listeners. Value:\n",
       "0, nothing)), Set{String}(), nothing, Asset[Asset(\"js\", \"knockout\", \"/home/abel/.julia/packages/Knockout/IP1uR/src/../assets/knockout.js\"), Asset(\"js\", \"knockout_punches\", \"/home/abel/.julia/packages/Knockout/IP1uR/src/../assets/knockout_punches.js\"), Asset(\"js\", nothing, \"/home/abel/.julia/packages/InteractBase/sOe2Z/src/../assets/all.js\"), Asset(\"css\", nothing, \"/home/abel/.julia/packages/InteractBase/sOe2Z/src/../assets/style.css\"), Asset(\"css\", nothing, \"/home/abel/.julia/packages/Interact/SbgIk/src/../assets/bulma_confined.min.css\")], Dict{Any,Any}(\"changes\" => Any[WebIO.JSString(\"(function (val){return (val!=this.model[\\\"changes\\\"]()) ? (this.valueFromJulia[\\\"changes\\\"]=true, this.model[\\\"changes\\\"](val)) : undefined})\")],\"index\" => Any[WebIO.JSString(\"(function (val){return (val!=this.model[\\\"index\\\"]()) ? (this.valueFromJulia[\\\"index\\\"]=true, this.model[\\\"index\\\"](val)) : undefined})\")]), WebIO.ConnectionPool(Channel{Any}(sz_max:32,sz_curr:0), Set{AbstractConnection}(), Base.GenericCondition{Base.AlwaysLockedST}(Base.InvasiveLinkedList{Task}(Task (runnable) @0x00007f01d22c1600, Task (runnable) @0x00007f01d22c1600), Base.AlwaysLockedST(1))), WebIO.JSString[WebIO.JSString(\"function () {\\n    var handler = (function (ko, koPunches) {\\n    ko.punches.enableAll();\\n    ko.bindingHandlers.numericValue = {\\n        init: function(element, valueAccessor, allBindings, data, context) {\\n            var stringified = ko.observable(ko.unwrap(valueAccessor()));\\n            stringified.subscribe(function(value) {\\n                var val = parseFloat(value);\\n                if (!isNaN(val)) {\\n                    valueAccessor()(val);\\n                }\\n            });\\n            valueAccessor().subscribe(function(value) {\\n                var str = JSON.stringify(value);\\n                if ((str == \\\"0\\\") && ([\\\"-0\\\", \\\"-0.\\\"].indexOf(stringified()) >= 0))\\n                     return;\\n                 if ([\\\"null\\\", \\\"\\\"].indexOf(str) >= 0)\\n                     return;\\n                stringified(str);\\n            });\\n            ko.applyBindingsToNode(\\n                element,\\n                {\\n                    value: stringified,\\n                    valueUpdate: allBindings.get('valueUpdate'),\\n                },\\n                context,\\n            );\\n        }\\n    };\\n    var json_data = {\\\"formatted_vals\\\":[\\\"-1\\\",\\\"0\\\",\\\"1\\\"],\\\"changes\\\":WebIO.getval({\\\"name\\\":\\\"changes\\\",\\\"scope\\\":\\\"7400516230166625204\\\",\\\"id\\\":\\\"12650288018802472794\\\",\\\"type\\\":\\\"observable\\\"}),\\\"index\\\":WebIO.getval({\\\"name\\\":\\\"index\\\",\\\"scope\\\":\\\"7400516230166625204\\\",\\\"id\\\":\\\"17736298635651727192\\\",\\\"type\\\":\\\"observable\\\"})};\\n    var self = this;\\n    function AppViewModel() {\\n        for (var key in json_data) {\\n            var el = json_data[key];\\n            this[key] = Array.isArray(el) ? ko.observableArray(el) : ko.observable(el);\\n        }\\n        \\n        [this[\\\"formatted_val\\\"]=ko.computed(    function(){\\n        return this.formatted_vals()[parseInt(this.index())-(-1)];\\n    }\\n,this)]\\n        [this[\\\"changes\\\"].subscribe((function (val){!(this.valueFromJulia[\\\"changes\\\"]) ? (WebIO.setval({\\\"name\\\":\\\"changes\\\",\\\"scope\\\":\\\"7400516230166625204\\\",\\\"id\\\":\\\"12650288018802472794\\\",\\\"type\\\":\\\"observable\\\"},val)) : undefined; return this.valueFromJulia[\\\"changes\\\"]=false}),self),this[\\\"index\\\"].subscribe((function (val){!(this.valueFromJulia[\\\"index\\\"]) ? (WebIO.setval({\\\"name\\\":\\\"index\\\",\\\"scope\\\":\\\"7400516230166625204\\\",\\\"id\\\":\\\"17736298635651727192\\\",\\\"type\\\":\\\"observable\\\"},val)) : undefined; return this.valueFromJulia[\\\"index\\\"]=false}),self)]\\n        \\n    }\\n    self.model = new AppViewModel();\\n    self.valueFromJulia = {};\\n    for (var key in json_data) {\\n        self.valueFromJulia[key] = false;\\n    }\\n    ko.applyBindings(self.model, self.dom);\\n}\\n);\\n    (WebIO.importBlock({\\\"data\\\":[{\\\"name\\\":\\\"knockout\\\",\\\"type\\\":\\\"js\\\",\\\"url\\\":\\\"/assetserver/ad12e802c5573a1b59240efd1ab774756d2057ca-knockout.js\\\"},{\\\"name\\\":\\\"knockout_punches\\\",\\\"type\\\":\\\"js\\\",\\\"url\\\":\\\"/assetserver/cf4d4a43d9284bf6445e8ef85f41b866478c075c-knockout_punches.js\\\"}],\\\"type\\\":\\\"async_block\\\"})).then((imports) => handler.apply(this, imports));\\n}\\n\")])], Dict{Symbol,Any}(:className => \"field interact-widget\")), Node{WebIO.DOM}(WebIO.DOM(:html, :div), Any[Scope(Node{WebIO.DOM}(WebIO.DOM(:html, :div), Any[Node{WebIO.DOM}(WebIO.DOM(:html, :div), Any[Node{WebIO.DOM}(WebIO.DOM(:html, :label), Any[\"x02\"], Dict{Symbol,Any}(:className => \"interact \",:style => Dict{Any,Any}(:padding => \"5px 10px 0px 10px\")))], Dict{Symbol,Any}(:className => \"interact-flex-row-left\")), Node{WebIO.DOM}(WebIO.DOM(:html, :div), Any[Node{WebIO.DOM}(WebIO.DOM(:html, :input), Any[], Dict{Symbol,Any}(:max => 1,:min => -1,:attributes => Dict{Any,Any}(:type => \"range\",Symbol(\"data-bind\") => \"numericValue: index, valueUpdate: 'input', event: {change: function (){this.changes(this.changes()+1)}}\",\"orient\" => \"horizontal\"),:step => 1,:className => \"slider slider is-fullwidth\",:style => Dict{Any,Any}()))], Dict{Symbol,Any}(:className => \"interact-flex-row-center\")), Node{WebIO.DOM}(WebIO.DOM(:html, :div), Any[Node{WebIO.DOM}(WebIO.DOM(:html, :p), Any[], Dict{Symbol,Any}(:attributes => Dict(\"data-bind\" => \"text: formatted_val\")))], Dict{Symbol,Any}(:className => \"interact-flex-row-right\"))], Dict{Symbol,Any}(:className => \"interact-flex-row interact-widget\")), Dict{String,Tuple{Observables.AbstractObservable,Union{Nothing, Bool}}}(\"changes\" => (Observable{Int64} with 1 listeners. Value:\n",
       "0, nothing),\"index\" => (Observable{Int64} with 2 listeners. Value:\n",
       "0, nothing)), Set{String}(), nothing, Asset[Asset(\"js\", \"knockout\", \"/home/abel/.julia/packages/Knockout/IP1uR/src/../assets/knockout.js\"), Asset(\"js\", \"knockout_punches\", \"/home/abel/.julia/packages/Knockout/IP1uR/src/../assets/knockout_punches.js\"), Asset(\"js\", nothing, \"/home/abel/.julia/packages/InteractBase/sOe2Z/src/../assets/all.js\"), Asset(\"css\", nothing, \"/home/abel/.julia/packages/InteractBase/sOe2Z/src/../assets/style.css\"), Asset(\"css\", nothing, \"/home/abel/.julia/packages/Interact/SbgIk/src/../assets/bulma_confined.min.css\")], Dict{Any,Any}(\"changes\" => Any[WebIO.JSString(\"(function (val){return (val!=this.model[\\\"changes\\\"]()) ? (this.valueFromJulia[\\\"changes\\\"]=true, this.model[\\\"changes\\\"](val)) : undefined})\")],\"index\" => Any[WebIO.JSString(\"(function (val){return (val!=this.model[\\\"index\\\"]()) ? (this.valueFromJulia[\\\"index\\\"]=true, this.model[\\\"index\\\"](val)) : undefined})\")]), WebIO.ConnectionPool(Channel{Any}(sz_max:32,sz_curr:0), Set{AbstractConnection}(), Base.GenericCondition{Base.AlwaysLockedST}(Base.InvasiveLinkedList{Task}(Task (runnable) @0x00007f01d22c1870, Task (runnable) @0x00007f01d22c1870), Base.AlwaysLockedST(1))), WebIO.JSString[WebIO.JSString(\"function () {\\n    var handler = (function (ko, koPunches) {\\n    ko.punches.enableAll();\\n    ko.bindingHandlers.numericValue = {\\n        init: function(element, valueAccessor, allBindings, data, context) {\\n            var stringified = ko.observable(ko.unwrap(valueAccessor()));\\n            stringified.subscribe(function(value) {\\n                var val = parseFloat(value);\\n                if (!isNaN(val)) {\\n                    valueAccessor()(val);\\n                }\\n            });\\n            valueAccessor().subscribe(function(value) {\\n                var str = JSON.stringify(value);\\n                if ((str == \\\"0\\\") && ([\\\"-0\\\", \\\"-0.\\\"].indexOf(stringified()) >= 0))\\n                     return;\\n                 if ([\\\"null\\\", \\\"\\\"].indexOf(str) >= 0)\\n                     return;\\n                stringified(str);\\n            });\\n            ko.applyBindingsToNode(\\n                element,\\n                {\\n                    value: stringified,\\n                    valueUpdate: allBindings.get('valueUpdate'),\\n                },\\n                context,\\n            );\\n        }\\n    };\\n    var json_data = {\\\"formatted_vals\\\":[\\\"-1\\\",\\\"0\\\",\\\"1\\\"],\\\"changes\\\":WebIO.getval({\\\"name\\\":\\\"changes\\\",\\\"scope\\\":\\\"7132967865176836428\\\",\\\"id\\\":\\\"15439941981914744293\\\",\\\"type\\\":\\\"observable\\\"}),\\\"index\\\":WebIO.getval({\\\"name\\\":\\\"index\\\",\\\"scope\\\":\\\"7132967865176836428\\\",\\\"id\\\":\\\"4207738811933370688\\\",\\\"type\\\":\\\"observable\\\"})};\\n    var self = this;\\n    function AppViewModel() {\\n        for (var key in json_data) {\\n            var el = json_data[key];\\n            this[key] = Array.isArray(el) ? ko.observableArray(el) : ko.observable(el);\\n        }\\n        \\n        [this[\\\"formatted_val\\\"]=ko.computed(    function(){\\n        return this.formatted_vals()[parseInt(this.index())-(-1)];\\n    }\\n,this)]\\n        [this[\\\"changes\\\"].subscribe((function (val){!(this.valueFromJulia[\\\"changes\\\"]) ? (WebIO.setval({\\\"name\\\":\\\"changes\\\",\\\"scope\\\":\\\"7132967865176836428\\\",\\\"id\\\":\\\"15439941981914744293\\\",\\\"type\\\":\\\"observable\\\"},val)) : undefined; return this.valueFromJulia[\\\"changes\\\"]=false}),self),this[\\\"index\\\"].subscribe((function (val){!(this.valueFromJulia[\\\"index\\\"]) ? (WebIO.setval({\\\"name\\\":\\\"index\\\",\\\"scope\\\":\\\"7132967865176836428\\\",\\\"id\\\":\\\"4207738811933370688\\\",\\\"type\\\":\\\"observable\\\"},val)) : undefined; return this.valueFromJulia[\\\"index\\\"]=false}),self)]\\n        \\n    }\\n    self.model = new AppViewModel();\\n    self.valueFromJulia = {};\\n    for (var key in json_data) {\\n        self.valueFromJulia[key] = false;\\n    }\\n    ko.applyBindings(self.model, self.dom);\\n}\\n);\\n    (WebIO.importBlock({\\\"data\\\":[{\\\"name\\\":\\\"knockout\\\",\\\"type\\\":\\\"js\\\",\\\"url\\\":\\\"/assetserver/ad12e802c5573a1b59240efd1ab774756d2057ca-knockout.js\\\"},{\\\"name\\\":\\\"knockout_punches\\\",\\\"type\\\":\\\"js\\\",\\\"url\\\":\\\"/assetserver/cf4d4a43d9284bf6445e8ef85f41b866478c075c-knockout_punches.js\\\"}],\\\"type\\\":\\\"async_block\\\"})).then((imports) => handler.apply(this, imports));\\n}\\n\")])], Dict{Symbol,Any}(:className => \"field interact-widget\")), Observable{Any} with 0 listeners. Value:\n",
       "Node{WebIO.DOM}(WebIO.DOM(:html, :div), Any[Plot{Plots.GRBackend() n=4}], Dict{Symbol,Any}(:className => \"interact-flex-row interact-widget\"))], Dict{Symbol,Any}())"
      ]
     },
     "execution_count": 10,
     "metadata": {
      "application/vnd.webio.node+json": {
       "kernelId": "a9417dfa-c3df-4ec9-bad1-9db8a3c0f9fc"
      }
     },
     "output_type": "execute_result"
    }
   ],
   "source": [
    "using Logging\n",
    "\n",
    "xg = range(-2, 2, length=50)\n",
    "yg = range(-2, 2, length=50)\n",
    "ℓ = -ones(2)\n",
    "u = ones(2)\n",
    "\n",
    "@manipulate for c1 in xg, c2 in xg, x01 = -1:1, x02 = -1:1\n",
    "    f(x) = (x[1] - c1)^2 + 9 * (x[2] - c2)^2\n",
    "    contour(xg, yg, (x,y) -> f([x;y]), leg=false)\n",
    "    \n",
    "    x0 = [x01; x02]\n",
    "    scatter!([x01], [x02], c=:red, ms=3)\n",
    "    plot!([ℓ[1], ℓ[1], u[1], u[1], ℓ[1]], [ℓ[2], u[2], u[2], ℓ[2], ℓ[2]], c=:black, lw=2)\n",
    "    x, gx, zL, zU, _ = with_logger(NullLogger()) do\n",
    "        caixas(f, ℓ, u, x0)\n",
    "    end\n",
    "    scatter!([x[1]], [x[2]], c=:blue, ms=4)\n",
    "end"
   ]
  },
  {
   "cell_type": "code",
   "execution_count": null,
   "metadata": {},
   "outputs": [],
   "source": []
  },
  {
   "cell_type": "code",
   "execution_count": null,
   "metadata": {},
   "outputs": [],
   "source": []
  },
  {
   "cell_type": "code",
   "execution_count": null,
   "metadata": {},
   "outputs": [],
   "source": []
  },
  {
   "cell_type": "code",
   "execution_count": null,
   "metadata": {},
   "outputs": [],
   "source": []
  },
  {
   "cell_type": "code",
   "execution_count": null,
   "metadata": {},
   "outputs": [],
   "source": []
  },
  {
   "cell_type": "code",
   "execution_count": null,
   "metadata": {},
   "outputs": [],
   "source": []
  },
  {
   "cell_type": "code",
   "execution_count": null,
   "metadata": {},
   "outputs": [],
   "source": []
  },
  {
   "cell_type": "code",
   "execution_count": null,
   "metadata": {},
   "outputs": [],
   "source": []
  },
  {
   "cell_type": "code",
   "execution_count": null,
   "metadata": {},
   "outputs": [],
   "source": []
  }
 ],
 "metadata": {
  "@webio": {
   "lastCommId": "8bfa6851e1b54d529d9aaf9fd1412d1b",
   "lastKernelId": "8b6589ac-b7f4-421a-9c1e-d7eee3021e9c"
  },
  "kernelspec": {
   "display_name": "Julia 1.5.1",
   "language": "julia",
   "name": "julia-1.5"
  },
  "language_info": {
   "file_extension": ".jl",
   "mimetype": "application/julia",
   "name": "julia",
   "version": "1.5.2"
  }
 },
 "nbformat": 4,
 "nbformat_minor": 4
}
