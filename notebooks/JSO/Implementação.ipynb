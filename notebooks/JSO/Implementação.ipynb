{
 "cells": [
  {
   "cell_type": "code",
   "execution_count": 1,
   "metadata": {},
   "outputs": [
    {
     "name": "stderr",
     "output_type": "stream",
     "text": [
      "\u001b[32m\u001b[1m Activating\u001b[22m\u001b[39m environment at `~/Documents/otimizacao-em-julia/notebooks/Project.toml`\n"
     ]
    }
   ],
   "source": [
    "using Pkg\n",
    "pkg\"activate .\"\n",
    "pkg\"instantiate\""
   ]
  },
  {
   "cell_type": "code",
   "execution_count": 2,
   "metadata": {},
   "outputs": [
    {
     "data": {
      "text/html": [
       "<script>\n",
       "// Immediately-invoked-function-expression to avoid global variables.\n",
       "(function() {\n",
       "    var warning_div = document.getElementById(\"webio-warning-11352751701614690733\");\n",
       "    var hide = function () {\n",
       "        var script = document.getElementById(\"webio-setup-17968513725110202091\");\n",
       "        var parent = script && script.parentElement;\n",
       "        var grandparent = parent && parent.parentElement;\n",
       "        if (grandparent) {\n",
       "            grandparent.style.display = \"none\";\n",
       "        }\n",
       "        warning_div.style.display = \"none\";\n",
       "    };\n",
       "    if (typeof Jupyter !== \"undefined\") {\n",
       "        console.log(\"WebIO detected Jupyter notebook environment.\");\n",
       "        // Jupyter notebook.\n",
       "        var extensions = (\n",
       "            Jupyter\n",
       "            && Jupyter.notebook.config.data\n",
       "            && Jupyter.notebook.config.data.load_extensions\n",
       "        );\n",
       "        if (extensions && extensions[\"webio-jupyter-notebook\"]) {\n",
       "            // Extension already loaded.\n",
       "            console.log(\"Jupyter WebIO nbextension detected; not loading ad-hoc.\");\n",
       "            hide();\n",
       "            return;\n",
       "        }\n",
       "    } else if (window.location.pathname.includes(\"/lab\")) {\n",
       "        // Guessing JupyterLa\n",
       "        console.log(\"Jupyter Lab detected; make sure the @webio/jupyter-lab-provider labextension is installed.\");\n",
       "        hide();\n",
       "        return;\n",
       "    }\n",
       "})();\n",
       "\n",
       "</script>\n",
       "<p\n",
       "    id=\"webio-warning-11352751701614690733\"\n",
       "    class=\"output_text output_stderr\"\n",
       "    style=\"padding: 1em; font-weight: bold;\"\n",
       ">\n",
       "    Unable to load WebIO. Please make sure WebIO works for your Jupyter client.\n",
       "    For troubleshooting, please see <a href=\"https://juliagizmos.github.io/WebIO.jl/latest/providers/ijulia/\">\n",
       "    the WebIO/IJulia documentation</a>.\n",
       "    <!-- TODO: link to installation docs. -->\n",
       "</p>\n"
      ],
      "text/plain": [
       "HTML{String}(\"<script>\\n// Immediately-invoked-function-expression to avoid global variables.\\n(function() {\\n    var warning_div = document.getElementById(\\\"webio-warning-11352751701614690733\\\");\\n    var hide = function () {\\n        var script = document.getElementById(\\\"webio-setup-17968513725110202091\\\");\\n        var parent = script && script.parentElement;\\n        var grandparent = parent && parent.parentElement;\\n        if (grandparent) {\\n            grandparent.style.display = \\\"none\\\";\\n        }\\n        warning_div.style.display = \\\"none\\\";\\n    };\\n    if (typeof Jupyter !== \\\"undefined\\\") {\\n        console.log(\\\"WebIO detected Jupyter notebook environment.\\\");\\n        // Jupyter notebook.\\n        var extensions = (\\n            Jupyter\\n            && Jupyter.notebook.config.data\\n            && Jupyter.notebook.config.data.load_extensions\\n        );\\n        if (extensions && extensions[\\\"webio-jupyter-notebook\\\"]) {\\n            // Extension already loaded.\\n            console.log(\\\"Jupyter WebIO nbextension detected; not loading ad-hoc.\\\");\\n            hide();\\n            return;\\n        }\\n    } else if (window.location.pathname.includes(\\\"/lab\\\")) {\\n        // Guessing JupyterLa\\n        console.log(\\\"Jupyter Lab detected; make sure the @webio/jupyter-lab-provider labextension is installed.\\\");\\n        hide();\\n        return;\\n    }\\n})();\\n\\n</script>\\n<p\\n    id=\\\"webio-warning-11352751701614690733\\\"\\n    class=\\\"output_text output_stderr\\\"\\n    style=\\\"padding: 1em; font-weight: bold;\\\"\\n>\\n    Unable to load WebIO. Please make sure WebIO works for your Jupyter client.\\n    For troubleshooting, please see <a href=\\\"https://juliagizmos.github.io/WebIO.jl/latest/providers/ijulia/\\\">\\n    the WebIO/IJulia documentation</a>.\\n    <!-- TODO: link to installation docs. -->\\n</p>\\n\")"
      ]
     },
     "metadata": {},
     "output_type": "display_data"
    },
    {
     "data": {
      "text/plain": [
       "Plots.GRBackend()"
      ]
     },
     "execution_count": 2,
     "metadata": {},
     "output_type": "execute_result"
    }
   ],
   "source": [
    "using Plots, Interact, LinearAlgebra, ForwardDiff\n",
    "gr(size=(600,400))"
   ]
  },
  {
   "cell_type": "code",
   "execution_count": 136,
   "metadata": {},
   "outputs": [
    {
     "name": "stderr",
     "output_type": "stream",
     "text": [
      "\u001b[32m\u001b[1m  Resolving\u001b[22m\u001b[39m package versions...\n",
      "\u001b[32m\u001b[1mUpdating\u001b[22m\u001b[39m `~/Documents/otimizacao-em-julia/notebooks/Project.toml`\n",
      " \u001b[90m [ecbce9bc] \u001b[39m\u001b[92m+ BenchmarkProfiles v0.3.2\u001b[39m\n",
      " \u001b[90m [581a75fa] \u001b[39m\u001b[92m+ SolverBenchmark v0.3.1\u001b[39m\n",
      "\u001b[32m\u001b[1mUpdating\u001b[22m\u001b[39m `~/Documents/otimizacao-em-julia/notebooks/Manifest.toml`\n",
      " \u001b[90m [1520ce14] \u001b[39m\u001b[92m+ AbstractTrees v0.3.3\u001b[39m\n",
      " \u001b[90m [dce04be8] \u001b[39m\u001b[92m+ ArgCheck v2.1.0\u001b[39m\n",
      " \u001b[90m [ecbce9bc] \u001b[39m\u001b[92m+ BenchmarkProfiles v0.3.2\u001b[39m\n",
      " \u001b[90m [a8cc5b0e] \u001b[39m\u001b[92m+ Crayons v4.0.4\u001b[39m\n",
      " \u001b[90m [59287772] \u001b[39m\u001b[92m+ Formatting v0.4.1\u001b[39m\n",
      " \u001b[90m [bc5e4493] \u001b[39m\u001b[92m+ GitHub v5.1.7\u001b[39m\n",
      " \u001b[90m [266f59ce] \u001b[39m\u001b[92m+ LaTeXTabulars v0.1.1\u001b[39m\n",
      " \u001b[90m [1d6d02ad] \u001b[39m\u001b[92m+ LeftChildRightSiblingTrees v0.1.2\u001b[39m\n",
      " \u001b[90m [d96e819e] \u001b[39m\u001b[92m+ Parameters v0.12.1\u001b[39m\n",
      " \u001b[90m [32113eaa] \u001b[39m\u001b[92m+ PkgBenchmark v0.2.10\u001b[39m\n",
      " \u001b[90m [08abe8d2] \u001b[39m\u001b[92m+ PrettyTables v0.9.1\u001b[39m\n",
      " \u001b[90m [33c8b6b6] \u001b[39m\u001b[92m+ ProgressLogging v0.1.3\u001b[39m\n",
      " \u001b[90m [581a75fa] \u001b[39m\u001b[92m+ SolverBenchmark v0.3.1\u001b[39m\n",
      " \u001b[90m [5d786b92] \u001b[39m\u001b[92m+ TerminalLoggers v0.1.2\u001b[39m\n",
      " \u001b[90m [3a884ed6] \u001b[39m\u001b[92m+ UnPack v1.0.2\u001b[39m\n"
     ]
    }
   ],
   "source": [
    "pkg\"add SolverBenchmark, BenchmarkProfiles\""
   ]
  },
  {
   "cell_type": "code",
   "execution_count": 9,
   "metadata": {},
   "outputs": [
    {
     "data": {
      "text/plain": [
       "Float16(-0.0002441)"
      ]
     },
     "execution_count": 9,
     "metadata": {},
     "output_type": "execute_result"
    }
   ],
   "source": [
    "Float16(0.1) + Float16(0.2) - Float16(0.3)"
   ]
  },
  {
   "cell_type": "code",
   "execution_count": 8,
   "metadata": {},
   "outputs": [
    {
     "data": {
      "text/plain": [
       "0//1"
      ]
     },
     "execution_count": 8,
     "metadata": {},
     "output_type": "execute_result"
    }
   ],
   "source": [
    "1 // 10 + 2// 10 - 3//10"
   ]
  },
  {
   "cell_type": "code",
   "execution_count": 10,
   "metadata": {},
   "outputs": [
    {
     "data": {
      "text/plain": [
       "Inf"
      ]
     },
     "execution_count": 10,
     "metadata": {},
     "output_type": "execute_result"
    }
   ],
   "source": [
    "Inf"
   ]
  },
  {
   "cell_type": "code",
   "execution_count": 15,
   "metadata": {},
   "outputs": [
    {
     "data": {
      "text/plain": [
       "NaN"
      ]
     },
     "execution_count": 15,
     "metadata": {},
     "output_type": "execute_result"
    }
   ],
   "source": [
    "0 / 0"
   ]
  },
  {
   "cell_type": "code",
   "execution_count": 126,
   "metadata": {},
   "outputs": [
    {
     "data": {
      "text/plain": [
       "gradiente (generic function with 2 methods)"
      ]
     },
     "execution_count": 126,
     "metadata": {},
     "output_type": "execute_result"
    }
   ],
   "source": [
    "function gradiente(\n",
    "        nlp;\n",
    "        max_time = 3.0,\n",
    "        max_iter = 10_000,\n",
    "        η₁ = 1e-2,\n",
    "        atol = 1e-6,\n",
    "        rtol = 1e-6,\n",
    ")\n",
    "    \n",
    "    t₀ = time()\n",
    "    Δt = time() - t₀\n",
    "    iter = 0\n",
    "    \n",
    "    x = copy(nlp.meta.x0)\n",
    "    f(x) = obj(nlp, x)\n",
    "    ∇f(x) = grad(nlp, x)\n",
    "    fx = f(x)\n",
    "    gx = ∇f(x)\n",
    "    \n",
    "    x⁺ = similar(x)\n",
    "    \n",
    "    ϵ = atol + rtol * norm(gx)\n",
    "    \n",
    "    status = :desconhecido\n",
    "    \n",
    "    # Cond. de parada\n",
    "    resolvido = norm(gx) < ϵ # true ou false\n",
    "    cansado = Δt > max_time || iter > max_iter\n",
    "    while !(resolvido || cansado) # Não tiver satisfeito as condições de parada\n",
    "        # Calculo a direção e passo e xₖ₊₁\n",
    "        d = -gx\n",
    "        slope = dot(gx, d)\n",
    "        \n",
    "        α = 1.0\n",
    "        x⁺ = x + α * d\n",
    "        f⁺ = f(x⁺)\n",
    "        while f⁺ ≥ fx + η₁ * α * slope\n",
    "            α = α / 2\n",
    "            x⁺ = x + α * d\n",
    "            f⁺ = f(x⁺)\n",
    "            if α < 1e-8\n",
    "                status = :busca_linear_pequena\n",
    "                break\n",
    "            end\n",
    "        end\n",
    "        if status != :desconhecido\n",
    "            break\n",
    "        end\n",
    "        x .= x⁺\n",
    "        fx = f⁺\n",
    "        gx = ∇f(x)\n",
    "        \n",
    "        resolvido = norm(gx) < ϵ\n",
    "        Δt = time() - t₀\n",
    "        iter += 1\n",
    "        cansado = Δt > max_time || iter > max_iter\n",
    "    end\n",
    "    \n",
    "    \n",
    "    if resolvido\n",
    "        status = :sucesso\n",
    "    elseif cansado\n",
    "        if Δt > max_time\n",
    "            status = :max_time\n",
    "        elseif iter > max_iter\n",
    "            status = :max_iter\n",
    "        end\n",
    "    end\n",
    "    \n",
    "    return x, status, Δt, iter\n",
    "end"
   ]
  },
  {
   "cell_type": "code",
   "execution_count": 127,
   "metadata": {},
   "outputs": [
    {
     "name": "stdout",
     "output_type": "stream",
     "text": [
      "  0.029063 seconds (36.77 k allocations: 1.588 MiB)\n"
     ]
    },
    {
     "data": {
      "text/plain": [
       "([1.0000131550736375, 1.000027216137535], :sucesso, 0.029059171676635742, 337)"
      ]
     },
     "execution_count": 127,
     "metadata": {},
     "output_type": "execute_result"
    }
   ],
   "source": [
    "f(x) = (x[1] - 1)^2 + 4 * (x[2] - x[1]^2)^2\n",
    "@time gradiente(f, [-1.2; 1.0])"
   ]
  },
  {
   "cell_type": "code",
   "execution_count": 16,
   "metadata": {},
   "outputs": [
    {
     "data": {
      "text/plain": [
       "false"
      ]
     },
     "execution_count": 16,
     "metadata": {},
     "output_type": "execute_result"
    }
   ],
   "source": [
    "g = rand(2)\n",
    "sucesso = norm(g) < 1e-4"
   ]
  },
  {
   "cell_type": "code",
   "execution_count": 111,
   "metadata": {},
   "outputs": [
    {
     "name": "stderr",
     "output_type": "stream",
     "text": [
      "┌ Info: Precompiling CUTEst [1b53aba6-35b6-5f92-a507-53c67d53f819]\n",
      "└ @ Base loading.jl:1278\n",
      "┌ Info: using problem repository\n",
      "│   ENV[\"MASTSIF\"] = /home/abel/.julia/artifacts/a7ea0d0aaf29a39ca0fe75588fc077cdd5b5ed54/optrove-sif-99c5b38e7d03\n",
      "└ @ CUTEst /home/abel/.julia/packages/CUTEst/h73Ae/src/CUTEst.jl:73\n"
     ]
    }
   ],
   "source": [
    "using CUTEst"
   ]
  },
  {
   "cell_type": "code",
   "execution_count": 112,
   "metadata": {},
   "outputs": [],
   "source": [
    "using NLPModels"
   ]
  },
  {
   "cell_type": "code",
   "execution_count": 128,
   "metadata": {},
   "outputs": [
    {
     "data": {
      "text/plain": [
       "  Problem name: ROSENBR\n",
       "   All variables: ████████████████████ 2      All constraints: ⋅⋅⋅⋅⋅⋅⋅⋅⋅⋅⋅⋅⋅⋅⋅⋅⋅⋅⋅⋅ 0     \n",
       "            free: ████████████████████ 2                 free: ⋅⋅⋅⋅⋅⋅⋅⋅⋅⋅⋅⋅⋅⋅⋅⋅⋅⋅⋅⋅ 0     \n",
       "           lower: ⋅⋅⋅⋅⋅⋅⋅⋅⋅⋅⋅⋅⋅⋅⋅⋅⋅⋅⋅⋅ 0                lower: ⋅⋅⋅⋅⋅⋅⋅⋅⋅⋅⋅⋅⋅⋅⋅⋅⋅⋅⋅⋅ 0     \n",
       "           upper: ⋅⋅⋅⋅⋅⋅⋅⋅⋅⋅⋅⋅⋅⋅⋅⋅⋅⋅⋅⋅ 0                upper: ⋅⋅⋅⋅⋅⋅⋅⋅⋅⋅⋅⋅⋅⋅⋅⋅⋅⋅⋅⋅ 0     \n",
       "         low/upp: ⋅⋅⋅⋅⋅⋅⋅⋅⋅⋅⋅⋅⋅⋅⋅⋅⋅⋅⋅⋅ 0              low/upp: ⋅⋅⋅⋅⋅⋅⋅⋅⋅⋅⋅⋅⋅⋅⋅⋅⋅⋅⋅⋅ 0     \n",
       "           fixed: ⋅⋅⋅⋅⋅⋅⋅⋅⋅⋅⋅⋅⋅⋅⋅⋅⋅⋅⋅⋅ 0                fixed: ⋅⋅⋅⋅⋅⋅⋅⋅⋅⋅⋅⋅⋅⋅⋅⋅⋅⋅⋅⋅ 0     \n",
       "          infeas: ⋅⋅⋅⋅⋅⋅⋅⋅⋅⋅⋅⋅⋅⋅⋅⋅⋅⋅⋅⋅ 0               infeas: ⋅⋅⋅⋅⋅⋅⋅⋅⋅⋅⋅⋅⋅⋅⋅⋅⋅⋅⋅⋅ 0     \n",
       "            nnzh: (  0.00% sparsity)   3               linear: ⋅⋅⋅⋅⋅⋅⋅⋅⋅⋅⋅⋅⋅⋅⋅⋅⋅⋅⋅⋅ 0     \n",
       "                                                    nonlinear: ⋅⋅⋅⋅⋅⋅⋅⋅⋅⋅⋅⋅⋅⋅⋅⋅⋅⋅⋅⋅ 0     \n",
       "                                                         nnzj: (------% sparsity)         \n",
       "\n"
      ]
     },
     "execution_count": 128,
     "metadata": {},
     "output_type": "execute_result"
    }
   ],
   "source": [
    "nlp = CUTEstModel(\"ROSENBR\")"
   ]
  },
  {
   "cell_type": "code",
   "execution_count": 129,
   "metadata": {},
   "outputs": [
    {
     "data": {
      "text/plain": [
       "([0.9998188896482056, 0.9996367239274359], :sucesso, 0.1028130054473877, 6844)"
      ]
     },
     "execution_count": 129,
     "metadata": {},
     "output_type": "execute_result"
    }
   ],
   "source": [
    "gradiente(nlp)"
   ]
  },
  {
   "cell_type": "code",
   "execution_count": 114,
   "metadata": {},
   "outputs": [
    {
     "data": {
      "text/plain": [
       "24.199999999999996"
      ]
     },
     "execution_count": 114,
     "metadata": {},
     "output_type": "execute_result"
    }
   ],
   "source": [
    "x0 = nlp.meta.x0\n",
    "obj(nlp, x0)"
   ]
  },
  {
   "cell_type": "code",
   "execution_count": 115,
   "metadata": {},
   "outputs": [
    {
     "data": {
      "text/plain": [
       "2-element Array{Float64,1}:\n",
       " -215.59999999999997\n",
       "  -87.99999999999999"
      ]
     },
     "execution_count": 115,
     "metadata": {},
     "output_type": "execute_result"
    }
   ],
   "source": [
    "grad(nlp, x0)"
   ]
  },
  {
   "cell_type": "code",
   "execution_count": 116,
   "metadata": {},
   "outputs": [
    {
     "data": {
      "text/plain": [
       "2×2 SparseArrays.SparseMatrixCSC{Float64,Int64} with 3 stored entries:\n",
       "  [1, 1]  =  1330.0\n",
       "  [2, 1]  =  480.0\n",
       "  [2, 2]  =  200.0"
      ]
     },
     "execution_count": 116,
     "metadata": {},
     "output_type": "execute_result"
    }
   ],
   "source": [
    "hess(nlp, x0)"
   ]
  },
  {
   "cell_type": "code",
   "execution_count": 130,
   "metadata": {},
   "outputs": [],
   "source": [
    "finalize(nlp)"
   ]
  },
  {
   "cell_type": "code",
   "execution_count": 121,
   "metadata": {},
   "outputs": [
    {
     "data": {
      "text/plain": [
       "Base.Generator{Array{String,1},Type{CUTEstModel}}(CUTEstModel, [\"JUDGE\", \"WAYSEA2\", \"HILBERTA\", \"BOXBODLS\", \"HIMMELBB\", \"MUONSINELS\", \"PRICE4\", \"SISSER\", \"SINEVAL\", \"MISRA1ALS\"  …  \"HUMPS\", \"EGGCRATE\", \"ELATVIDU\", \"ROSENBRTU\", \"MISRA1CLS\", \"CLIFF\", \"POWELLSQLS\", \"EXP2\", \"LOGHAIRY\", \"CUBE\"])"
      ]
     },
     "execution_count": 121,
     "metadata": {},
     "output_type": "execute_result"
    }
   ],
   "source": [
    "pnames = CUTEst.select(max_var=2, max_con=0, only_free_var=true)\n",
    "problems = (CUTEstModel(p) for p in pnames)"
   ]
  },
  {
   "cell_type": "code",
   "execution_count": 131,
   "metadata": {},
   "outputs": [
    {
     "ename": "ErrorException",
     "evalue": "Falhou",
     "output_type": "error",
     "traceback": [
      "Falhou",
      "",
      "Stacktrace:",
      " [1] error(::String) at ./error.jl:33",
      " [2] top-level scope at In[131]:1"
     ]
    }
   ],
   "source": [
    "error(\"Falhou\")"
   ]
  },
  {
   "cell_type": "code",
   "execution_count": 135,
   "metadata": {},
   "outputs": [
    {
     "name": "stdout",
     "output_type": "stream",
     "text": [
      "JUDGE\n",
      "JUDGE\t\tsucesso\t\t0.0016604469275166062\n",
      "WAYSEA2\n",
      "WAYSEA2\t\tsucesso\t\t0.002056838985015686\n",
      "HILBERTA\n",
      "HILBERTA\t\tsucesso\t\t5.928450988799028e-6\n",
      "BOXBODLS\n",
      "BOXBODLS\t\tsucesso\t\t0.0015723711795481462\n",
      "HIMMELBB\n",
      "HIMMELBB\t\tsucesso\t\t0.21397825679500504\n",
      "MUONSINELS\n",
      "MUONSINELS\t\tsucesso\t\t0.030862075886016135\n",
      "PRICE4\n",
      "PRICE4\t\tsucesso\t\t0.009644878518646325\n",
      "SISSER\n",
      "SISSER\t\tsucesso\t\t1.3028288158043847e-5\n",
      "SINEVAL\n",
      "SINEVAL\t\tmax_iter\t\t0.2241786531934753\n",
      "MISRA1ALS\n",
      "MISRA1ALS\t\tbusca_linear_pequena\t\t1.57393748899856e8\n",
      "WAYSEA1\n",
      "WAYSEA1\t\tsucesso\t\t0.5824772930567106\n",
      "HAIRY\n",
      "HAIRY\t\tsucesso\t\t6.0301990076391346e-5\n",
      "HIMMELBCLS\n",
      "HIMMELBCLS\t\tsucesso\t\t1.8714370145111468e-5\n",
      "MARATOSB\n",
      "MARATOSB\t\tsucesso\t\t0.9249591461152498\n",
      "POWELLBSLS\n",
      "POWELLBSLS\t\tbusca_linear_pequena\t\t20000.73556071284\n",
      "HIMMELBG\n",
      "HIMMELBG\t\tsucesso\t\t9.556236479890828e-7\n",
      "DENSCHNF\n",
      "DENSCHNF\t\tsucesso\t\t0.0003831022585716191\n",
      "PRICE3\n",
      "PRICE3\t\tsucesso\t\t0.0083740419130386\n",
      "HIMMELBH\n",
      "HIMMELBH\t\tbusca_linear_pequena\t\t3.314396074413992e209\n",
      "ZANGWIL2\n",
      "ZANGWIL2\t\tsucesso\t\t2.3158944264082826e-6\n",
      "MISRA1DLS\n",
      "MISRA1DLS\t\tbusca_linear_pequena\t\t1.523756532802797e8\n",
      "BRKMCC\n",
      "BRKMCC\t\tsucesso\t\t2.5073990242023544e-5\n",
      "DENSCHNA\n",
      "DENSCHNA\t\tsucesso\t\t1.4513219712496257e-5\n",
      "MISRA1BLS\n",
      "MISRA1BLS\t\tbusca_linear_pequena\t\t1.5484219753655243e8\n",
      "DENSCHNC\n",
      "DENSCHNC\t\tsucesso\t\t0.0014368892152889594\n",
      "S308\n",
      "S308\t\tsucesso\t\t7.144187952484173e-5\n",
      "SNAIL\n",
      "SNAIL\t\tsucesso\t\t2.1070815243386537e-7\n",
      "EXPFIT\n",
      "EXPFIT\t\tsucesso\t\t2.7068338906267286e-5\n",
      "JENSMP\n",
      "JENSMP\t\tsucesso\t\t0.06727314936775686\n",
      "GBRAINLS\n",
      "GBRAINLS\t\tmax_time\t\t37.4802653721833\n",
      "DJTL\n",
      "DJTL\t\tbusca_linear_pequena\t\t14303.765551751256\n",
      "BEALE\n",
      "BEALE\t\tsucesso\t\t2.5010085344692152e-5\n",
      "CLUSTERLS\n",
      "CLUSTERLS\t\tsucesso\t\t3.827797982563635e-6\n",
      "MEXHAT\n",
      "MEXHAT\t\tbusca_linear_pequena\t\t5.989740619700379e8\n",
      "DENSCHNB\n",
      "DENSCHNB\t\tsucesso\t\t0.0\n",
      "BROWNBS\n",
      "BROWNBS\t\tbusca_linear_pequena\t\t5.0000050000199994e11\n",
      "DANWOODLS\n",
      "DANWOODLS\t\tmax_iter\t\tNaN\n",
      "DANIWOODLS\n",
      "DANIWOODLS\t\tsucesso\t\t0.0005920159106469858\n",
      "AKIVA\n",
      "AKIVA\t\tmax_iter\t\tNaN\n",
      "ROSENBR\n",
      "ROSENBR\t\tsucesso\t\t0.00022954072701882275\n",
      "HUMPS\n",
      "HUMPS\t\tsucesso\t\t7.777474833327115e-5\n",
      "EGGCRATE\n",
      "EGGCRATE\t\tsucesso\t\t2.668016394223631e-5\n",
      "ELATVIDU\n",
      "ELATVIDU\t\tsucesso\t\t0.01864411737288093\n",
      "ROSENBRTU\n",
      "ROSENBRTU\t\tmax_iter\t\t0.016605390913899537\n",
      "MISRA1CLS\n",
      "MISRA1CLS\t\tbusca_linear_pequena\t\t1.4768281334189525e8\n",
      "CLIFF\n",
      "CLIFF\t\tbusca_linear_pequena\t\t1.3722543985383726e10\n",
      "POWELLSQLS\n",
      "POWELLSQLS\t\tsucesso\t\t8.024292594631333e-5\n",
      "EXP2\n",
      "EXP2\t\tsucesso\t\t4.24306291282965e-6\n",
      "LOGHAIRY\n",
      "LOGHAIRY\t\tmax_iter\t\t0.0014564860438249156\n",
      "CUBE\n",
      "CUBE\t\tmax_iter\t\t0.0060301323721792185\n"
     ]
    }
   ],
   "source": [
    "for nlp in problems\n",
    "    \n",
    "    try\n",
    "        x, status, Δt, iter = gradiente(nlp)\n",
    "        \n",
    "        println(\"$(nlp.meta.name)\\t\\t$(status)\\t\\t$(norm(grad(nlp, x)))\")\n",
    "    catch ex\n",
    "        println(ex)\n",
    "    finally\n",
    "        finalize(nlp)\n",
    "    end\n",
    "end"
   ]
  },
  {
   "cell_type": "code",
   "execution_count": 219,
   "metadata": {},
   "outputs": [
    {
     "data": {
      "text/plain": [
       "30×3 Array{Float64,2}:\n",
       "  Inf    2.0    3.8\n",
       "  14.4   1.0   15.4\n",
       "   0.4   0.4    0.8\n",
       "   0.5   1.5   Inf\n",
       "   0.3   0.6    0.9\n",
       "  Inf    0.9    1.9\n",
       "   0.1   0.9    1.0\n",
       "  Inf    0.1    1.2\n",
       "   0.6   7.4   Inf\n",
       "   1.2   6.7    7.9\n",
       "  Inf    1.1    2.0\n",
       "   1.3   3.3   Inf\n",
       "   1.0   2.0    3.0\n",
       "   ⋮          \n",
       "   1.9  Inf     7.6\n",
       "  Inf   Inf     1.7\n",
       "   0.6  Inf     0.9\n",
       "   0.1  Inf     4.8\n",
       "   1.6   4.1    5.7\n",
       "   3.0   0.7    3.7\n",
       "   0.1  Inf     6.8\n",
       "   0.4   1.0    1.4\n",
       "   0.2   0.7    0.9\n",
       " 120.3   0.6  120.9\n",
       "   1.7   0.8    2.5\n",
       "   0.2   4.3    4.5"
      ]
     },
     "execution_count": 219,
     "metadata": {},
     "output_type": "execute_result"
    }
   ],
   "source": [
    "using Random\n",
    "Random.seed!(0)\n",
    "\n",
    "np = 30\n",
    "nm = 3\n",
    "P = ceil.(rand(np, nm) ./ rand(np, nm), digits=1)\n",
    "P[:,3] = P[:,1] + P[:,2]\n",
    "P[rand(1:np*nm, 5nm)] .= Inf\n",
    "P"
   ]
  },
  {
   "cell_type": "code",
   "execution_count": 220,
   "metadata": {},
   "outputs": [
    {
     "data": {
      "text/plain": [
       "1×3 Array{Float64,2}:\n",
       " 0.833333  0.8  0.9"
      ]
     },
     "execution_count": 220,
     "metadata": {},
     "output_type": "execute_result"
    }
   ],
   "source": [
    "robustez = sum(P .< Inf, dims=1) / np"
   ]
  },
  {
   "cell_type": "code",
   "execution_count": 221,
   "metadata": {},
   "outputs": [
    {
     "data": {
      "text/plain": [
       "1×3 Array{Float64,2}:\n",
       " 0.566667  0.433333  0.0333333"
      ]
     },
     "execution_count": 221,
     "metadata": {},
     "output_type": "execute_result"
    }
   ],
   "source": [
    "R = P ./ minimum(P, dims=2)\n",
    "sum(R .== 1, dims=1) / np"
   ]
  },
  {
   "cell_type": "code",
   "execution_count": 222,
   "metadata": {},
   "outputs": [
    {
     "data": {
      "text/plain": [
       "1×3 Array{Float64,2}:\n",
       " 0.6  0.5  0.2"
      ]
     },
     "execution_count": 222,
     "metadata": {},
     "output_type": "execute_result"
    }
   ],
   "source": [
    "sum(R .≤ 2, dims=1) / np"
   ]
  },
  {
   "cell_type": "code",
   "execution_count": 223,
   "metadata": {},
   "outputs": [
    {
     "data": {
      "text/plain": [
       "ρ (generic function with 1 method)"
      ]
     },
     "execution_count": 223,
     "metadata": {},
     "output_type": "execute_result"
    }
   ],
   "source": [
    "ρ(τ, k) = sum(R[:,k] .≤ τ) / np"
   ]
  },
  {
   "cell_type": "code",
   "execution_count": 224,
   "metadata": {},
   "outputs": [
    {
     "data": {
      "text/plain": [
       "30×3 Array{Float64,2}:\n",
       "  Inf        1.0        1.9\n",
       "  14.4       1.0       15.4\n",
       "   1.0       1.0        2.0\n",
       "   1.0       3.0       Inf\n",
       "   1.0       2.0        3.0\n",
       "  Inf        1.0        2.11111\n",
       "   1.0       9.0       10.0\n",
       "  Inf        1.0       12.0\n",
       "   1.0      12.3333    Inf\n",
       "   1.0       5.58333    6.58333\n",
       "  Inf        1.0        1.81818\n",
       "   1.0       2.53846   Inf\n",
       "   1.0       2.0        3.0\n",
       "   ⋮                  \n",
       "   1.0      Inf         4.0\n",
       "  Inf       Inf         1.0\n",
       "   1.0      Inf         1.5\n",
       "   1.0      Inf        48.0\n",
       "   1.0       2.5625     3.5625\n",
       "   4.28571   1.0        5.28571\n",
       "   1.0      Inf        68.0\n",
       "   1.0       2.5        3.5\n",
       "   1.0       3.5        4.5\n",
       " 200.5       1.0      201.5\n",
       "   2.125     1.0        3.125\n",
       "   1.0      21.5       22.5"
      ]
     },
     "execution_count": 224,
     "metadata": {},
     "output_type": "execute_result"
    }
   ],
   "source": [
    "R"
   ]
  },
  {
   "cell_type": "code",
   "execution_count": 225,
   "metadata": {},
   "outputs": [
    {
     "data": {
      "image/svg+xml": [
       "<?xml version=\"1.0\" encoding=\"utf-8\"?>\n",
       "<svg xmlns=\"http://www.w3.org/2000/svg\" xmlns:xlink=\"http://www.w3.org/1999/xlink\" width=\"600\" height=\"400\" viewBox=\"0 0 2400 1600\">\n",
       "<defs>\n",
       "  <clipPath id=\"clip790\">\n",
       "    <rect x=\"0\" y=\"0\" width=\"2400\" height=\"1600\"/>\n",
       "  </clipPath>\n",
       "</defs>\n",
       "<path clip-path=\"url(#clip790)\" d=\"\n",
       "M0 1600 L2400 1600 L2400 0 L0 0  Z\n",
       "  \" fill=\"#ffffff\" fill-rule=\"evenodd\" fill-opacity=\"1\"/>\n",
       "<defs>\n",
       "  <clipPath id=\"clip791\">\n",
       "    <rect x=\"480\" y=\"0\" width=\"1681\" height=\"1600\"/>\n",
       "  </clipPath>\n",
       "</defs>\n",
       "<path clip-path=\"url(#clip790)\" d=\"\n",
       "M148.334 1474.16 L2352.76 1474.16 L2352.76 47.2441 L148.334 47.2441  Z\n",
       "  \" fill=\"#ffffff\" fill-rule=\"evenodd\" fill-opacity=\"1\"/>\n",
       "<defs>\n",
       "  <clipPath id=\"clip792\">\n",
       "    <rect x=\"148\" y=\"47\" width=\"2205\" height=\"1428\"/>\n",
       "  </clipPath>\n",
       "</defs>\n",
       "<polyline clip-path=\"url(#clip792)\" style=\"stroke:#000000; stroke-width:2; stroke-opacity:0.1; fill:none\" points=\"\n",
       "  210.724,1474.16 210.724,47.2441 \n",
       "  \"/>\n",
       "<polyline clip-path=\"url(#clip792)\" style=\"stroke:#000000; stroke-width:2; stroke-opacity:0.1; fill:none\" points=\"\n",
       "  654.018,1474.16 654.018,47.2441 \n",
       "  \"/>\n",
       "<polyline clip-path=\"url(#clip792)\" style=\"stroke:#000000; stroke-width:2; stroke-opacity:0.1; fill:none\" points=\"\n",
       "  1097.31,1474.16 1097.31,47.2441 \n",
       "  \"/>\n",
       "<polyline clip-path=\"url(#clip792)\" style=\"stroke:#000000; stroke-width:2; stroke-opacity:0.1; fill:none\" points=\"\n",
       "  1540.61,1474.16 1540.61,47.2441 \n",
       "  \"/>\n",
       "<polyline clip-path=\"url(#clip792)\" style=\"stroke:#000000; stroke-width:2; stroke-opacity:0.1; fill:none\" points=\"\n",
       "  1983.9,1474.16 1983.9,47.2441 \n",
       "  \"/>\n",
       "<polyline clip-path=\"url(#clip792)\" style=\"stroke:#000000; stroke-width:2; stroke-opacity:0.1; fill:none\" points=\"\n",
       "  148.334,1474.16 2352.76,1474.16 \n",
       "  \"/>\n",
       "<polyline clip-path=\"url(#clip792)\" style=\"stroke:#000000; stroke-width:2; stroke-opacity:0.1; fill:none\" points=\"\n",
       "  148.334,1188.78 2352.76,1188.78 \n",
       "  \"/>\n",
       "<polyline clip-path=\"url(#clip792)\" style=\"stroke:#000000; stroke-width:2; stroke-opacity:0.1; fill:none\" points=\"\n",
       "  148.334,903.396 2352.76,903.396 \n",
       "  \"/>\n",
       "<polyline clip-path=\"url(#clip792)\" style=\"stroke:#000000; stroke-width:2; stroke-opacity:0.1; fill:none\" points=\"\n",
       "  148.334,618.012 2352.76,618.012 \n",
       "  \"/>\n",
       "<polyline clip-path=\"url(#clip792)\" style=\"stroke:#000000; stroke-width:2; stroke-opacity:0.1; fill:none\" points=\"\n",
       "  148.334,332.628 2352.76,332.628 \n",
       "  \"/>\n",
       "<polyline clip-path=\"url(#clip792)\" style=\"stroke:#000000; stroke-width:2; stroke-opacity:0.1; fill:none\" points=\"\n",
       "  148.334,47.2441 2352.76,47.2441 \n",
       "  \"/>\n",
       "<polyline clip-path=\"url(#clip790)\" style=\"stroke:#000000; stroke-width:4; stroke-opacity:1; fill:none\" points=\"\n",
       "  148.334,1474.16 2352.76,1474.16 \n",
       "  \"/>\n",
       "<polyline clip-path=\"url(#clip790)\" style=\"stroke:#000000; stroke-width:4; stroke-opacity:1; fill:none\" points=\"\n",
       "  148.334,1474.16 148.334,47.2441 \n",
       "  \"/>\n",
       "<polyline clip-path=\"url(#clip790)\" style=\"stroke:#000000; stroke-width:4; stroke-opacity:1; fill:none\" points=\"\n",
       "  210.724,1474.16 210.724,1457.04 \n",
       "  \"/>\n",
       "<polyline clip-path=\"url(#clip790)\" style=\"stroke:#000000; stroke-width:4; stroke-opacity:1; fill:none\" points=\"\n",
       "  654.018,1474.16 654.018,1457.04 \n",
       "  \"/>\n",
       "<polyline clip-path=\"url(#clip790)\" style=\"stroke:#000000; stroke-width:4; stroke-opacity:1; fill:none\" points=\"\n",
       "  1097.31,1474.16 1097.31,1457.04 \n",
       "  \"/>\n",
       "<polyline clip-path=\"url(#clip790)\" style=\"stroke:#000000; stroke-width:4; stroke-opacity:1; fill:none\" points=\"\n",
       "  1540.61,1474.16 1540.61,1457.04 \n",
       "  \"/>\n",
       "<polyline clip-path=\"url(#clip790)\" style=\"stroke:#000000; stroke-width:4; stroke-opacity:1; fill:none\" points=\"\n",
       "  1983.9,1474.16 1983.9,1457.04 \n",
       "  \"/>\n",
       "<polyline clip-path=\"url(#clip790)\" style=\"stroke:#000000; stroke-width:4; stroke-opacity:1; fill:none\" points=\"\n",
       "  148.334,1474.16 174.787,1474.16 \n",
       "  \"/>\n",
       "<polyline clip-path=\"url(#clip790)\" style=\"stroke:#000000; stroke-width:4; stroke-opacity:1; fill:none\" points=\"\n",
       "  148.334,1188.78 174.787,1188.78 \n",
       "  \"/>\n",
       "<polyline clip-path=\"url(#clip790)\" style=\"stroke:#000000; stroke-width:4; stroke-opacity:1; fill:none\" points=\"\n",
       "  148.334,903.396 174.787,903.396 \n",
       "  \"/>\n",
       "<polyline clip-path=\"url(#clip790)\" style=\"stroke:#000000; stroke-width:4; stroke-opacity:1; fill:none\" points=\"\n",
       "  148.334,618.012 174.787,618.012 \n",
       "  \"/>\n",
       "<polyline clip-path=\"url(#clip790)\" style=\"stroke:#000000; stroke-width:4; stroke-opacity:1; fill:none\" points=\"\n",
       "  148.334,332.628 174.787,332.628 \n",
       "  \"/>\n",
       "<polyline clip-path=\"url(#clip790)\" style=\"stroke:#000000; stroke-width:4; stroke-opacity:1; fill:none\" points=\"\n",
       "  148.334,47.2441 174.787,47.2441 \n",
       "  \"/>\n",
       "<path clip-path=\"url(#clip790)\" d=\"M 0 0 M162.876 1545.24 L170.515 1545.24 L170.515 1518.87 L162.205 1520.54 L162.205 1516.28 L170.469 1514.61 L175.144 1514.61 L175.144 1545.24 L182.783 1545.24 L182.783 1549.17 L162.876 1549.17 L162.876 1545.24 Z\" fill=\"#000000\" fill-rule=\"evenodd\" fill-opacity=\"1\" /><path clip-path=\"url(#clip790)\" d=\"M 0 0 M197.853 1517.69 Q194.242 1517.69 192.413 1521.26 Q190.607 1524.8 190.607 1531.93 Q190.607 1539.03 192.413 1542.6 Q194.242 1546.14 197.853 1546.14 Q201.487 1546.14 203.292 1542.6 Q205.121 1539.03 205.121 1531.93 Q205.121 1524.8 203.292 1521.26 Q201.487 1517.69 197.853 1517.69 M197.853 1513.99 Q203.663 1513.99 206.718 1518.59 Q209.797 1523.18 209.797 1531.93 Q209.797 1540.65 206.718 1545.26 Q203.663 1549.84 197.853 1549.84 Q192.042 1549.84 188.964 1545.26 Q185.908 1540.65 185.908 1531.93 Q185.908 1523.18 188.964 1518.59 Q192.042 1513.99 197.853 1513.99 Z\" fill=\"#000000\" fill-rule=\"evenodd\" fill-opacity=\"1\" /><path clip-path=\"url(#clip790)\" d=\"M 0 0 M219.502 1496.18 Q216.568 1496.18 215.082 1499.08 Q213.615 1501.96 213.615 1507.75 Q213.615 1513.52 215.082 1516.42 Q216.568 1519.3 219.502 1519.3 Q222.455 1519.3 223.922 1516.42 Q225.407 1513.52 225.407 1507.75 Q225.407 1501.96 223.922 1499.08 Q222.455 1496.18 219.502 1496.18 M219.502 1493.17 Q224.223 1493.17 226.705 1496.92 Q229.207 1500.64 229.207 1507.75 Q229.207 1514.84 226.705 1518.58 Q224.223 1522.31 219.502 1522.31 Q214.781 1522.31 212.28 1518.58 Q209.797 1514.84 209.797 1507.75 Q209.797 1500.64 212.28 1496.92 Q214.781 1493.17 219.502 1493.17 Z\" fill=\"#000000\" fill-rule=\"evenodd\" fill-opacity=\"1\" /><path clip-path=\"url(#clip790)\" d=\"M 0 0 M233.326 1516.98 L237.294 1516.98 L237.294 1521.76 L233.326 1521.76 L233.326 1516.98 Z\" fill=\"#000000\" fill-rule=\"evenodd\" fill-opacity=\"1\" /><path clip-path=\"url(#clip790)\" d=\"M 0 0 M249.538 1496.18 Q246.604 1496.18 245.118 1499.08 Q243.651 1501.96 243.651 1507.75 Q243.651 1513.52 245.118 1516.42 Q246.604 1519.3 249.538 1519.3 Q252.491 1519.3 253.958 1516.42 Q255.443 1513.52 255.443 1507.75 Q255.443 1501.96 253.958 1499.08 Q252.491 1496.18 249.538 1496.18 M249.538 1493.17 Q254.259 1493.17 256.741 1496.92 Q259.243 1500.64 259.243 1507.75 Q259.243 1514.84 256.741 1518.58 Q254.259 1522.31 249.538 1522.31 Q244.817 1522.31 242.316 1518.58 Q239.833 1514.84 239.833 1507.75 Q239.833 1500.64 242.316 1496.92 Q244.817 1493.17 249.538 1493.17 Z\" fill=\"#000000\" fill-rule=\"evenodd\" fill-opacity=\"1\" /><path clip-path=\"url(#clip790)\" d=\"M 0 0 M606.575 1545.24 L614.214 1545.24 L614.214 1518.87 L605.904 1520.54 L605.904 1516.28 L614.167 1514.61 L618.843 1514.61 L618.843 1545.24 L626.482 1545.24 L626.482 1549.17 L606.575 1549.17 L606.575 1545.24 Z\" fill=\"#000000\" fill-rule=\"evenodd\" fill-opacity=\"1\" /><path clip-path=\"url(#clip790)\" d=\"M 0 0 M641.551 1517.69 Q637.94 1517.69 636.112 1521.26 Q634.306 1524.8 634.306 1531.93 Q634.306 1539.03 636.112 1542.6 Q637.94 1546.14 641.551 1546.14 Q645.186 1546.14 646.991 1542.6 Q648.82 1539.03 648.82 1531.93 Q648.82 1524.8 646.991 1521.26 Q645.186 1517.69 641.551 1517.69 M641.551 1513.99 Q647.362 1513.99 650.417 1518.59 Q653.496 1523.18 653.496 1531.93 Q653.496 1540.65 650.417 1545.26 Q647.362 1549.84 641.551 1549.84 Q635.741 1549.84 632.663 1545.26 Q629.607 1540.65 629.607 1531.93 Q629.607 1523.18 632.663 1518.59 Q635.741 1513.99 641.551 1513.99 Z\" fill=\"#000000\" fill-rule=\"evenodd\" fill-opacity=\"1\" /><path clip-path=\"url(#clip790)\" d=\"M 0 0 M663.201 1496.18 Q660.267 1496.18 658.781 1499.08 Q657.314 1501.96 657.314 1507.75 Q657.314 1513.52 658.781 1516.42 Q660.267 1519.3 663.201 1519.3 Q666.153 1519.3 667.62 1516.42 Q669.106 1513.52 669.106 1507.75 Q669.106 1501.96 667.62 1499.08 Q666.153 1496.18 663.201 1496.18 M663.201 1493.17 Q667.921 1493.17 670.404 1496.92 Q672.905 1500.64 672.905 1507.75 Q672.905 1514.84 670.404 1518.58 Q667.921 1522.31 663.201 1522.31 Q658.48 1522.31 655.978 1518.58 Q653.496 1514.84 653.496 1507.75 Q653.496 1500.64 655.978 1496.92 Q658.48 1493.17 663.201 1493.17 Z\" fill=\"#000000\" fill-rule=\"evenodd\" fill-opacity=\"1\" /><path clip-path=\"url(#clip790)\" d=\"M 0 0 M677.024 1516.98 L680.993 1516.98 L680.993 1521.76 L677.024 1521.76 L677.024 1516.98 Z\" fill=\"#000000\" fill-rule=\"evenodd\" fill-opacity=\"1\" /><path clip-path=\"url(#clip790)\" d=\"M 0 0 M685.149 1493.68 L700.064 1493.68 L700.064 1496.88 L688.629 1496.88 L688.629 1503.76 Q689.456 1503.48 690.284 1503.35 Q691.111 1503.2 691.939 1503.2 Q696.641 1503.2 699.387 1505.77 Q702.133 1508.35 702.133 1512.75 Q702.133 1517.29 699.312 1519.81 Q696.49 1522.31 691.356 1522.31 Q689.588 1522.31 687.745 1522.01 Q685.92 1521.71 683.964 1521.1 L683.964 1517.29 Q685.657 1518.21 687.463 1518.66 Q689.268 1519.11 691.281 1519.11 Q694.534 1519.11 696.434 1517.4 Q698.334 1515.69 698.334 1512.75 Q698.334 1509.82 696.434 1508.11 Q694.534 1506.4 691.281 1506.4 Q689.757 1506.4 688.234 1506.73 Q686.729 1507.07 685.149 1507.79 L685.149 1493.68 Z\" fill=\"#000000\" fill-rule=\"evenodd\" fill-opacity=\"1\" /><path clip-path=\"url(#clip790)\" d=\"M 0 0 M1050.81 1545.24 L1058.45 1545.24 L1058.45 1518.87 L1050.14 1520.54 L1050.14 1516.28 L1058.4 1514.61 L1063.08 1514.61 L1063.08 1545.24 L1070.72 1545.24 L1070.72 1549.17 L1050.81 1549.17 L1050.81 1545.24 Z\" fill=\"#000000\" fill-rule=\"evenodd\" fill-opacity=\"1\" /><path clip-path=\"url(#clip790)\" d=\"M 0 0 M1085.79 1517.69 Q1082.18 1517.69 1080.35 1521.26 Q1078.54 1524.8 1078.54 1531.93 Q1078.54 1539.03 1080.35 1542.6 Q1082.18 1546.14 1085.79 1546.14 Q1089.42 1546.14 1091.23 1542.6 Q1093.05 1539.03 1093.05 1531.93 Q1093.05 1524.8 1091.23 1521.26 Q1089.42 1517.69 1085.79 1517.69 M1085.79 1513.99 Q1091.6 1513.99 1094.65 1518.59 Q1097.73 1523.18 1097.73 1531.93 Q1097.73 1540.65 1094.65 1545.26 Q1091.6 1549.84 1085.79 1549.84 Q1079.98 1549.84 1076.9 1545.26 Q1073.84 1540.65 1073.84 1531.93 Q1073.84 1523.18 1076.9 1518.59 Q1079.98 1513.99 1085.79 1513.99 Z\" fill=\"#000000\" fill-rule=\"evenodd\" fill-opacity=\"1\" /><path clip-path=\"url(#clip790)\" d=\"M 0 0 M1098.28 1518.56 L1104.48 1518.56 L1104.48 1497.14 L1097.73 1498.5 L1097.73 1495.04 L1104.45 1493.68 L1108.24 1493.68 L1108.24 1518.56 L1114.45 1518.56 L1114.45 1521.76 L1098.28 1521.76 L1098.28 1518.56 Z\" fill=\"#000000\" fill-rule=\"evenodd\" fill-opacity=\"1\" /><path clip-path=\"url(#clip790)\" d=\"M 0 0 M1118.57 1516.98 L1122.54 1516.98 L1122.54 1521.76 L1118.57 1521.76 L1118.57 1516.98 Z\" fill=\"#000000\" fill-rule=\"evenodd\" fill-opacity=\"1\" /><path clip-path=\"url(#clip790)\" d=\"M 0 0 M1134.78 1496.18 Q1131.85 1496.18 1130.36 1499.08 Q1128.9 1501.96 1128.9 1507.75 Q1128.9 1513.52 1130.36 1516.42 Q1131.85 1519.3 1134.78 1519.3 Q1137.73 1519.3 1139.2 1516.42 Q1140.69 1513.52 1140.69 1507.75 Q1140.69 1501.96 1139.2 1499.08 Q1137.73 1496.18 1134.78 1496.18 M1134.78 1493.17 Q1139.5 1493.17 1141.99 1496.92 Q1144.49 1500.64 1144.49 1507.75 Q1144.49 1514.84 1141.99 1518.58 Q1139.5 1522.31 1134.78 1522.31 Q1130.06 1522.31 1127.56 1518.58 Q1125.08 1514.84 1125.08 1507.75 Q1125.08 1500.64 1127.56 1496.92 Q1130.06 1493.17 1134.78 1493.17 Z\" fill=\"#000000\" fill-rule=\"evenodd\" fill-opacity=\"1\" /><path clip-path=\"url(#clip790)\" d=\"M 0 0 M1494.51 1545.24 L1502.15 1545.24 L1502.15 1518.87 L1493.84 1520.54 L1493.84 1516.28 L1502.1 1514.61 L1506.78 1514.61 L1506.78 1545.24 L1514.42 1545.24 L1514.42 1549.17 L1494.51 1549.17 L1494.51 1545.24 Z\" fill=\"#000000\" fill-rule=\"evenodd\" fill-opacity=\"1\" /><path clip-path=\"url(#clip790)\" d=\"M 0 0 M1529.49 1517.69 Q1525.87 1517.69 1524.05 1521.26 Q1522.24 1524.8 1522.24 1531.93 Q1522.24 1539.03 1524.05 1542.6 Q1525.87 1546.14 1529.49 1546.14 Q1533.12 1546.14 1534.92 1542.6 Q1536.75 1539.03 1536.75 1531.93 Q1536.75 1524.8 1534.92 1521.26 Q1533.12 1517.69 1529.49 1517.69 M1529.49 1513.99 Q1535.3 1513.99 1538.35 1518.59 Q1541.43 1523.18 1541.43 1531.93 Q1541.43 1540.65 1538.35 1545.26 Q1535.3 1549.84 1529.49 1549.84 Q1523.67 1549.84 1520.6 1545.26 Q1517.54 1540.65 1517.54 1531.93 Q1517.54 1523.18 1520.6 1518.59 Q1523.67 1513.99 1529.49 1513.99 Z\" fill=\"#000000\" fill-rule=\"evenodd\" fill-opacity=\"1\" /><path clip-path=\"url(#clip790)\" d=\"M 0 0 M1541.97 1518.56 L1548.18 1518.56 L1548.18 1497.14 L1541.43 1498.5 L1541.43 1495.04 L1548.14 1493.68 L1551.94 1493.68 L1551.94 1518.56 L1558.15 1518.56 L1558.15 1521.76 L1541.97 1521.76 L1541.97 1518.56 Z\" fill=\"#000000\" fill-rule=\"evenodd\" fill-opacity=\"1\" /><path clip-path=\"url(#clip790)\" d=\"M 0 0 M1562.27 1516.98 L1566.24 1516.98 L1566.24 1521.76 L1562.27 1521.76 L1562.27 1516.98 Z\" fill=\"#000000\" fill-rule=\"evenodd\" fill-opacity=\"1\" /><path clip-path=\"url(#clip790)\" d=\"M 0 0 M1570.39 1493.68 L1585.31 1493.68 L1585.31 1496.88 L1573.87 1496.88 L1573.87 1503.76 Q1574.7 1503.48 1575.53 1503.35 Q1576.36 1503.2 1577.18 1503.2 Q1581.88 1503.2 1584.63 1505.77 Q1587.38 1508.35 1587.38 1512.75 Q1587.38 1517.29 1584.56 1519.81 Q1581.73 1522.31 1576.6 1522.31 Q1574.83 1522.31 1572.99 1522.01 Q1571.16 1521.71 1569.21 1521.1 L1569.21 1517.29 Q1570.9 1518.21 1572.71 1518.66 Q1574.51 1519.11 1576.52 1519.11 Q1579.78 1519.11 1581.68 1517.4 Q1583.58 1515.69 1583.58 1512.75 Q1583.58 1509.82 1581.68 1508.11 Q1579.78 1506.4 1576.52 1506.4 Q1575 1506.4 1573.48 1506.73 Q1571.97 1507.07 1570.39 1507.79 L1570.39 1493.68 Z\" fill=\"#000000\" fill-rule=\"evenodd\" fill-opacity=\"1\" /><path clip-path=\"url(#clip790)\" d=\"M 0 0 M1936.84 1545.24 L1944.48 1545.24 L1944.48 1518.87 L1936.17 1520.54 L1936.17 1516.28 L1944.44 1514.61 L1949.11 1514.61 L1949.11 1545.24 L1956.75 1545.24 L1956.75 1549.17 L1936.84 1549.17 L1936.84 1545.24 Z\" fill=\"#000000\" fill-rule=\"evenodd\" fill-opacity=\"1\" /><path clip-path=\"url(#clip790)\" d=\"M 0 0 M1971.82 1517.69 Q1968.21 1517.69 1966.38 1521.26 Q1964.58 1524.8 1964.58 1531.93 Q1964.58 1539.03 1966.38 1542.6 Q1968.21 1546.14 1971.82 1546.14 Q1975.45 1546.14 1977.26 1542.6 Q1979.09 1539.03 1979.09 1531.93 Q1979.09 1524.8 1977.26 1521.26 Q1975.45 1517.69 1971.82 1517.69 M1971.82 1513.99 Q1977.63 1513.99 1980.69 1518.59 Q1983.76 1523.18 1983.76 1531.93 Q1983.76 1540.65 1980.69 1545.26 Q1977.63 1549.84 1971.82 1549.84 Q1966.01 1549.84 1962.93 1545.26 Q1959.88 1540.65 1959.88 1531.93 Q1959.88 1523.18 1962.93 1518.59 Q1966.01 1513.99 1971.82 1513.99 Z\" fill=\"#000000\" fill-rule=\"evenodd\" fill-opacity=\"1\" /><path clip-path=\"url(#clip790)\" d=\"M 0 0 M1988.34 1518.56 L2001.59 1518.56 L2001.59 1521.76 L1983.76 1521.76 L1983.76 1518.56 Q1985.93 1516.33 1989.65 1512.56 Q1993.39 1508.78 1994.35 1507.69 Q1996.18 1505.64 1996.89 1504.23 Q1997.63 1502.8 1997.63 1501.43 Q1997.63 1499.19 1996.05 1497.78 Q1994.49 1496.37 1991.96 1496.37 Q1990.18 1496.37 1988.18 1496.99 Q1986.21 1497.61 1983.95 1498.87 L1983.95 1495.04 Q1986.25 1494.11 1988.24 1493.64 Q1990.23 1493.17 1991.89 1493.17 Q1996.25 1493.17 1998.85 1495.36 Q2001.44 1497.54 2001.44 1501.19 Q2001.44 1502.92 2000.79 1504.48 Q2000.15 1506.02 1998.43 1508.13 Q1997.96 1508.67 1995.44 1511.29 Q1992.92 1513.88 1988.34 1518.56 Z\" fill=\"#000000\" fill-rule=\"evenodd\" fill-opacity=\"1\" /><path clip-path=\"url(#clip790)\" d=\"M 0 0 M2005.71 1516.98 L2009.68 1516.98 L2009.68 1521.76 L2005.71 1521.76 L2005.71 1516.98 Z\" fill=\"#000000\" fill-rule=\"evenodd\" fill-opacity=\"1\" /><path clip-path=\"url(#clip790)\" d=\"M 0 0 M2021.93 1496.18 Q2018.99 1496.18 2017.51 1499.08 Q2016.04 1501.96 2016.04 1507.75 Q2016.04 1513.52 2017.51 1516.42 Q2018.99 1519.3 2021.93 1519.3 Q2024.88 1519.3 2026.35 1516.42 Q2027.83 1513.52 2027.83 1507.75 Q2027.83 1501.96 2026.35 1499.08 Q2024.88 1496.18 2021.93 1496.18 M2021.93 1493.17 Q2026.65 1493.17 2029.13 1496.92 Q2031.63 1500.64 2031.63 1507.75 Q2031.63 1514.84 2029.13 1518.58 Q2026.65 1522.31 2021.93 1522.31 Q2017.2 1522.31 2014.7 1518.58 Q2012.22 1514.84 2012.22 1507.75 Q2012.22 1500.64 2014.7 1496.92 Q2017.2 1493.17 2021.93 1493.17 Z\" fill=\"#000000\" fill-rule=\"evenodd\" fill-opacity=\"1\" /><path clip-path=\"url(#clip790)\" d=\"M 0 0 M75.4226 1459.96 Q71.8115 1459.96 69.9828 1463.53 Q68.1773 1467.07 68.1773 1474.2 Q68.1773 1481.31 69.9828 1484.87 Q71.8115 1488.41 75.4226 1488.41 Q79.0569 1488.41 80.8624 1484.87 Q82.6911 1481.31 82.6911 1474.2 Q82.6911 1467.07 80.8624 1463.53 Q79.0569 1459.96 75.4226 1459.96 M75.4226 1456.26 Q81.2328 1456.26 84.2883 1460.87 Q87.367 1465.45 87.367 1474.2 Q87.367 1482.93 84.2883 1487.53 Q81.2328 1492.12 75.4226 1492.12 Q69.6125 1492.12 66.5338 1487.53 Q63.4782 1482.93 63.4782 1474.2 Q63.4782 1465.45 66.5338 1460.87 Q69.6125 1456.26 75.4226 1456.26 Z\" fill=\"#000000\" fill-rule=\"evenodd\" fill-opacity=\"1\" /><path clip-path=\"url(#clip790)\" d=\"M 0 0 M92.4364 1485.57 L97.3206 1485.57 L97.3206 1491.44 L92.4364 1491.44 L92.4364 1485.57 Z\" fill=\"#000000\" fill-rule=\"evenodd\" fill-opacity=\"1\" /><path clip-path=\"url(#clip790)\" d=\"M 0 0 M112.39 1459.96 Q108.779 1459.96 106.95 1463.53 Q105.145 1467.07 105.145 1474.2 Q105.145 1481.31 106.95 1484.87 Q108.779 1488.41 112.39 1488.41 Q116.024 1488.41 117.83 1484.87 Q119.658 1481.31 119.658 1474.2 Q119.658 1467.07 117.83 1463.53 Q116.024 1459.96 112.39 1459.96 M112.39 1456.26 Q118.2 1456.26 121.256 1460.87 Q124.334 1465.45 124.334 1474.2 Q124.334 1482.93 121.256 1487.53 Q118.2 1492.12 112.39 1492.12 Q106.58 1492.12 103.501 1487.53 Q100.446 1482.93 100.446 1474.2 Q100.446 1465.45 103.501 1460.87 Q106.58 1456.26 112.39 1456.26 Z\" fill=\"#000000\" fill-rule=\"evenodd\" fill-opacity=\"1\" /><path clip-path=\"url(#clip790)\" d=\"M 0 0 M77.0198 1174.58 Q73.4087 1174.58 71.58 1178.14 Q69.7745 1181.69 69.7745 1188.82 Q69.7745 1195.92 71.58 1199.49 Q73.4087 1203.03 77.0198 1203.03 Q80.6541 1203.03 82.4596 1199.49 Q84.2883 1195.92 84.2883 1188.82 Q84.2883 1181.69 82.4596 1178.14 Q80.6541 1174.58 77.0198 1174.58 M77.0198 1170.88 Q82.83 1170.88 85.8855 1175.48 Q88.9642 1180.07 88.9642 1188.82 Q88.9642 1197.54 85.8855 1202.15 Q82.83 1206.73 77.0198 1206.73 Q71.2097 1206.73 68.131 1202.15 Q65.0754 1197.54 65.0754 1188.82 Q65.0754 1180.07 68.131 1175.48 Q71.2097 1170.88 77.0198 1170.88 Z\" fill=\"#000000\" fill-rule=\"evenodd\" fill-opacity=\"1\" /><path clip-path=\"url(#clip790)\" d=\"M 0 0 M94.0336 1200.18 L98.9179 1200.18 L98.9179 1206.06 L94.0336 1206.06 L94.0336 1200.18 Z\" fill=\"#000000\" fill-rule=\"evenodd\" fill-opacity=\"1\" /><path clip-path=\"url(#clip790)\" d=\"M 0 0 M108.015 1202.13 L124.334 1202.13 L124.334 1206.06 L102.39 1206.06 L102.39 1202.13 Q105.052 1199.37 109.635 1194.74 Q114.242 1190.09 115.422 1188.75 Q117.668 1186.22 118.547 1184.49 Q119.45 1182.73 119.45 1181.04 Q119.45 1178.28 117.506 1176.55 Q115.584 1174.81 112.483 1174.81 Q110.284 1174.81 107.83 1175.57 Q105.399 1176.34 102.622 1177.89 L102.622 1173.17 Q105.446 1172.03 107.899 1171.45 Q110.353 1170.88 112.39 1170.88 Q117.76 1170.88 120.955 1173.56 Q124.149 1176.25 124.149 1180.74 Q124.149 1182.87 123.339 1184.79 Q122.552 1186.69 120.446 1189.28 Q119.867 1189.95 116.765 1193.17 Q113.663 1196.36 108.015 1202.13 Z\" fill=\"#000000\" fill-rule=\"evenodd\" fill-opacity=\"1\" /><path clip-path=\"url(#clip790)\" d=\"M 0 0 M74.9365 889.195 Q71.3254 889.195 69.4967 892.76 Q67.6912 896.302 67.6912 903.431 Q67.6912 910.538 69.4967 914.102 Q71.3254 917.644 74.9365 917.644 Q78.5707 917.644 80.3763 914.102 Q82.205 910.538 82.205 903.431 Q82.205 896.302 80.3763 892.76 Q78.5707 889.195 74.9365 889.195 M74.9365 885.491 Q80.7467 885.491 83.8022 890.098 Q86.8809 894.681 86.8809 903.431 Q86.8809 912.158 83.8022 916.764 Q80.7467 921.348 74.9365 921.348 Q69.1264 921.348 66.0477 916.764 Q62.9921 912.158 62.9921 903.431 Q62.9921 894.681 66.0477 890.098 Q69.1264 885.491 74.9365 885.491 Z\" fill=\"#000000\" fill-rule=\"evenodd\" fill-opacity=\"1\" /><path clip-path=\"url(#clip790)\" d=\"M 0 0 M91.9503 914.797 L96.8345 914.797 L96.8345 920.676 L91.9503 920.676 L91.9503 914.797 Z\" fill=\"#000000\" fill-rule=\"evenodd\" fill-opacity=\"1\" /><path clip-path=\"url(#clip790)\" d=\"M 0 0 M114.751 890.19 L102.946 908.639 L114.751 908.639 L114.751 890.19 M113.524 886.116 L119.404 886.116 L119.404 908.639 L124.334 908.639 L124.334 912.528 L119.404 912.528 L119.404 920.676 L114.751 920.676 L114.751 912.528 L99.1493 912.528 L99.1493 908.014 L113.524 886.116 Z\" fill=\"#000000\" fill-rule=\"evenodd\" fill-opacity=\"1\" /><path clip-path=\"url(#clip790)\" d=\"M 0 0 M75.2606 603.811 Q71.6495 603.811 69.8208 607.376 Q68.0152 610.917 68.0152 618.047 Q68.0152 625.153 69.8208 628.718 Q71.6495 632.26 75.2606 632.26 Q78.8948 632.26 80.7004 628.718 Q82.5291 625.153 82.5291 618.047 Q82.5291 610.917 80.7004 607.376 Q78.8948 603.811 75.2606 603.811 M75.2606 600.107 Q81.0707 600.107 84.1263 604.714 Q87.205 609.297 87.205 618.047 Q87.205 626.774 84.1263 631.38 Q81.0707 635.964 75.2606 635.964 Q69.4504 635.964 66.3717 631.38 Q63.3162 626.774 63.3162 618.047 Q63.3162 609.297 66.3717 604.714 Q69.4504 600.107 75.2606 600.107 Z\" fill=\"#000000\" fill-rule=\"evenodd\" fill-opacity=\"1\" /><path clip-path=\"url(#clip790)\" d=\"M 0 0 M92.2744 629.413 L97.1586 629.413 L97.1586 635.292 L92.2744 635.292 L92.2744 629.413 Z\" fill=\"#000000\" fill-rule=\"evenodd\" fill-opacity=\"1\" /><path clip-path=\"url(#clip790)\" d=\"M 0 0 M112.807 616.149 Q109.659 616.149 107.807 618.302 Q105.978 620.454 105.978 624.204 Q105.978 627.931 107.807 630.107 Q109.659 632.26 112.807 632.26 Q115.955 632.26 117.783 630.107 Q119.635 627.931 119.635 624.204 Q119.635 620.454 117.783 618.302 Q115.955 616.149 112.807 616.149 M122.089 601.496 L122.089 605.755 Q120.33 604.922 118.524 604.482 Q116.742 604.042 114.983 604.042 Q110.353 604.042 107.899 607.167 Q105.469 610.292 105.122 616.612 Q106.487 614.598 108.547 613.533 Q110.608 612.445 113.084 612.445 Q118.293 612.445 121.302 615.617 Q124.334 618.765 124.334 624.204 Q124.334 629.528 121.186 632.746 Q118.038 635.964 112.807 635.964 Q106.811 635.964 103.64 631.38 Q100.469 626.774 100.469 618.047 Q100.469 609.853 104.358 604.992 Q108.247 600.107 114.797 600.107 Q116.557 600.107 118.339 600.455 Q120.145 600.802 122.089 601.496 Z\" fill=\"#000000\" fill-rule=\"evenodd\" fill-opacity=\"1\" /><path clip-path=\"url(#clip790)\" d=\"M 0 0 M75.5152 318.427 Q71.9041 318.427 70.0754 321.992 Q68.2699 325.533 68.2699 332.663 Q68.2699 339.769 70.0754 343.334 Q71.9041 346.876 75.5152 346.876 Q79.1494 346.876 80.955 343.334 Q82.7837 339.769 82.7837 332.663 Q82.7837 325.533 80.955 321.992 Q79.1494 318.427 75.5152 318.427 M75.5152 314.723 Q81.3254 314.723 84.3809 319.33 Q87.4596 323.913 87.4596 332.663 Q87.4596 341.39 84.3809 345.996 Q81.3254 350.58 75.5152 350.58 Q69.7051 350.58 66.6264 345.996 Q63.5708 341.39 63.5708 332.663 Q63.5708 323.913 66.6264 319.33 Q69.7051 314.723 75.5152 314.723 Z\" fill=\"#000000\" fill-rule=\"evenodd\" fill-opacity=\"1\" /><path clip-path=\"url(#clip790)\" d=\"M 0 0 M92.529 344.029 L97.4132 344.029 L97.4132 349.908 L92.529 349.908 L92.529 344.029 Z\" fill=\"#000000\" fill-rule=\"evenodd\" fill-opacity=\"1\" /><path clip-path=\"url(#clip790)\" d=\"M 0 0 M112.483 333.496 Q109.149 333.496 107.228 335.279 Q105.33 337.061 105.33 340.186 Q105.33 343.311 107.228 345.093 Q109.149 346.876 112.483 346.876 Q115.816 346.876 117.737 345.093 Q119.658 343.288 119.658 340.186 Q119.658 337.061 117.737 335.279 Q115.839 333.496 112.483 333.496 M107.807 331.506 Q104.797 330.765 103.108 328.705 Q101.441 326.644 101.441 323.681 Q101.441 319.538 104.381 317.131 Q107.344 314.723 112.483 314.723 Q117.645 314.723 120.584 317.131 Q123.524 319.538 123.524 323.681 Q123.524 326.644 121.834 328.705 Q120.168 330.765 117.182 331.506 Q120.561 332.293 122.436 334.584 Q124.334 336.876 124.334 340.186 Q124.334 345.209 121.256 347.894 Q118.2 350.58 112.483 350.58 Q106.765 350.58 103.686 347.894 Q100.631 345.209 100.631 340.186 Q100.631 336.876 102.529 334.584 Q104.427 332.293 107.807 331.506 M106.094 324.121 Q106.094 326.806 107.76 328.311 Q109.45 329.816 112.483 329.816 Q115.492 329.816 117.182 328.311 Q118.895 326.806 118.895 324.121 Q118.895 321.436 117.182 319.932 Q115.492 318.427 112.483 318.427 Q109.45 318.427 107.76 319.932 Q106.094 321.436 106.094 324.121 Z\" fill=\"#000000\" fill-rule=\"evenodd\" fill-opacity=\"1\" /><path clip-path=\"url(#clip790)\" d=\"M 0 0 M67.4597 60.5889 L75.0985 60.5889 L75.0985 34.2233 L66.7884 35.89 L66.7884 31.6308 L75.0522 29.9641 L79.7281 29.9641 L79.7281 60.5889 L87.367 60.5889 L87.367 64.5241 L67.4597 64.5241 L67.4597 60.5889 Z\" fill=\"#000000\" fill-rule=\"evenodd\" fill-opacity=\"1\" /><path clip-path=\"url(#clip790)\" d=\"M 0 0 M92.4364 58.6445 L97.3206 58.6445 L97.3206 64.5241 L92.4364 64.5241 L92.4364 58.6445 Z\" fill=\"#000000\" fill-rule=\"evenodd\" fill-opacity=\"1\" /><path clip-path=\"url(#clip790)\" d=\"M 0 0 M112.39 33.0428 Q108.779 33.0428 106.95 36.6076 Q105.145 40.1492 105.145 47.2788 Q105.145 54.3853 106.95 57.9501 Q108.779 61.4917 112.39 61.4917 Q116.024 61.4917 117.83 57.9501 Q119.658 54.3853 119.658 47.2788 Q119.658 40.1492 117.83 36.6076 Q116.024 33.0428 112.39 33.0428 M112.39 29.3391 Q118.2 29.3391 121.256 33.9456 Q124.334 38.5289 124.334 47.2788 Q124.334 56.0056 121.256 60.6121 Q118.2 65.1954 112.39 65.1954 Q106.58 65.1954 103.501 60.6121 Q100.446 56.0056 100.446 47.2788 Q100.446 38.5289 103.501 33.9456 Q106.58 29.3391 112.39 29.3391 Z\" fill=\"#000000\" fill-rule=\"evenodd\" fill-opacity=\"1\" /><polyline clip-path=\"url(#clip792)\" style=\"stroke:#009af9; stroke-width:8; stroke-opacity:1; fill:none\" points=\"\n",
       "  210.724,665.576 259.373,618.012 302.559,618.012 341.386,618.012 376.654,618.012 408.961,618.012 438.766,618.012 452.845,618.012 466.428,618.012 473.044,618.012 \n",
       "  479.548,618.012 485.945,618.012 492.236,618.012 495.344,618.012 498.427,618.012 501.485,570.448 504.519,570.448 507.529,570.448 510.517,570.448 513.481,570.448 \n",
       "  516.422,570.448 527.968,570.448 539.178,570.448 560.664,570.448 581.014,570.448 590.8,570.448 600.343,570.448 609.655,570.448 618.747,570.448 623.214,570.448 \n",
       "  627.63,570.448 629.819,570.448 631.995,570.448 634.16,522.884 636.312,522.884 638.452,522.884 640.581,522.884 642.697,522.884 644.802,522.884 648.979,522.884 \n",
       "  653.11,522.884 671.654,522.884 689.346,522.884 706.261,522.884 722.464,522.884 738.012,522.884 752.957,475.32 767.343,475.32 781.211,427.756 794.597,427.756 \n",
       "  807.533,427.756 820.049,427.756 832.171,427.756 855.326,427.756 877.167,427.756 953.917,427.756 1017.88,427.756 1072.72,427.756 1120.71,427.756 1163.38,427.756 \n",
       "  1201.79,427.756 1210.82,427.756 1219.64,427.756 1223.98,427.756 1228.27,427.756 1232.51,427.756 1236.71,427.756 1240.86,380.192 1244.96,380.192 1249.03,380.192 \n",
       "  1253.05,380.192 1260.97,380.192 1268.72,380.192 1283.79,380.192 1298.28,380.192 1312.25,380.192 1325.73,380.192 1375.37,380.192 1419.34,380.192 1431.63,380.192 \n",
       "  1443.54,380.192 1446.46,380.192 1449.35,380.192 1450.8,380.192 1452.23,380.192 1453.66,380.192 1455.09,380.192 1456.51,380.192 1457.92,332.628 1459.33,332.628 \n",
       "  1460.73,332.628 1463.53,332.628 1466.3,332.628 1471.79,332.628 1477.2,332.628 1482.53,332.628 1487.79,332.628 1498.1,332.628 1508.15,332.628 1545.89,332.628 \n",
       "  1580.26,332.628 1632.2,332.628 1677.95,332.628 1761.84,332.628 1825.73,332.628 1884.17,332.628 1942.37,332.628 1987.61,332.628 2023.32,332.628 2058.82,332.628 \n",
       "  2091.51,332.628 2124.69,332.628 2153.81,332.628 2181.91,332.628 2204.08,332.628 2217.01,332.628 2229.52,332.628 2235.26,332.628 2240.92,332.628 2243.72,332.628 \n",
       "  2246.49,332.628 2247.88,332.628 2249.25,332.628 2249.94,332.628 2250.62,332.628 2250.97,332.628 2251.31,332.628 2251.48,332.628 2251.65,332.628 2251.82,285.064 \n",
       "  2251.99,285.064 2252.26,285.064 2252.54,285.064 2252.81,285.064 2253.08,285.064 2253.63,285.064 2254.17,285.064 2255.26,285.064 2256.34,285.064 2258.49,285.064 \n",
       "  2260.64,285.064 2264.89,285.064 2269.09,285.064 2277.36,285.064 2285.46,285.064 2286.7,285.064 2287.92,285.064 2289.15,285.064 2290.37,285.064 \n",
       "  \"/>\n",
       "<polyline clip-path=\"url(#clip792)\" style=\"stroke:#e26f46; stroke-width:8; stroke-opacity:1; fill:none\" points=\"\n",
       "  210.724,855.832 259.373,855.832 302.559,855.832 341.386,855.832 376.654,855.832 408.961,855.832 438.766,855.832 445.87,855.832 452.845,855.832 459.697,855.832 \n",
       "  466.428,855.832 469.751,855.832 473.044,855.832 476.31,855.832 479.548,760.704 482.76,760.704 485.945,760.704 489.103,760.704 492.236,760.704 504.519,760.704 \n",
       "  516.422,760.704 527.968,760.704 539.178,760.704 544.663,760.704 550.071,760.704 552.747,760.704 555.404,760.704 558.043,760.704 560.664,760.704 563.268,760.704 \n",
       "  565.854,713.14 568.422,713.14 570.974,665.576 573.509,618.012 576.027,618.012 578.529,618.012 581.014,618.012 585.938,618.012 590.8,618.012 595.601,618.012 \n",
       "  600.343,618.012 609.655,618.012 618.747,618.012 623.214,618.012 627.63,618.012 629.819,618.012 631.995,618.012 634.16,570.448 636.312,570.448 638.452,570.448 \n",
       "  640.581,570.448 642.697,570.448 644.802,570.448 648.979,570.448 653.11,570.448 671.654,570.448 689.346,570.448 706.261,522.884 722.464,522.884 738.012,522.884 \n",
       "  752.957,522.884 767.343,522.884 781.211,522.884 807.533,522.884 832.171,522.884 843.922,522.884 855.326,522.884 866.401,522.884 877.167,475.32 887.64,475.32 \n",
       "  897.836,475.32 907.768,475.32 917.451,475.32 936.116,475.32 953.917,475.32 987.226,475.32 1017.88,475.32 1025.18,475.32 1032.34,475.32 1039.37,475.32 \n",
       "  1046.28,475.32 1053.06,475.32 1059.72,427.756 1066.28,427.756 1072.72,427.756 1085.29,427.756 1097.46,427.756 1109.26,427.756 1120.71,427.756 1131.83,427.756 \n",
       "  1142.63,427.756 1153.15,427.756 1163.38,427.756 1168.39,427.756 1173.34,427.756 1178.23,380.192 1183.06,380.192 1187.83,380.192 1192.54,380.192 1197.19,380.192 \n",
       "  1201.79,380.192 1219.64,380.192 1236.71,380.192 1253.05,380.192 1268.72,380.192 1298.28,380.192 1325.73,380.192 1338.75,380.192 1351.35,380.192 1363.55,380.192 \n",
       "  1375.37,380.192 1378.27,380.192 1381.15,380.192 1384.01,380.192 1386.85,380.192 1389.66,380.192 1392.46,332.628 1395.23,332.628 1397.99,332.628 1403.44,332.628 \n",
       "  1408.81,332.628 1414.11,332.628 1419.34,332.628 1431.63,332.628 1443.54,332.628 1455.09,332.628 1466.3,332.628 1487.79,332.628 1508.15,332.628 1545.89,332.628 \n",
       "  1580.26,332.628 1632.2,332.628 1677.95,332.628 1761.84,332.628 1825.73,332.628 1884.17,332.628 1942.37,332.628 1987.61,332.628 2023.32,332.628 2058.82,332.628 \n",
       "  2091.51,332.628 2124.69,332.628 2153.81,332.628 2181.91,332.628 2204.08,332.628 2229.52,332.628 2251.99,332.628 2285.46,332.628 2290.37,332.628 \n",
       "  \"/>\n",
       "<polyline clip-path=\"url(#clip792)\" style=\"stroke:#3da44d; stroke-width:8; stroke-opacity:1; fill:none\" points=\"\n",
       "  210.724,1426.6 235.816,1426.6 259.373,1379.04 281.571,1379.04 302.559,1379.04 322.462,1379.04 341.386,1379.04 350.51,1379.04 359.424,1379.04 363.804,1379.04 \n",
       "  368.135,1331.47 372.418,1331.47 376.654,1331.47 393.146,1331.47 408.961,1331.47 416.631,1331.47 424.152,1331.47 427.858,1331.47 431.528,1331.47 435.164,1331.47 \n",
       "  438.766,1331.47 442.334,1283.91 445.87,1283.91 449.374,1283.91 452.845,1283.91 456.286,1283.91 459.697,1236.34 463.077,1236.34 466.428,1236.34 469.751,1236.34 \n",
       "  473.044,1236.34 476.31,1236.34 479.548,1188.78 482.76,1188.78 485.945,1188.78 489.103,1188.78 492.236,1188.78 495.344,1188.78 498.427,1188.78 501.485,1093.65 \n",
       "  504.519,1093.65 507.529,1093.65 510.517,1093.65 513.481,1093.65 516.422,1093.65 527.968,1093.65 539.178,1093.65 560.664,1093.65 581.014,1093.65 590.8,1093.65 \n",
       "  600.343,1093.65 609.655,1093.65 618.747,1093.65 623.214,1093.65 627.63,1093.65 629.819,1093.65 631.995,1093.65 634.16,998.524 636.312,998.524 638.452,998.524 \n",
       "  640.581,998.524 642.697,998.524 644.802,998.524 646.896,998.524 648.979,998.524 651.05,950.96 653.11,950.96 671.654,950.96 689.346,950.96 706.261,855.832 \n",
       "  722.464,855.832 738.012,855.832 752.957,760.704 767.343,760.704 781.211,760.704 794.597,713.14 807.533,713.14 820.049,713.14 832.171,665.576 843.922,665.576 \n",
       "  855.326,618.012 866.401,618.012 877.167,618.012 897.836,618.012 917.451,618.012 926.897,618.012 936.116,618.012 945.119,570.448 953.917,570.448 970.932,570.448 \n",
       "  987.226,570.448 1002.86,570.448 1017.88,570.448 1046.28,570.448 1072.72,570.448 1079.05,570.448 1085.29,570.448 1091.42,570.448 1097.46,522.884 1103.41,522.884 \n",
       "  1109.26,522.884 1115.03,522.884 1120.71,522.884 1131.83,522.884 1142.63,522.884 1147.93,522.884 1153.15,522.884 1158.3,522.884 1163.38,522.884 1168.39,475.32 \n",
       "  1173.34,475.32 1178.23,475.32 1183.06,475.32 1192.54,475.32 1201.79,475.32 1219.64,475.32 1236.71,475.32 1244.96,475.32 1253.05,475.32 1257.03,475.32 \n",
       "  1260.97,475.32 1264.86,427.756 1268.72,427.756 1276.33,427.756 1283.79,427.756 1291.1,427.756 1298.28,427.756 1312.25,427.756 1325.73,427.756 1351.35,427.756 \n",
       "  1375.37,427.756 1386.85,427.756 1397.99,427.756 1400.72,427.756 1403.44,427.756 1406.13,427.756 1408.81,427.756 1411.47,380.192 1414.11,380.192 1416.74,380.192 \n",
       "  1419.34,380.192 1431.63,380.192 1443.54,380.192 1455.09,380.192 1466.3,380.192 1467.68,380.192 1469.05,380.192 1470.42,380.192 1471.79,380.192 1473.15,332.628 \n",
       "  1474.5,332.628 1475.85,332.628 1477.2,332.628 1482.53,332.628 1487.79,332.628 1498.1,332.628 1508.15,332.628 1545.89,332.628 1580.26,332.628 1632.2,332.628 \n",
       "  1677.95,332.628 1683.77,332.628 1689.49,332.628 1692.33,332.628 1695.14,332.628 1696.54,332.628 1697.93,332.628 1698.62,332.628 1699.32,332.628 1700.01,332.628 \n",
       "  1700.7,332.628 1701.39,285.064 1702.08,285.064 1702.77,285.064 1703.45,285.064 1704.82,285.064 1706.18,285.064 1708.9,285.064 1711.59,285.064 1716.92,285.064 \n",
       "  1722.18,285.064 1742.52,285.064 1761.84,285.064 1778.83,285.064 1795.11,285.064 1810.72,285.064 1825.73,285.064 1827.7,285.064 1829.65,285.064 1831.6,285.064 \n",
       "  1833.54,285.064 1834.02,285.064 1834.5,285.064 1834.99,285.064 1835.47,237.5 1835.95,237.5 1836.43,237.5 1836.91,237.5 1837.38,237.5 1839.29,237.5 \n",
       "  1841.19,237.5 1848.7,237.5 1856.06,237.5 1870.37,237.5 1884.17,237.5 1914.37,237.5 1942.37,237.5 1987.61,237.5 2023.32,237.5 2058.82,237.5 \n",
       "  2091.51,237.5 2124.69,237.5 2153.81,237.5 2181.91,237.5 2204.08,237.5 2229.52,237.5 2251.99,237.5 2285.46,189.936 2290.37,189.936 \n",
       "  \"/>\n",
       "<path clip-path=\"url(#clip790)\" d=\"\n",
       "M1976.35 1426.6 L2279.28 1426.6 L2279.28 1184.68 L1976.35 1184.68  Z\n",
       "  \" fill=\"#ffffff\" fill-rule=\"evenodd\" fill-opacity=\"1\"/>\n",
       "<polyline clip-path=\"url(#clip790)\" style=\"stroke:#000000; stroke-width:4; stroke-opacity:1; fill:none\" points=\"\n",
       "  1976.35,1426.6 2279.28,1426.6 2279.28,1184.68 1976.35,1184.68 1976.35,1426.6 \n",
       "  \"/>\n",
       "<polyline clip-path=\"url(#clip790)\" style=\"stroke:#009af9; stroke-width:4; stroke-opacity:1; fill:none\" points=\"\n",
       "  2000.85,1245.16 2147.81,1245.16 \n",
       "  \"/>\n",
       "<path clip-path=\"url(#clip790)\" d=\"M 0 0 M2172.3 1227.88 L2179.27 1227.88 L2188.09 1251.4 L2196.95 1227.88 L2203.92 1227.88 L2203.92 1262.44 L2199.36 1262.44 L2199.36 1232.09 L2190.45 1255.8 L2185.75 1255.8 L2176.84 1232.09 L2176.84 1262.44 L2172.3 1262.44 L2172.3 1227.88 Z\" fill=\"#000000\" fill-rule=\"evenodd\" fill-opacity=\"1\" /><path clip-path=\"url(#clip790)\" d=\"M 0 0 M2209.8 1258.51 L2217.44 1258.51 L2217.44 1232.14 L2209.13 1233.81 L2209.13 1229.55 L2217.39 1227.88 L2222.07 1227.88 L2222.07 1258.51 L2229.71 1258.51 L2229.71 1262.44 L2209.8 1262.44 L2209.8 1258.51 Z\" fill=\"#000000\" fill-rule=\"evenodd\" fill-opacity=\"1\" /><polyline clip-path=\"url(#clip790)\" style=\"stroke:#e26f46; stroke-width:4; stroke-opacity:1; fill:none\" points=\"\n",
       "  2000.85,1305.64 2147.81,1305.64 \n",
       "  \"/>\n",
       "<path clip-path=\"url(#clip790)\" d=\"M 0 0 M2172.3 1288.36 L2179.27 1288.36 L2188.09 1311.88 L2196.95 1288.36 L2203.92 1288.36 L2203.92 1322.92 L2199.36 1322.92 L2199.36 1292.57 L2190.45 1316.28 L2185.75 1316.28 L2176.84 1292.57 L2176.84 1322.92 L2172.3 1322.92 L2172.3 1288.36 Z\" fill=\"#000000\" fill-rule=\"evenodd\" fill-opacity=\"1\" /><path clip-path=\"url(#clip790)\" d=\"M 0 0 M2213.02 1318.99 L2229.34 1318.99 L2229.34 1322.92 L2207.39 1322.92 L2207.39 1318.99 Q2210.06 1316.23 2214.64 1311.6 Q2219.25 1306.95 2220.43 1305.61 Q2222.67 1303.08 2223.55 1301.35 Q2224.45 1299.59 2224.45 1297.9 Q2224.45 1295.14 2222.51 1293.41 Q2220.59 1291.67 2217.49 1291.67 Q2215.29 1291.67 2212.83 1292.43 Q2210.4 1293.2 2207.63 1294.75 L2207.63 1290.03 Q2210.45 1288.89 2212.9 1288.31 Q2215.36 1287.74 2217.39 1287.74 Q2222.76 1287.74 2225.96 1290.42 Q2229.15 1293.11 2229.15 1297.6 Q2229.15 1299.73 2228.34 1301.65 Q2227.56 1303.55 2225.45 1306.14 Q2224.87 1306.81 2221.77 1310.03 Q2218.67 1313.22 2213.02 1318.99 Z\" fill=\"#000000\" fill-rule=\"evenodd\" fill-opacity=\"1\" /><polyline clip-path=\"url(#clip790)\" style=\"stroke:#3da44d; stroke-width:4; stroke-opacity:1; fill:none\" points=\"\n",
       "  2000.85,1366.12 2147.81,1366.12 \n",
       "  \"/>\n",
       "<path clip-path=\"url(#clip790)\" d=\"M 0 0 M2172.3 1348.84 L2179.27 1348.84 L2188.09 1372.36 L2196.95 1348.84 L2203.92 1348.84 L2203.92 1383.4 L2199.36 1383.4 L2199.36 1353.05 L2190.45 1376.76 L2185.75 1376.76 L2176.84 1353.05 L2176.84 1383.4 L2172.3 1383.4 L2172.3 1348.84 Z\" fill=\"#000000\" fill-rule=\"evenodd\" fill-opacity=\"1\" /><path clip-path=\"url(#clip790)\" d=\"M 0 0 M2223.16 1364.77 Q2226.51 1365.48 2228.39 1367.75 Q2230.29 1370.02 2230.29 1373.35 Q2230.29 1378.47 2226.77 1381.27 Q2223.25 1384.07 2216.77 1384.07 Q2214.59 1384.07 2212.28 1383.63 Q2209.99 1383.22 2207.53 1382.36 L2207.53 1377.85 Q2209.48 1378.98 2211.79 1379.56 Q2214.11 1380.14 2216.63 1380.14 Q2221.03 1380.14 2223.32 1378.4 Q2225.64 1376.66 2225.64 1373.35 Q2225.64 1370.3 2223.48 1368.59 Q2221.35 1366.85 2217.53 1366.85 L2213.51 1366.85 L2213.51 1363.01 L2217.72 1363.01 Q2221.17 1363.01 2223 1361.64 Q2224.83 1360.25 2224.83 1357.66 Q2224.83 1355 2222.93 1353.59 Q2221.05 1352.15 2217.53 1352.15 Q2215.61 1352.15 2213.41 1352.57 Q2211.21 1352.98 2208.58 1353.86 L2208.58 1349.7 Q2211.24 1348.96 2213.55 1348.59 Q2215.89 1348.22 2217.95 1348.22 Q2223.27 1348.22 2226.38 1350.65 Q2229.48 1353.05 2229.48 1357.17 Q2229.48 1360.04 2227.83 1362.04 Q2226.19 1364 2223.16 1364.77 Z\" fill=\"#000000\" fill-rule=\"evenodd\" fill-opacity=\"1\" /></svg>\n"
      ]
     },
     "execution_count": 225,
     "metadata": {},
     "output_type": "execute_result"
    }
   ],
   "source": [
    "τmax = unique(sort(R[:]))[end-1]\n",
    "plot(leg=:bottomright, xaxis=:log)\n",
    "for k = 1:3\n",
    "    plot!(τ -> ρ(τ, k), 1.0, 1.1τmax, lab=\"M$k\", lw=2)\n",
    "end\n",
    "ylims!(0, 1)"
   ]
  },
  {
   "cell_type": "code",
   "execution_count": null,
   "metadata": {},
   "outputs": [],
   "source": []
  },
  {
   "cell_type": "code",
   "execution_count": null,
   "metadata": {},
   "outputs": [],
   "source": []
  },
  {
   "cell_type": "code",
   "execution_count": null,
   "metadata": {},
   "outputs": [],
   "source": []
  },
  {
   "cell_type": "code",
   "execution_count": null,
   "metadata": {},
   "outputs": [],
   "source": []
  },
  {
   "cell_type": "code",
   "execution_count": null,
   "metadata": {},
   "outputs": [],
   "source": []
  }
 ],
 "metadata": {
  "kernelspec": {
   "display_name": "Julia 1.5.0",
   "language": "julia",
   "name": "julia-1.5"
  },
  "language_info": {
   "file_extension": ".jl",
   "mimetype": "application/julia",
   "name": "julia",
   "version": "1.5.1"
  }
 },
 "nbformat": 4,
 "nbformat_minor": 4
}
